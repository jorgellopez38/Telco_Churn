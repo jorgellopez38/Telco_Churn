{
 "cells": [
  {
   "cell_type": "markdown",
   "id": "premier-milan",
   "metadata": {},
   "source": [
    "# Churn At Telco\n"
   ]
  },
  {
   "cell_type": "markdown",
   "id": "a9d56380",
   "metadata": {},
   "source": [
    "# Project Goals\n",
    "\n",
    "- Discover drivers of churn at Telco\n",
    "- Use drivers to develop a machine learning model that accurately predicts customer churn\n",
    "- Churning is defined as a customer cutting ties with the service(s) Telco provides\n",
    "- This information could be used to further our understanding of how customers at Telco (and simliar companies) think and help other companies better understand consumer behavior\n"
   ]
  },
  {
   "cell_type": "markdown",
   "id": "going-assembly",
   "metadata": {},
   "source": [
    "## Imports"
   ]
  },
  {
   "cell_type": "code",
   "execution_count": 2,
   "id": "divided-poster",
   "metadata": {},
   "outputs": [],
   "source": [
    "# imports\n",
    "import numpy as np\n",
    "import pandas as pd\n",
    "import matplotlib.pyplot as plt\n",
    "import seaborn as sns\n",
    "from scipy import stats\n",
    "# machine learning imports \n",
    "from sklearn.model_selection import train_test_split\n",
    "from sklearn.tree import DecisionTreeClassifier, plot_tree\n",
    "from sklearn.metrics import classification_report, confusion_matrix, plot_confusion_matrix, accuracy_score, precision_score, recall_score\n",
    "from pydataset import data\n",
    "from sklearn.ensemble import RandomForestClassifier \n",
    "from sklearn.linear_model import LogisticRegression\n",
    "from sklearn.neighbors import KNeighborsClassifier\n",
    "# import premade functions\n",
    "import prepare\n",
    "import acquire\n",
    "import modeling\n",
    "\n",
    "#Removes big scary warnings\n",
    "import warnings\n",
    "warnings.filterwarnings('ignore')"
   ]
  },
  {
   "cell_type": "markdown",
   "id": "criminal-glory",
   "metadata": {},
   "source": [
    "## Acquire\n",
    "\n",
    "* Data aquired from SQL telco_churn database\n",
    "* It contained 7043 rows and 24 columns before cleaning\n",
    "* Each row represents a customer\n",
    "* Each column represents a feature associated of the customer\n"
   ]
  },
  {
   "cell_type": "code",
   "execution_count": 3,
   "id": "paperback-gather",
   "metadata": {},
   "outputs": [
    {
     "data": {
      "text/html": [
       "<div>\n",
       "<style scoped>\n",
       "    .dataframe tbody tr th:only-of-type {\n",
       "        vertical-align: middle;\n",
       "    }\n",
       "\n",
       "    .dataframe tbody tr th {\n",
       "        vertical-align: top;\n",
       "    }\n",
       "\n",
       "    .dataframe thead th {\n",
       "        text-align: right;\n",
       "    }\n",
       "</style>\n",
       "<table border=\"1\" class=\"dataframe\">\n",
       "  <thead>\n",
       "    <tr style=\"text-align: right;\">\n",
       "      <th></th>\n",
       "      <th>payment_type_id</th>\n",
       "      <th>internet_service_type_id</th>\n",
       "      <th>contract_type_id</th>\n",
       "      <th>customer_id</th>\n",
       "      <th>gender</th>\n",
       "      <th>senior_citizen</th>\n",
       "      <th>partner</th>\n",
       "      <th>dependents</th>\n",
       "      <th>tenure</th>\n",
       "      <th>phone_service</th>\n",
       "      <th>...</th>\n",
       "      <th>tech_support</th>\n",
       "      <th>streaming_tv</th>\n",
       "      <th>streaming_movies</th>\n",
       "      <th>paperless_billing</th>\n",
       "      <th>monthly_charges</th>\n",
       "      <th>total_charges</th>\n",
       "      <th>churn</th>\n",
       "      <th>contract_type</th>\n",
       "      <th>internet_service_type</th>\n",
       "      <th>payment_type</th>\n",
       "    </tr>\n",
       "  </thead>\n",
       "  <tbody>\n",
       "    <tr>\n",
       "      <th>0</th>\n",
       "      <td>2</td>\n",
       "      <td>1</td>\n",
       "      <td>2</td>\n",
       "      <td>0002-ORFBO</td>\n",
       "      <td>Female</td>\n",
       "      <td>0</td>\n",
       "      <td>Yes</td>\n",
       "      <td>Yes</td>\n",
       "      <td>9</td>\n",
       "      <td>Yes</td>\n",
       "      <td>...</td>\n",
       "      <td>Yes</td>\n",
       "      <td>Yes</td>\n",
       "      <td>No</td>\n",
       "      <td>Yes</td>\n",
       "      <td>65.6</td>\n",
       "      <td>593.3</td>\n",
       "      <td>No</td>\n",
       "      <td>One year</td>\n",
       "      <td>DSL</td>\n",
       "      <td>Mailed check</td>\n",
       "    </tr>\n",
       "  </tbody>\n",
       "</table>\n",
       "<p>1 rows × 24 columns</p>\n",
       "</div>"
      ],
      "text/plain": [
       "   payment_type_id  internet_service_type_id  contract_type_id customer_id  \\\n",
       "0                2                         1                 2  0002-ORFBO   \n",
       "\n",
       "   gender  senior_citizen partner dependents  tenure phone_service  ...  \\\n",
       "0  Female               0     Yes        Yes       9           Yes  ...   \n",
       "\n",
       "  tech_support streaming_tv streaming_movies paperless_billing  \\\n",
       "0          Yes          Yes               No               Yes   \n",
       "\n",
       "  monthly_charges total_charges churn contract_type  internet_service_type  \\\n",
       "0            65.6         593.3    No      One year                    DSL   \n",
       "\n",
       "   payment_type  \n",
       "0  Mailed check  \n",
       "\n",
       "[1 rows x 24 columns]"
      ]
     },
     "execution_count": 3,
     "metadata": {},
     "output_type": "execute_result"
    }
   ],
   "source": [
    "# Import acquired messy data\n",
    "telco = acquire.get_telco_data()\n",
    "# Lets take a quick peak\n",
    "telco.head(1)"
   ]
  },
  {
   "cell_type": "markdown",
   "id": "impossible-bible",
   "metadata": {},
   "source": [
    "## Prepare\n",
    "\n",
    "Prepare Actions:\n",
    "\n",
    "- Removed columns that did not contain useful information (payment_type_id, internet_service_type_id, contract type_id etc.)\n",
    "- Checked for nulls in the data and dropped null values stored as white space\n",
    "- Checked that column data types were appropriate and had to change total_charges to from object to a float\n",
    "- Converted binary categorical variables to numeric (yes/no & male/female)\n",
    "- Added dummy variables for the non-binary categorical variables and then concatenated them to the original dataframe\n",
    "- Split data into train, validate and test, stratifying on 'churn'"
   ]
  },
  {
   "cell_type": "code",
   "execution_count": 4,
   "id": "flexible-irrigation",
   "metadata": {},
   "outputs": [
    {
     "data": {
      "text/html": [
       "<div>\n",
       "<style scoped>\n",
       "    .dataframe tbody tr th:only-of-type {\n",
       "        vertical-align: middle;\n",
       "    }\n",
       "\n",
       "    .dataframe tbody tr th {\n",
       "        vertical-align: top;\n",
       "    }\n",
       "\n",
       "    .dataframe thead th {\n",
       "        text-align: right;\n",
       "    }\n",
       "</style>\n",
       "<table border=\"1\" class=\"dataframe\">\n",
       "  <thead>\n",
       "    <tr style=\"text-align: right;\">\n",
       "      <th></th>\n",
       "      <th>customer_id</th>\n",
       "      <th>senior_citizen</th>\n",
       "      <th>tenure</th>\n",
       "      <th>monthly_charges</th>\n",
       "      <th>total_charges</th>\n",
       "      <th>contract_type</th>\n",
       "      <th>internet_service_type</th>\n",
       "      <th>churn_Yes</th>\n",
       "      <th>gender_Male</th>\n",
       "      <th>partner_Yes</th>\n",
       "      <th>...</th>\n",
       "      <th>contract_type_Month-to-month</th>\n",
       "      <th>contract_type_One year</th>\n",
       "      <th>contract_type_Two year</th>\n",
       "      <th>internet_service_type_DSL</th>\n",
       "      <th>internet_service_type_Fiber optic</th>\n",
       "      <th>internet_service_type_None</th>\n",
       "      <th>payment_type_Bank transfer (automatic)</th>\n",
       "      <th>payment_type_Credit card (automatic)</th>\n",
       "      <th>payment_type_Electronic check</th>\n",
       "      <th>payment_type_Mailed check</th>\n",
       "    </tr>\n",
       "  </thead>\n",
       "  <tbody>\n",
       "    <tr>\n",
       "      <th>0</th>\n",
       "      <td>0002-ORFBO</td>\n",
       "      <td>0</td>\n",
       "      <td>9</td>\n",
       "      <td>65.6</td>\n",
       "      <td>593.3</td>\n",
       "      <td>One year</td>\n",
       "      <td>DSL</td>\n",
       "      <td>0</td>\n",
       "      <td>0</td>\n",
       "      <td>1</td>\n",
       "      <td>...</td>\n",
       "      <td>0</td>\n",
       "      <td>1</td>\n",
       "      <td>0</td>\n",
       "      <td>1</td>\n",
       "      <td>0</td>\n",
       "      <td>0</td>\n",
       "      <td>0</td>\n",
       "      <td>0</td>\n",
       "      <td>0</td>\n",
       "      <td>1</td>\n",
       "    </tr>\n",
       "  </tbody>\n",
       "</table>\n",
       "<p>1 rows × 30 columns</p>\n",
       "</div>"
      ],
      "text/plain": [
       "  customer_id  senior_citizen  tenure  monthly_charges  total_charges  \\\n",
       "0  0002-ORFBO               0       9             65.6          593.3   \n",
       "\n",
       "  contract_type internet_service_type  churn_Yes  gender_Male  partner_Yes  \\\n",
       "0      One year                   DSL          0            0            1   \n",
       "\n",
       "   ...  contract_type_Month-to-month  contract_type_One year  \\\n",
       "0  ...                             0                       1   \n",
       "\n",
       "   contract_type_Two year  internet_service_type_DSL  \\\n",
       "0                       0                          1   \n",
       "\n",
       "   internet_service_type_Fiber optic  internet_service_type_None  \\\n",
       "0                                  0                           0   \n",
       "\n",
       "   payment_type_Bank transfer (automatic)  \\\n",
       "0                                       0   \n",
       "\n",
       "   payment_type_Credit card (automatic)  payment_type_Electronic check  \\\n",
       "0                                     0                              0   \n",
       "\n",
       "   payment_type_Mailed check  \n",
       "0                          1  \n",
       "\n",
       "[1 rows x 30 columns]"
      ]
     },
     "execution_count": 4,
     "metadata": {},
     "output_type": "execute_result"
    }
   ],
   "source": [
    "# Import prepare function to clean data \n",
    "telco = prepare.prep_telco(telco)\n",
    "# Quick peak into the cleaned data\n",
    "telco.head(1)"
   ]
  },
  {
   "cell_type": "markdown",
   "id": "195aec30",
   "metadata": {},
   "source": [
    "| Feature | Definition |\n",
    "|:--------|:-----------|\n",
    "|gender|Specifies if male or female|\n",
    "|senior_citizen|True or False, specifies if senior citizen or not|\n",
    "|partner|True or False, specifies if customer has partner or not|\n",
    "|dependents|True or False, specifies if customer has partner or not|\n",
    "|tenure|Integer, how many months the customer has been with Telco|\n",
    "|phone_service|Yes or No, specifies if customer has phone service|\n",
    "|multiple_lines|Yes or No, specifies if customer has multiple lines|\n",
    "|online_security|Yes or No, specifies if customer has online security|\n",
    "|online_backup|Yes or No, specifies if customer has online backup|\n",
    "|device_protection|Yes or No, specifies if customer has device protection|\n",
    "|tech_support|Yes or No, specifies if customer has tech support|\n",
    "|streaming_tv|Yes or No, specifies if customer has streams tv|\n",
    "|streaming_movies|Yes or No, specifies if customer streams movies|\n",
    "|paperless_billing|Yes or No, specifies if customer has paperless billing|\n",
    "|monthly_charges|Charges in a month, measured in dollars|\n",
    "|total_charges|Total charges overal, measured in dollars|\n",
    "|churn|The word used to define if a customer has left Telco|\n",
    "|contract_type|Specifies contract type, month-to-month, two-year, one-year|\n",
    "|payment_type|Specifies payment type, electronic check, mailed check, bank transfer, credit card|\n",
    "|internet_service_type|Specifies internet service type, fiber optic, dsl, or none|"
   ]
  },
  {
   "cell_type": "code",
   "execution_count": 5,
   "id": "3d462073",
   "metadata": {},
   "outputs": [
    {
     "data": {
      "text/plain": [
       "((4225, 30), (1409, 30), (1409, 30))"
      ]
     },
     "execution_count": 5,
     "metadata": {},
     "output_type": "execute_result"
    }
   ],
   "source": [
    "# splitting data into train, validate, and test\n",
    "train, val, test = prepare.my_train_test_split(telco, 'churn_Yes')\n",
    "# lets see the shape of these\n",
    "train.shape, val.shape, test.shape"
   ]
  },
  {
   "cell_type": "markdown",
   "id": "bb94853e",
   "metadata": {},
   "source": [
    "# Explore"
   ]
  },
  {
   "cell_type": "markdown",
   "id": "50a2a7e0",
   "metadata": {},
   "source": [
    "## Are customers with Tech Support more or less likely to churn?"
   ]
  },
  {
   "cell_type": "code",
   "execution_count": 10,
   "id": "62497fa1",
   "metadata": {},
   "outputs": [],
   "source": [
    "def get_tech(df):\n",
    "    # using a countplot to give a visual \n",
    "    sns.set_theme(style=\"whitegrid\")\n",
    "    sns.countplot(data=train, x=\"churn_Yes\", hue=\"tech_support_Yes\")\n",
    "    #labels and legend\n",
    "    plt.title('Tech Support')\n",
    "    plt.xlabel('Did They Churn?')\n",
    "    plt.xticks(np.arange(2), ['No', 'Yes'])\n",
    "    plt.ylabel('# of Customers')\n",
    "    title = 'Tech Support'\n",
    "    mylabels = ['No', 'Yes']\n",
    "    plt.legend(title=title, labels=mylabels)\n",
    "    plt.show()"
   ]
  },
  {
   "cell_type": "code",
   "execution_count": 11,
   "id": "b53ea170",
   "metadata": {},
   "outputs": [
    {
     "data": {
      "image/png": "[encoded data removed]",
      "text/plain": [
       "<Figure size 640x480 with 1 Axes>"
      ]
     },
     "metadata": {},
     "output_type": "display_data"
    }
   ],
   "source": [
    "get_tech(telco)"
   ]
  },
  {
   "cell_type": "markdown",
   "id": "de410069",
   "metadata": {},
   "source": [
    "#### My takeaway from this is that there appears to be a relationship between having tech support and churn.  The more Tech support, less likely the churn rate. \n",
    "  \n",
    "  \n",
    "##### For this question, there are two categorical variables at hand so a a chi-square test seems appropiate to determine if there is a relationship.\n",
    "\n",
    "#### My H_o (Null Hypothesis): is that there is no significant relationship between churn and tech support\n",
    "\n",
    "#### My H_a (Alternative Hypothesis): is that there is a relationship of significance."
   ]
  },
  {
   "cell_type": "code",
   "execution_count": 13,
   "id": "3395711e",
   "metadata": {},
   "outputs": [],
   "source": [
    "def question_hypothesis_test1(df):\n",
    "    # observed data for chi-square test\n",
    "    observed1 = pd.crosstab(train.tech_support_Yes, train.churn_Yes)\n",
    "    observed1\n",
    "    # do not forget alpha\n",
    "    alpha = .05\n",
    "\n",
    "    chi2, p, degf, expected = stats.chi2_contingency(observed1)\n",
    "    # clean f strings\n",
    "    print(f\"chi^2: {chi2}\")\n",
    "    print(f\"p value: {p}\")"
   ]
  },
  {
   "cell_type": "code",
   "execution_count": 15,
   "id": "7124dc65",
   "metadata": {},
   "outputs": [
    {
     "name": "stdout",
     "output_type": "stream",
     "text": [
      "chi^2: 98.23088931064383\n",
      "p value: 3.7233642021021574e-23\n"
     ]
    }
   ],
   "source": [
    "question_hypothesis_test1(train)"
   ]
  },
  {
   "cell_type": "markdown",
   "id": "01f3fb04",
   "metadata": {},
   "source": [
    "#### My p-value is very small, so we reject our null hypothesis. We can say with confidence that there is sigificance in the relationship between churn and Tech Support. This makes an adequate driver to model."
   ]
  },
  {
   "cell_type": "markdown",
   "id": "6e6b6bea",
   "metadata": {},
   "source": [
    "## What contract type churns the most?"
   ]
  },
  {
   "cell_type": "code",
   "execution_count": 36,
   "id": "6f9a077c",
   "metadata": {},
   "outputs": [],
   "source": [
    "def get_contracts(df):\n",
    "    # trusty count plot for visual\n",
    "    sns.set_theme(style=\"whitegrid\")\n",
    "    sns.countplot(data=df, x=\"churn_Yes\", hue=\"contract_type\")\n",
    "    #labels and legend\n",
    "    plt.title('Churn Vs Types of Contracts')\n",
    "    plt.xlabel('Churn')\n",
    "    plt.xticks(np.arange(2), ['No', 'Yes'])\n",
    "    plt.ylabel('# of Customers')\n",
    "    title = 'Contract Type'\n",
    "    plt.legend(title=title)\n",
    "    plt.show()"
   ]
  },
  {
   "cell_type": "code",
   "execution_count": 37,
   "id": "c761b295",
   "metadata": {},
   "outputs": [
    {
     "data": {
      "image/png": "[encoded data removed]",
      "text/plain": [
       "<Figure size 640x480 with 1 Axes>"
      ]
     },
     "metadata": {},
     "output_type": "display_data"
    }
   ],
   "source": [
    "get_contracts(train)"
   ]
  },
  {
   "cell_type": "markdown",
   "id": "214d9e21",
   "metadata": {},
   "source": [
    "#### My takeaway from this is (visually) there seems to be a big churn rate when a customer has a month-to-month contract versus other contracts. It is also the most popular contract type.\n",
    "\n",
    "#### H_o (Null Hypothesis): contract type is independent of churn.\n",
    "\n",
    "#### H_a (Alternative Hypothesis): contract is dependent on churn."
   ]
  },
  {
   "cell_type": "code",
   "execution_count": 21,
   "id": "0b3446e3",
   "metadata": {},
   "outputs": [],
   "source": [
    "def question_hypothesis_test2(df):\n",
    "    # observed data for chi-square test\n",
    "    observed2 = pd.crosstab(df.contract_type, df.churn_Yes)\n",
    "    observed2\n",
    "    # do not forget alpha\n",
    "    alpha = .05\n",
    "\n",
    "    chi2, p, degf, expected = stats.chi2_contingency(observed2)\n",
    "    # clean f strings\n",
    "    print(f\"chi^2: {chi2}\")\n",
    "    print(f\"p value: {p}\")"
   ]
  },
  {
   "cell_type": "code",
   "execution_count": 22,
   "id": "bbe1e889",
   "metadata": {},
   "outputs": [
    {
     "name": "stdout",
     "output_type": "stream",
     "text": [
      "chi^2: 703.7870674341639\n",
      "p value: 1.4947896745220748e-153\n"
     ]
    }
   ],
   "source": [
    "question_hypothesis_test2(train)"
   ]
  },
  {
   "cell_type": "markdown",
   "id": "3b40e8d5",
   "metadata": {},
   "source": [
    "#### My p-value is very small, so we reject our null hypothesis. We can say with confidence that there is sigificance in the relationship between churn and contract type month-to-month. This makes another adequate driver to model."
   ]
  },
  {
   "cell_type": "markdown",
   "id": "dbb5769f",
   "metadata": {},
   "source": [
    "## Does being a senior citizen have an affect on churn?"
   ]
  },
  {
   "cell_type": "code",
   "execution_count": 34,
   "id": "23038f00",
   "metadata": {},
   "outputs": [],
   "source": [
    "def get_seniors(df):\n",
    "    sns.set_theme(style=\"whitegrid\")\n",
    "    sns.countplot(data=df, x=\"churn_Yes\", hue=\"senior_citizen\")\n",
    "    #labels and legend\n",
    "    plt.title('Churn Vs Senior Citizens')\n",
    "    plt.xlabel('Churn')\n",
    "    plt.xticks(np.arange(2), ['No', 'Yes'])\n",
    "    plt.ylabel('# of Customers')\n",
    "    title = 'Senior Citizen'\n",
    "    mylabels = ['No', 'Yes']\n",
    "    plt.legend(title=title, labels=mylabels)\n",
    "    plt.show()"
   ]
  },
  {
   "cell_type": "code",
   "execution_count": 35,
   "id": "717e5207",
   "metadata": {},
   "outputs": [
    {
     "data": {
      "image/png": "[encoded data removed]",
      "text/plain": [
       "<Figure size 640x480 with 1 Axes>"
      ]
     },
     "metadata": {},
     "output_type": "display_data"
    }
   ],
   "source": [
    "get_seniors(train)"
   ]
  },
  {
   "cell_type": "markdown",
   "id": "64ff0274",
   "metadata": {},
   "source": [
    "#### My takeaway here is that the senior citizens churn at a lower rate than their younger counter parts. I think we will investigate the question of whether being a senior citizen is independent of churn with a chi-square test.\n",
    "\n",
    "#### H_o (Null Hypothesis): senior citizen is independent of churn.\n",
    "\n",
    "#### H_a (Alternative Hypothesis): senior citizen is dependent on churn."
   ]
  },
  {
   "cell_type": "code",
   "execution_count": 28,
   "id": "5659c733",
   "metadata": {},
   "outputs": [],
   "source": [
    "def question_hypothesis_test3(df):\n",
    "    # trusted chi-square test\n",
    "    observed3 = pd.crosstab(df.senior_citizen, df.churn_Yes)\n",
    "    observed3\n",
    "    # do not forget alpha\n",
    "    alpha = .05\n",
    "\n",
    "    chi2, p, degf, expected = stats.chi2_contingency(observed3)\n",
    "    # clean f strings\n",
    "    print(f\"chi^2: {chi2}\")\n",
    "    print(f\"p value: {p}\")"
   ]
  },
  {
   "cell_type": "code",
   "execution_count": 29,
   "id": "9209abee",
   "metadata": {},
   "outputs": [
    {
     "name": "stdout",
     "output_type": "stream",
     "text": [
      "chi^2: 80.79361466512287\n",
      "p value: 2.505662983276272e-19\n"
     ]
    }
   ],
   "source": [
    "question_hypothesis_test3(train)"
   ]
  },
  {
   "cell_type": "markdown",
   "id": "2fcb1d9b",
   "metadata": {},
   "source": [
    "#### My p-value is very small, so we reject our null hypothesis. We can say with confidence that there is sigificance in the relationship between churn and being a senior citizen. This could make a driver, but people cannot choose their age."
   ]
  },
  {
   "cell_type": "markdown",
   "id": "f4e755ca",
   "metadata": {},
   "source": [
    "## Do customers who churn have paperless billing?"
   ]
  },
  {
   "cell_type": "code",
   "execution_count": 32,
   "id": "3d2c962c",
   "metadata": {},
   "outputs": [],
   "source": [
    "def get_paper(df):\n",
    "    # count plot\n",
    "    sns.set_theme(style=\"whitegrid\")\n",
    "    sns.countplot(data=df, x=\"churn_Yes\", hue=\"paperless_billing_Yes\")\n",
    "    # title and legend\n",
    "    plt.title('Churn Vs Paperless Billing')\n",
    "    plt.xlabel('Churn')\n",
    "    plt.xticks(np.arange(2), ['No', 'Yes'])\n",
    "    plt.ylabel('# of Customers')\n",
    "    title = 'Paperless Billing'\n",
    "    mylabels = ['No', 'Yes']\n",
    "    plt.legend(title=title, labels=mylabels)\n",
    "    plt.show()"
   ]
  },
  {
   "cell_type": "code",
   "execution_count": 33,
   "id": "e00ab934",
   "metadata": {},
   "outputs": [
    {
     "data": {
      "image/png": "[encoded data removed]",
      "text/plain": [
       "<Figure size 640x480 with 1 Axes>"
      ]
     },
     "metadata": {},
     "output_type": "display_data"
    }
   ],
   "source": [
    "get_paper(train)"
   ]
  },
  {
   "cell_type": "markdown",
   "id": "08d871d0",
   "metadata": {},
   "source": [
    "#### Initially, I thought paperless billing would churn at a lower rate but it appears the actual takeaway is paperless billing customer tend to churn more than one who prefer practice their handwriting.\n",
    "\n",
    "#### H_o (Null Hypothesis): paperless billing is independent of churn.\n",
    "\n",
    "#### H_a (Alternative Hypothesis): paperless is dependent on churn."
   ]
  },
  {
   "cell_type": "code",
   "execution_count": 38,
   "id": "8b126ff8",
   "metadata": {},
   "outputs": [],
   "source": [
    "def question_hypothesis_test4(df):\n",
    "    observed4 = pd.crosstab(df.paperless_billing_Yes, df.churn_Yes)\n",
    "    observed4\n",
    "    # do not forget alpha\n",
    "    alpha = .05\n",
    "\n",
    "    chi2, p, degf, expected = stats.chi2_contingency(observed4)\n",
    "    # clean f strings\n",
    "    print(f\"chi^2: {chi2}\")\n",
    "    print(f\"p value: {p}\")"
   ]
  },
  {
   "cell_type": "code",
   "execution_count": 40,
   "id": "0fb5e0fe",
   "metadata": {},
   "outputs": [
    {
     "name": "stdout",
     "output_type": "stream",
     "text": [
      "chi^2: 148.58446697144495\n",
      "p value: 3.5348504574964642e-34\n"
     ]
    }
   ],
   "source": [
    "question_hypothesis_test4(train)"
   ]
  },
  {
   "cell_type": "markdown",
   "id": "ca954be3",
   "metadata": {},
   "source": [
    "#### My p-value is very small, so we reject our null hypothesis. We can say with confidence that there is sigificance in the relationship between churn and having paperless billing. This makes another driver to model."
   ]
  },
  {
   "cell_type": "markdown",
   "id": "iraqi-sellers",
   "metadata": {},
   "source": [
    "# Exploration Summary\n",
    "\n",
    "- Tech Support was found to be a driver of churn\n",
    "- Contract type month-to-month was found to be a big driver of churn\n",
    "- Senior citizen status was found to have a relationship with churn, but I decided against using it as a driver as people cannot choose their age. \n",
    "- Paperless billing was found to be a driver of churn"
   ]
  },
  {
   "cell_type": "markdown",
   "id": "minus-tulsa",
   "metadata": {},
   "source": [
    "# Modeling"
   ]
  },
  {
   "cell_type": "markdown",
   "id": "hydraulic-spectrum",
   "metadata": {},
   "source": [
    "- I ran the Decision Tree, Random Forest, KNN, and Logistic Regression algorithms to see what fit the data best .\n",
    "- The evaluation metric used was accuracy, as I wanted to focus on accuracy over the other metrics.\n",
    "\n",
    "- The basline accuracy is calculated by finding the outcome that occurs most frequent and create a column. You then divide the mean of the baseline column.\n"
   ]
  },
  {
   "cell_type": "code",
   "execution_count": 43,
   "id": "ranging-rebecca",
   "metadata": {},
   "outputs": [
    {
     "name": "stdout",
     "output_type": "stream",
     "text": [
      "Baseline: 73.46%\n"
     ]
    }
   ],
   "source": [
    "# code to generate baseline \n",
    "telco['baseline'] = telco['churn_Yes'].value_counts().idxmax()\n",
    "(telco['churn_Yes'] == telco['baseline']).mean()\n",
    "# clean f string\n",
    "print(f\"Baseline: {(telco['churn_Yes'] == telco['baseline']).mean()*100:.2f}%\")"
   ]
  },
  {
   "cell_type": "code",
   "execution_count": 45,
   "id": "f3c0e754",
   "metadata": {},
   "outputs": [],
   "source": [
    "def get_baseline(df):\n",
    "    # code to generate baseline \n",
    "    df['baseline'] = df['churn_Yes'].value_counts().idxmax()\n",
    "    (df['churn_Yes'] == df['baseline']).mean()\n",
    "    # clean f string\n",
    "    print(f\"Baseline: {(df['churn_Yes'] == df['baseline']).mean()*100:.2f}%\")"
   ]
  },
  {
   "cell_type": "code",
   "execution_count": 46,
   "id": "d57e36f7",
   "metadata": {},
   "outputs": [
    {
     "name": "stdout",
     "output_type": "stream",
     "text": [
      "Baseline: 73.46%\n"
     ]
    }
   ],
   "source": [
    "get_baseline(telco)"
   ]
  },
  {
   "cell_type": "code",
   "execution_count": 43,
   "id": "32beb437",
   "metadata": {},
   "outputs": [],
   "source": [
    "def model_prep(df1,df2,df3):\n",
    "    X_train = df1.drop(columns=['churn_Yes', 'contract_type', 'customer_id', 'internet_service_type'])\n",
    "    y_train = df1.churn_Yes\n",
    "\n",
    "    X_val = df2.drop(columns=['churn_Yes', 'contract_type', 'customer_id', 'internet_service_type'])\n",
    "    y_val = df2.churn_Yes\n",
    "\n",
    "    X_test = df3.drop(columns=['churn_Yes', 'contract_type', 'customer_id', 'internet_service_type'])\n",
    "    y_test = df3.churn_Yes\n",
    "    seed=42\n",
    "\n",
    "    return X_train, X_val, X_test, y_train, y_val, y_test"
   ]
  },
  {
   "cell_type": "code",
   "execution_count": 44,
   "id": "889a0631",
   "metadata": {},
   "outputs": [],
   "source": [
    "X_train, X_val, X_test, y_train, y_val, y_test= model_prep(train,val,test)"
   ]
  },
  {
   "cell_type": "markdown",
   "id": "06d378e6",
   "metadata": {},
   "source": [
    "# Random Forest - Model 1"
   ]
  },
  {
   "cell_type": "code",
   "execution_count": 51,
   "id": "92cded97",
   "metadata": {},
   "outputs": [
    {
     "name": "stdout",
     "output_type": "stream",
     "text": [
      "Random Forest Model\n",
      "Accuracy of Random Forest on train data: 0.8333727810650887\n",
      "Accuracy of Random Forest on validate: 0.8048261178140526\n"
     ]
    }
   ],
   "source": [
    "# random forest algorithm \n",
    "rf3 = RandomForestClassifier(max_depth=8, random_state=42,\n",
    "                            max_samples=0.5)\n",
    "#fit it \n",
    "rf3.fit(X_train, y_train)\n",
    "# clean f string\n",
    "print('Random Forest Model')\n",
    "print(f\"Accuracy of Random Forest on train data: {rf3.score(X_train, y_train)}\") \n",
    "print(f\"Accuracy of Random Forest on validate: {rf3.score(X_val, y_val)}\")"
   ]
  },
  {
   "cell_type": "code",
   "execution_count": 52,
   "id": "702f87e7",
   "metadata": {},
   "outputs": [],
   "source": [
    "def get_forest(X_train, X_val, y_train, y_val):\n",
    "    '''get random forest accuracy on train and validate data'''\n",
    "    \n",
    "    rf3 = RandomForestClassifier(max_depth=8, random_state=42,\n",
    "                            max_samples=0.5)\n",
    "\n",
    "    rf3.fit(X_train, y_train)\n",
    "    print(f\"Accuracy of Random Forest on train data: {rf3.score(X_train, y_train)}\") \n",
    "    print(f\"Accuracy of Random Froest on validate: {rf3.score(X_val, y_val)}\")"
   ]
  },
  {
   "cell_type": "code",
   "execution_count": 53,
   "id": "a087f3d2",
   "metadata": {},
   "outputs": [
    {
     "name": "stdout",
     "output_type": "stream",
     "text": [
      "Accuracy of Random Forest on train data: 0.8333727810650887\n",
      "Accuracy of Random Froest on validate: 0.8048261178140526\n"
     ]
    }
   ],
   "source": [
    "get_forest(X_train, X_val, y_train, y_val)"
   ]
  },
  {
   "cell_type": "markdown",
   "id": "e0b37722",
   "metadata": {},
   "source": [
    "# Logistic Regression - Model 2"
   ]
  },
  {
   "cell_type": "code",
   "execution_count": 18,
   "id": "6da9cb23",
   "metadata": {},
   "outputs": [
    {
     "name": "stdout",
     "output_type": "stream",
     "text": [
      "Logistic Regression Model\n",
      "Accuracy of Logistic Regression on train: 0.8009467455621302\n",
      "Accuracy of Logistic Regression on validate: 0.8168914123491838\n"
     ]
    }
   ],
   "source": [
    "# Logistic Regression algorithm\n",
    "logit2 = LogisticRegression(C=.1, random_state=42, \n",
    "                           intercept_scaling=1, solver='lbfgs')\n",
    "\n",
    "#fit the model\n",
    "logit2.fit(X_train, y_train)\n",
    "#clean f string\n",
    "print('Logistic Regression Model')\n",
    "print(f\"Accuracy of Logistic Regression on train: {logit2.score(X_train, y_train)}\") \n",
    "print(f\"Accuracy of Logistic Regression on validate: {logit2.score(X_val, y_val)}\")"
   ]
  },
  {
   "cell_type": "code",
   "execution_count": 56,
   "id": "378bd9eb",
   "metadata": {},
   "outputs": [],
   "source": [
    "def get_reg(X_train, X_val, y_train, y_val):\n",
    "    '''get logistic regression accuracy on train and validate data'''\n",
    "\n",
    "    # create model object and fit it to the training data\n",
    "    logit = LogisticRegression(C=.1, random_state=42, \n",
    "                               intercept_scaling=1, solver='lbfgs')\n",
    "    # fit the model\n",
    "    logit.fit(X_train, y_train)\n",
    "\n",
    "    # print result\n",
    "    print(f\"Accuracy of Logistic Regression on train is {logit.score(X_train, y_train)}\")\n",
    "    print(f\"Accuracy of Logistic Regression on validate is {logit.score(X_val, y_val)}\")"
   ]
  },
  {
   "cell_type": "code",
   "execution_count": 57,
   "id": "b0112d93",
   "metadata": {},
   "outputs": [
    {
     "name": "stdout",
     "output_type": "stream",
     "text": [
      "Accuracy of Logistic Regression on train is 0.8009467455621302\n",
      "Accuracy of Logistic Regression on validate is 0.8168914123491838\n"
     ]
    }
   ],
   "source": [
    "get_reg(X_train, X_val, y_train, y_val)"
   ]
  },
  {
   "cell_type": "markdown",
   "id": "20b1ab3d",
   "metadata": {},
   "source": [
    "# KNN - Model 3"
   ]
  },
  {
   "cell_type": "code",
   "execution_count": 62,
   "id": "11e2117a",
   "metadata": {},
   "outputs": [
    {
     "name": "stdout",
     "output_type": "stream",
     "text": [
      "KNN Model\n",
      "Accuracy of KNN on train: 0.8565680473372781\n",
      "Accuracy of KNN on validate: 0.7622427253371186\n"
     ]
    }
   ],
   "source": [
    "# K nearest neighbor algorithm\n",
    "\n",
    "knn3 = KNeighborsClassifier(n_neighbors=3)\n",
    "knn3.fit(X_train, y_train)\n",
    "knn3.score(X_train, y_train)\n",
    "# clean f string\n",
    "print('KNN Model')\n",
    "print(f\"Accuracy of KNN on train: {knn3.score(X_train, y_train)}\") \n",
    "print(f\"Accuracy of KNN on validate: {knn3.score(X_val, y_val)}\")"
   ]
  },
  {
   "cell_type": "code",
   "execution_count": 60,
   "id": "af4e161a",
   "metadata": {},
   "outputs": [],
   "source": [
    "def get_knn(X_train, X_val, y_train, y_val):\n",
    "    '''get KNN accuracy on train and validate data'''\n",
    "\n",
    "    # create model object and fit it to the training data\n",
    "    knn = KNeighborsClassifier(n_neighbors=5, weights='uniform')\n",
    "    knn.fit(X_train, y_train)\n",
    "\n",
    "    # print results\n",
    "    print(f\"Accuracy of Logistic Regression on train is {knn.score(X_train, y_train)}\")\n",
    "    print(f\"Accuracy of Logistic Regression on validate is {knn.score(X_val, y_val)}\")"
   ]
  },
  {
   "cell_type": "code",
   "execution_count": 61,
   "id": "52676d12",
   "metadata": {},
   "outputs": [
    {
     "name": "stdout",
     "output_type": "stream",
     "text": [
      "Accuracy of Logistic Regression on train is 0.831715976331361\n",
      "Accuracy of Logistic Regression on validate is 0.7771469127040455\n"
     ]
    }
   ],
   "source": [
    "get_knn(X_train, X_val, y_train, y_val)"
   ]
  },
  {
   "cell_type": "code",
   "execution_count": 58,
   "id": "064799b2",
   "metadata": {},
   "outputs": [],
   "source": [
    "def get_dt(X_train, X_val, y_train, y_val):\n",
    "    '''get decision tree accuracy on train and validate data'''\n",
    "\n",
    "    # create classifier object\n",
    "    clf3 = DecisionTreeClassifier(max_depth=8, random_state=42)\n",
    "\n",
    "    #fit model on training data\n",
    "    clf3 = clf3.fit(X_train, y_train)\n",
    "\n",
    "    # print result\n",
    "    print(f\"Accuracy of Decision Tree on train data is {clf3.score(X_train, y_train)}\")\n",
    "    print(f\"Accuracy of Decision Tree on validate data is {clf3.score(X_val, y_val)}\")"
   ]
  },
  {
   "cell_type": "code",
   "execution_count": 59,
   "id": "4969669c",
   "metadata": {},
   "outputs": [
    {
     "name": "stdout",
     "output_type": "stream",
     "text": [
      "Accuracy of Decision Tree on train data is 0.8416568047337278\n",
      "Accuracy of Decision Tree on validate data is 0.7970191625266146\n"
     ]
    }
   ],
   "source": [
    "get_dt(X_train, X_val, y_train, y_val)"
   ]
  },
  {
   "cell_type": "code",
   "execution_count": 76,
   "id": "d48e6ca3",
   "metadata": {},
   "outputs": [],
   "source": [
    "def get_top_models(X_train, y_train, X_validate, y_validate):\n",
    "    '''This function gets all the top ML models and plots them together for a visual'''\n",
    "\n",
    "    # best Random Forest\n",
    "    best_rf = RandomForestClassifier(max_depth=8, random_state=42,\n",
    "                                    max_samples=0.5)\n",
    "    best_rf.fit(X_train, y_train)\n",
    "\n",
    "    best_rf_train_score = best_rf.score(X_train, y_train)\n",
    "    best_rf_validate_score = best_rf.score(X_validate, y_validate)\n",
    "\n",
    "    # Best KNN\n",
    "    best_knn = KNeighborsClassifier(n_neighbors=3)\n",
    "    best_knn.fit(X_train, y_train)\n",
    "\n",
    "    best_knn_train_score = best_knn.score(X_train, y_train)\n",
    "    best_knn_validate = best_knn.score(X_validate, y_validate)\n",
    "\n",
    "    # Best Logistic Regression\n",
    "    best_lr = LogisticRegression(C=.1, random_state=42, \n",
    "                                intercept_scaling=1, solver='lbfgs')\n",
    "    best_lr.fit(X_train, y_train)\n",
    "\n",
    "    best_lr_train_score = best_lr.score(X_train, y_train)\n",
    "    best_lr_validate_score = best_lr.score(X_validate, y_validate)\n",
    "\n",
    "    # Best Decision Tree\n",
    "    best_clf = DecisionTreeClassifier(max_depth=8, random_state=42)  \n",
    "    best_clf.fit(X_train, y_train)\n",
    "\n",
    "    best_clf_train_score = best_clf.score(X_train, y_train)\n",
    "    best_clf_validate_score = best_clf.score(X_validate, y_validate)\n",
    "\n",
    "    # lists with model names & score information\n",
    "    best_model_name_list = [\"KNN\",\"Random_Forest\",\"Logistic_Regression\",\"Decision Tree\"]\n",
    "    best_model_train_scores_list = [best_knn_train_score,best_rf_train_score,best_lr_train_score,best_clf_train_score]\n",
    "    best_model_validate_scores_list = [best_knn_validate,best_rf_validate_score,best_lr_validate_score,best_clf_validate_score]\n",
    "    \n",
    "    # new empty DataFrame\n",
    "    best_scores_df = pd.DataFrame()\n",
    "\n",
    "    # new columns using lists for data\n",
    "    best_scores_df[\"Model\"] = best_model_name_list\n",
    "    best_scores_df[\"Train_Score\"] = best_model_train_scores_list\n",
    "    best_scores_df[\"Validate_Score\"] = best_model_validate_scores_list\n",
    "\n",
    "    # plot it\n",
    "    plt.figure(figsize=(11, 8.5))\n",
    "    ax = best_scores_df.plot.bar(rot=5)\n",
    "    baseline_accuracy = .7346\n",
    "    plt.axhline(baseline_accuracy , label=\"Baseline Accuracy\", color='red')\n",
    "    plt.xticks(np.arange(4), ['KNN', 'Random Forest','Logistic Regression', 'Decision Tree'])\n",
    "    plt.ylabel('Scores')\n",
    "    plt.title('Top Models')\n",
    "    sns.set_theme(style=\"whitegrid\")\n",
    "    ax.annotate('Best Model',fontsize=12,color=\"Black\",weight=\"bold\", xy=(1, 1), \n",
    "                xytext=(.65, .9))\n",
    "    mylabels = ['Baseline','Train', 'Validate']\n",
    "    ax.legend(labels=mylabels,bbox_to_anchor=(1.02, 1), loc='upper left',borderaxespad=0)\n",
    "    plt.show()"
   ]
  },
  {
   "cell_type": "code",
   "execution_count": 77,
   "id": "055e0927",
   "metadata": {},
   "outputs": [
    {
     "data": {
      "text/plain": [
       "<Figure size 1100x850 with 0 Axes>"
      ]
     },
     "metadata": {},
     "output_type": "display_data"
    },
    {
     "data": {
      "image/png": "[encoded data removed]",
      "text/plain": [
       "<Figure size 640x480 with 1 Axes>"
      ]
     },
     "metadata": {},
     "output_type": "display_data"
    }
   ],
   "source": [
    "get_top_models(X_train, y_train, X_val, y_val)"
   ]
  },
  {
   "cell_type": "markdown",
   "id": "regulated-fellowship",
   "metadata": {},
   "source": [
    "### Test Model\n",
    "* I am choosing the Logistic Regression as it has the highest accuracy.\n",
    "* I will now run my model on the test data to gauge how it will perform on unseen data."
   ]
  },
  {
   "cell_type": "code",
   "execution_count": 63,
   "id": "optical-quilt",
   "metadata": {},
   "outputs": [],
   "source": [
    "# # best Logistic Regression algorithm \n",
    "\n",
    "# test_score = logit2.score(X_test, y_test)\n",
    "\n",
    "# # clean f string\n",
    "# print('Random Forest Model')\n",
    "# print(f'Accuracy on Test {test_score:.2f}')\n",
    "\n",
    "def get_test(X_train, y_train, X_test, y_test):\n",
    "    '''\n",
    "    This function gets our best peforming model and runs it on our test data\n",
    "    '''\n",
    "    # random forest model was best\n",
    "    logit2 = LogisticRegression(C=.1, random_state=42, \n",
    "                           intercept_scaling=1, solver='lbfgs')\n",
    "\n",
    "    #fit the model\n",
    "    logit2.fit(X_train, y_train)\n",
    "    logit2.score(X_test,y_test)\n",
    "    \n",
    "     # clean f string\n",
    "    display(Markdown(f'### Logistic Regression Model'))\n",
    "    display(Markdown(f'### Accuracy on Test {logit2.score(X_test,y_test)*100:.2f}%'))"
   ]
  },
  {
   "cell_type": "code",
   "execution_count": 65,
   "id": "0dbfbe54",
   "metadata": {},
   "outputs": [
    {
     "data": {
      "text/markdown": [
       "### Logistic Regression Model"
      ],
      "text/plain": [
       "<IPython.core.display.Markdown object>"
      ]
     },
     "metadata": {},
     "output_type": "display_data"
    },
    {
     "data": {
      "text/markdown": [
       "### Accuracy on Test 82.04%"
      ],
      "text/plain": [
       "<IPython.core.display.Markdown object>"
      ]
     },
     "metadata": {},
     "output_type": "display_data"
    }
   ],
   "source": [
    "from IPython.display import display, Markdown\n",
    "get_test(X_train, y_train, X_test, y_test)"
   ]
  },
  {
   "cell_type": "markdown",
   "id": "bright-evans",
   "metadata": {},
   "source": [
    "### Modeling Wrap \n",
    "\n",
    "- Logistic Regression Test score outperforms the baseline and I would reccomend this model for production, as it beat the baseline by almost 8%\n"
   ]
  },
  {
   "cell_type": "markdown",
   "id": "tutorial-twelve",
   "metadata": {},
   "source": [
    "## Conclusion\n",
    "\n",
    "### Summary\n",
    "- Customers with tech support are less likely to churn\n",
    "\n",
    "- The biggest driver of churn appears to be contract type. Customers who have month-to-month contracts churn at a rate just over 40%\n",
    "\n",
    "- Paperless billing does not appear to have a big affect on churn rate.\n",
    "\n",
    "- Age does not appear to have a significant affect on churn.\n",
    "\n",
    "### Recommendations\n",
    "- Creating a savings bundle (like some insurance companies) for customers who have multiple products can help incentivize using more services.\n",
    "- Use Tech Support as a priority and differentiator for not only customer service, but for aquiring customer trust\n",
    "- Give incentives to month-to-month contracts as it is the most popular contract type that churns. Incentives could include (for example) a temporarily free service such as Tech Support or if they were to go paperless with an app we could apply a discount while also collecting customer data to help with furture data science solutions.\n",
    "\n",
    "### Next Steps  \n",
    "* If provided more time to work on this project I would take a longer look at hyperparameters in my models to help optimize the accuracy and I would also take a dive into age and paperless billing and if there is a relationship."
   ]
  },
  {
   "cell_type": "code",
   "execution_count": 79,
   "id": "a00ff5dd",
   "metadata": {},
   "outputs": [
    {
     "data": {
      "text/html": [
       "<div>\n",
       "<style scoped>\n",
       "    .dataframe tbody tr th:only-of-type {\n",
       "        vertical-align: middle;\n",
       "    }\n",
       "\n",
       "    .dataframe tbody tr th {\n",
       "        vertical-align: top;\n",
       "    }\n",
       "\n",
       "    .dataframe thead th {\n",
       "        text-align: right;\n",
       "    }\n",
       "</style>\n",
       "<table border=\"1\" class=\"dataframe\">\n",
       "  <thead>\n",
       "    <tr style=\"text-align: right;\">\n",
       "      <th></th>\n",
       "      <th>train</th>\n",
       "      <th>validate</th>\n",
       "    </tr>\n",
       "  </thead>\n",
       "  <tbody>\n",
       "    <tr>\n",
       "      <th>0</th>\n",
       "      <td>0.734675</td>\n",
       "      <td>0.734564</td>\n",
       "    </tr>\n",
       "    <tr>\n",
       "      <th>1</th>\n",
       "      <td>0.760473</td>\n",
       "      <td>0.760114</td>\n",
       "    </tr>\n",
       "    <tr>\n",
       "      <th>2</th>\n",
       "      <td>0.785325</td>\n",
       "      <td>0.783534</td>\n",
       "    </tr>\n",
       "    <tr>\n",
       "      <th>3</th>\n",
       "      <td>0.795503</td>\n",
       "      <td>0.799858</td>\n",
       "    </tr>\n",
       "    <tr>\n",
       "      <th>4</th>\n",
       "      <td>0.808284</td>\n",
       "      <td>0.802697</td>\n",
       "    </tr>\n",
       "    <tr>\n",
       "      <th>5</th>\n",
       "      <td>0.813254</td>\n",
       "      <td>0.804826</td>\n",
       "    </tr>\n",
       "    <tr>\n",
       "      <th>6</th>\n",
       "      <td>0.823432</td>\n",
       "      <td>0.804826</td>\n",
       "    </tr>\n",
       "    <tr>\n",
       "      <th>7</th>\n",
       "      <td>0.833373</td>\n",
       "      <td>0.804826</td>\n",
       "    </tr>\n",
       "    <tr>\n",
       "      <th>8</th>\n",
       "      <td>0.852781</td>\n",
       "      <td>0.807665</td>\n",
       "    </tr>\n",
       "    <tr>\n",
       "      <th>9</th>\n",
       "      <td>0.875503</td>\n",
       "      <td>0.803407</td>\n",
       "    </tr>\n",
       "    <tr>\n",
       "      <th>10</th>\n",
       "      <td>0.892544</td>\n",
       "      <td>0.801278</td>\n",
       "    </tr>\n",
       "    <tr>\n",
       "      <th>11</th>\n",
       "      <td>0.911716</td>\n",
       "      <td>0.794180</td>\n",
       "    </tr>\n",
       "    <tr>\n",
       "      <th>12</th>\n",
       "      <td>0.924970</td>\n",
       "      <td>0.803407</td>\n",
       "    </tr>\n",
       "    <tr>\n",
       "      <th>13</th>\n",
       "      <td>0.940828</td>\n",
       "      <td>0.794180</td>\n",
       "    </tr>\n",
       "    <tr>\n",
       "      <th>14</th>\n",
       "      <td>0.947219</td>\n",
       "      <td>0.798439</td>\n",
       "    </tr>\n",
       "    <tr>\n",
       "      <th>15</th>\n",
       "      <td>0.952189</td>\n",
       "      <td>0.798439</td>\n",
       "    </tr>\n",
       "    <tr>\n",
       "      <th>16</th>\n",
       "      <td>0.953373</td>\n",
       "      <td>0.794890</td>\n",
       "    </tr>\n",
       "    <tr>\n",
       "      <th>17</th>\n",
       "      <td>0.955976</td>\n",
       "      <td>0.794180</td>\n",
       "    </tr>\n",
       "    <tr>\n",
       "      <th>18</th>\n",
       "      <td>0.956450</td>\n",
       "      <td>0.794890</td>\n",
       "    </tr>\n",
       "  </tbody>\n",
       "</table>\n",
       "</div>"
      ],
      "text/plain": [
       "       train  validate\n",
       "0   0.734675  0.734564\n",
       "1   0.760473  0.760114\n",
       "2   0.785325  0.783534\n",
       "3   0.795503  0.799858\n",
       "4   0.808284  0.802697\n",
       "5   0.813254  0.804826\n",
       "6   0.823432  0.804826\n",
       "7   0.833373  0.804826\n",
       "8   0.852781  0.807665\n",
       "9   0.875503  0.803407\n",
       "10  0.892544  0.801278\n",
       "11  0.911716  0.794180\n",
       "12  0.924970  0.803407\n",
       "13  0.940828  0.794180\n",
       "14  0.947219  0.798439\n",
       "15  0.952189  0.798439\n",
       "16  0.953373  0.794890\n",
       "17  0.955976  0.794180\n",
       "18  0.956450  0.794890"
      ]
     },
     "execution_count": 79,
     "metadata": {},
     "output_type": "execute_result"
    }
   ],
   "source": [
    "rf_train_scores = []\n",
    "rf_validate_scores = []\n",
    "for i in range(1,20):\n",
    "    loop_forest = RandomForestClassifier(max_depth=i, random_state=42, max_samples=0.5)\n",
    "    loop_forest.fit(X_train, y_train)\n",
    "    rf_train_scores.append(loop_forest.score(X_train, y_train))\n",
    "    rf_validate_scores.append(loop_forest.score(X_val, y_val))\n",
    "rf_scores = {'train':rf_train_scores,'validate':rf_validate_scores}\n",
    "rf_scores = pd.DataFrame(rf_scores)\n",
    "rf_scores"
   ]
  },
  {
   "cell_type": "code",
   "execution_count": 80,
   "id": "066e93d1",
   "metadata": {},
   "outputs": [
    {
     "data": {
      "image/png": "[encoded data removed]",
      "text/plain": [
       "<Figure size 640x480 with 1 Axes>"
      ]
     },
     "metadata": {},
     "output_type": "display_data"
    }
   ],
   "source": [
    "sns.lineplot(data = rf_scores)\n",
    "plt.title(\"Random Forest Max Depth\")\n",
    "plt.show()"
   ]
  },
  {
   "cell_type": "code",
   "execution_count": 82,
   "id": "0acf26be",
   "metadata": {},
   "outputs": [
    {
     "data": {
      "text/html": [
       "<div>\n",
       "<style scoped>\n",
       "    .dataframe tbody tr th:only-of-type {\n",
       "        vertical-align: middle;\n",
       "    }\n",
       "\n",
       "    .dataframe tbody tr th {\n",
       "        vertical-align: top;\n",
       "    }\n",
       "\n",
       "    .dataframe thead th {\n",
       "        text-align: right;\n",
       "    }\n",
       "</style>\n",
       "<table border=\"1\" class=\"dataframe\">\n",
       "  <thead>\n",
       "    <tr style=\"text-align: right;\">\n",
       "      <th></th>\n",
       "      <th>train</th>\n",
       "      <th>validate</th>\n",
       "      <th>solver_list</th>\n",
       "      <th>c_values</th>\n",
       "    </tr>\n",
       "  </thead>\n",
       "  <tbody>\n",
       "    <tr>\n",
       "      <th>0</th>\n",
       "      <td>0.801420</td>\n",
       "      <td>0.814053</td>\n",
       "      <td>newton-cg</td>\n",
       "      <td>100.00</td>\n",
       "    </tr>\n",
       "    <tr>\n",
       "      <th>1</th>\n",
       "      <td>0.801420</td>\n",
       "      <td>0.813343</td>\n",
       "      <td>newton-cg</td>\n",
       "      <td>10.00</td>\n",
       "    </tr>\n",
       "    <tr>\n",
       "      <th>2</th>\n",
       "      <td>0.800237</td>\n",
       "      <td>0.814762</td>\n",
       "      <td>newton-cg</td>\n",
       "      <td>1.00</td>\n",
       "    </tr>\n",
       "    <tr>\n",
       "      <th>3</th>\n",
       "      <td>0.800947</td>\n",
       "      <td>0.814762</td>\n",
       "      <td>newton-cg</td>\n",
       "      <td>0.10</td>\n",
       "    </tr>\n",
       "    <tr>\n",
       "      <th>4</th>\n",
       "      <td>0.798817</td>\n",
       "      <td>0.806955</td>\n",
       "      <td>newton-cg</td>\n",
       "      <td>0.01</td>\n",
       "    </tr>\n",
       "    <tr>\n",
       "      <th>5</th>\n",
       "      <td>0.800710</td>\n",
       "      <td>0.815472</td>\n",
       "      <td>lbfgs</td>\n",
       "      <td>100.00</td>\n",
       "    </tr>\n",
       "    <tr>\n",
       "      <th>6</th>\n",
       "      <td>0.798817</td>\n",
       "      <td>0.809794</td>\n",
       "      <td>lbfgs</td>\n",
       "      <td>10.00</td>\n",
       "    </tr>\n",
       "    <tr>\n",
       "      <th>7</th>\n",
       "      <td>0.795503</td>\n",
       "      <td>0.803407</td>\n",
       "      <td>lbfgs</td>\n",
       "      <td>1.00</td>\n",
       "    </tr>\n",
       "    <tr>\n",
       "      <th>8</th>\n",
       "      <td>0.800947</td>\n",
       "      <td>0.816891</td>\n",
       "      <td>lbfgs</td>\n",
       "      <td>0.10</td>\n",
       "    </tr>\n",
       "    <tr>\n",
       "      <th>9</th>\n",
       "      <td>0.801420</td>\n",
       "      <td>0.809084</td>\n",
       "      <td>lbfgs</td>\n",
       "      <td>0.01</td>\n",
       "    </tr>\n",
       "    <tr>\n",
       "      <th>10</th>\n",
       "      <td>0.800710</td>\n",
       "      <td>0.814053</td>\n",
       "      <td>liblinear</td>\n",
       "      <td>100.00</td>\n",
       "    </tr>\n",
       "    <tr>\n",
       "      <th>11</th>\n",
       "      <td>0.800710</td>\n",
       "      <td>0.814053</td>\n",
       "      <td>liblinear</td>\n",
       "      <td>10.00</td>\n",
       "    </tr>\n",
       "    <tr>\n",
       "      <th>12</th>\n",
       "      <td>0.800473</td>\n",
       "      <td>0.814762</td>\n",
       "      <td>liblinear</td>\n",
       "      <td>1.00</td>\n",
       "    </tr>\n",
       "    <tr>\n",
       "      <th>13</th>\n",
       "      <td>0.800710</td>\n",
       "      <td>0.814762</td>\n",
       "      <td>liblinear</td>\n",
       "      <td>0.10</td>\n",
       "    </tr>\n",
       "    <tr>\n",
       "      <th>14</th>\n",
       "      <td>0.799053</td>\n",
       "      <td>0.809794</td>\n",
       "      <td>liblinear</td>\n",
       "      <td>0.01</td>\n",
       "    </tr>\n",
       "    <tr>\n",
       "      <th>15</th>\n",
       "      <td>0.770888</td>\n",
       "      <td>0.771469</td>\n",
       "      <td>sag</td>\n",
       "      <td>100.00</td>\n",
       "    </tr>\n",
       "    <tr>\n",
       "      <th>16</th>\n",
       "      <td>0.770888</td>\n",
       "      <td>0.771469</td>\n",
       "      <td>sag</td>\n",
       "      <td>10.00</td>\n",
       "    </tr>\n",
       "    <tr>\n",
       "      <th>17</th>\n",
       "      <td>0.770888</td>\n",
       "      <td>0.771469</td>\n",
       "      <td>sag</td>\n",
       "      <td>1.00</td>\n",
       "    </tr>\n",
       "    <tr>\n",
       "      <th>18</th>\n",
       "      <td>0.770888</td>\n",
       "      <td>0.771469</td>\n",
       "      <td>sag</td>\n",
       "      <td>0.10</td>\n",
       "    </tr>\n",
       "    <tr>\n",
       "      <th>19</th>\n",
       "      <td>0.770888</td>\n",
       "      <td>0.771469</td>\n",
       "      <td>sag</td>\n",
       "      <td>0.01</td>\n",
       "    </tr>\n",
       "    <tr>\n",
       "      <th>20</th>\n",
       "      <td>0.764734</td>\n",
       "      <td>0.762243</td>\n",
       "      <td>saga</td>\n",
       "      <td>100.00</td>\n",
       "    </tr>\n",
       "    <tr>\n",
       "      <th>21</th>\n",
       "      <td>0.764734</td>\n",
       "      <td>0.762243</td>\n",
       "      <td>saga</td>\n",
       "      <td>10.00</td>\n",
       "    </tr>\n",
       "    <tr>\n",
       "      <th>22</th>\n",
       "      <td>0.764734</td>\n",
       "      <td>0.762243</td>\n",
       "      <td>saga</td>\n",
       "      <td>1.00</td>\n",
       "    </tr>\n",
       "    <tr>\n",
       "      <th>23</th>\n",
       "      <td>0.764734</td>\n",
       "      <td>0.762243</td>\n",
       "      <td>saga</td>\n",
       "      <td>0.10</td>\n",
       "    </tr>\n",
       "    <tr>\n",
       "      <th>24</th>\n",
       "      <td>0.764734</td>\n",
       "      <td>0.762243</td>\n",
       "      <td>saga</td>\n",
       "      <td>0.01</td>\n",
       "    </tr>\n",
       "  </tbody>\n",
       "</table>\n",
       "</div>"
      ],
      "text/plain": [
       "       train  validate solver_list  c_values\n",
       "0   0.801420  0.814053   newton-cg    100.00\n",
       "1   0.801420  0.813343   newton-cg     10.00\n",
       "2   0.800237  0.814762   newton-cg      1.00\n",
       "3   0.800947  0.814762   newton-cg      0.10\n",
       "4   0.798817  0.806955   newton-cg      0.01\n",
       "5   0.800710  0.815472       lbfgs    100.00\n",
       "6   0.798817  0.809794       lbfgs     10.00\n",
       "7   0.795503  0.803407       lbfgs      1.00\n",
       "8   0.800947  0.816891       lbfgs      0.10\n",
       "9   0.801420  0.809084       lbfgs      0.01\n",
       "10  0.800710  0.814053   liblinear    100.00\n",
       "11  0.800710  0.814053   liblinear     10.00\n",
       "12  0.800473  0.814762   liblinear      1.00\n",
       "13  0.800710  0.814762   liblinear      0.10\n",
       "14  0.799053  0.809794   liblinear      0.01\n",
       "15  0.770888  0.771469         sag    100.00\n",
       "16  0.770888  0.771469         sag     10.00\n",
       "17  0.770888  0.771469         sag      1.00\n",
       "18  0.770888  0.771469         sag      0.10\n",
       "19  0.770888  0.771469         sag      0.01\n",
       "20  0.764734  0.762243        saga    100.00\n",
       "21  0.764734  0.762243        saga     10.00\n",
       "22  0.764734  0.762243        saga      1.00\n",
       "23  0.764734  0.762243        saga      0.10\n",
       "24  0.764734  0.762243        saga      0.01"
      ]
     },
     "execution_count": 82,
     "metadata": {},
     "output_type": "execute_result"
    }
   ],
   "source": [
    "solver_list=['newton-cg', 'lbfgs', 'liblinear', 'sag', 'saga']\n",
    "c_values = [100, 10, 1.0, 0.1, 0.01]\n",
    "\n",
    "lr_2_train_scores = []\n",
    "lr_2_validate_scores = []\n",
    "solver_list_names=[]\n",
    "c_value_list=[]\n",
    "\n",
    "for i in solver_list:\n",
    "    for j in c_values:\n",
    "        logit_loop_2 = LogisticRegression(C=j, random_state=42, \n",
    "                               intercept_scaling=1, solver=i)    \n",
    "        logit_loop_2.fit(X_train, y_train)\n",
    "        \n",
    "        lr_2_train_scores.append(logit_loop_2.score(X_train, y_train))\n",
    "        lr_2_validate_scores.append(logit_loop_2.score(X_val, y_val))\n",
    "        solver_list_names.append(i)\n",
    "        c_value_list.append(j)\n",
    "lr_2_scores = {'train':lr_2_train_scores,'validate':lr_2_validate_scores,'solver_list':solver_list_names,'c_values':c_value_list}\n",
    "lr_2_scores = pd.DataFrame(lr_2_scores)\n",
    "lr_2_scores"
   ]
  },
  {
   "cell_type": "code",
   "execution_count": 85,
   "id": "f0bd94c4",
   "metadata": {},
   "outputs": [
    {
     "data": {
      "image/png": "[encoded data removed]",
      "text/plain": [
       "<Figure size 640x480 with 1 Axes>"
      ]
     },
     "metadata": {},
     "output_type": "display_data"
    }
   ],
   "source": [
    "plt.plot(lr_2_scores[\"train\"],label='train_scores')\n",
    "plt.plot(lr_2_scores[\"validate\"],label='validate_scores')\n",
    "plt.legend()\n",
    "plt.title(\"Logistic Regression (Solvers & C): Combos\")\n",
    "plt.show()"
   ]
  },
  {
   "cell_type": "code",
   "execution_count": 89,
   "id": "3b9d8217",
   "metadata": {},
   "outputs": [
    {
     "data": {
      "text/html": [
       "<div>\n",
       "<style scoped>\n",
       "    .dataframe tbody tr th:only-of-type {\n",
       "        vertical-align: middle;\n",
       "    }\n",
       "\n",
       "    .dataframe tbody tr th {\n",
       "        vertical-align: top;\n",
       "    }\n",
       "\n",
       "    .dataframe thead th {\n",
       "        text-align: right;\n",
       "    }\n",
       "</style>\n",
       "<table border=\"1\" class=\"dataframe\">\n",
       "  <thead>\n",
       "    <tr style=\"text-align: right;\">\n",
       "      <th></th>\n",
       "      <th>train</th>\n",
       "      <th>validate</th>\n",
       "    </tr>\n",
       "  </thead>\n",
       "  <tbody>\n",
       "    <tr>\n",
       "      <th>0</th>\n",
       "      <td>0.998107</td>\n",
       "      <td>0.703336</td>\n",
       "    </tr>\n",
       "    <tr>\n",
       "      <th>1</th>\n",
       "      <td>0.856095</td>\n",
       "      <td>0.753726</td>\n",
       "    </tr>\n",
       "    <tr>\n",
       "      <th>2</th>\n",
       "      <td>0.856568</td>\n",
       "      <td>0.762243</td>\n",
       "    </tr>\n",
       "    <tr>\n",
       "      <th>3</th>\n",
       "      <td>0.830533</td>\n",
       "      <td>0.767211</td>\n",
       "    </tr>\n",
       "    <tr>\n",
       "      <th>4</th>\n",
       "      <td>0.831716</td>\n",
       "      <td>0.777147</td>\n",
       "    </tr>\n",
       "    <tr>\n",
       "      <th>5</th>\n",
       "      <td>0.817988</td>\n",
       "      <td>0.778566</td>\n",
       "    </tr>\n",
       "    <tr>\n",
       "      <th>6</th>\n",
       "      <td>0.817515</td>\n",
       "      <td>0.780696</td>\n",
       "    </tr>\n",
       "    <tr>\n",
       "      <th>7</th>\n",
       "      <td>0.812308</td>\n",
       "      <td>0.780696</td>\n",
       "    </tr>\n",
       "    <tr>\n",
       "      <th>8</th>\n",
       "      <td>0.811598</td>\n",
       "      <td>0.784954</td>\n",
       "    </tr>\n",
       "    <tr>\n",
       "      <th>9</th>\n",
       "      <td>0.807101</td>\n",
       "      <td>0.779986</td>\n",
       "    </tr>\n",
       "    <tr>\n",
       "      <th>10</th>\n",
       "      <td>0.806154</td>\n",
       "      <td>0.779276</td>\n",
       "    </tr>\n",
       "    <tr>\n",
       "      <th>11</th>\n",
       "      <td>0.801183</td>\n",
       "      <td>0.782115</td>\n",
       "    </tr>\n",
       "    <tr>\n",
       "      <th>12</th>\n",
       "      <td>0.806627</td>\n",
       "      <td>0.782825</td>\n",
       "    </tr>\n",
       "    <tr>\n",
       "      <th>13</th>\n",
       "      <td>0.803787</td>\n",
       "      <td>0.781405</td>\n",
       "    </tr>\n",
       "    <tr>\n",
       "      <th>14</th>\n",
       "      <td>0.802367</td>\n",
       "      <td>0.779276</td>\n",
       "    </tr>\n",
       "  </tbody>\n",
       "</table>\n",
       "</div>"
      ],
      "text/plain": [
       "       train  validate\n",
       "0   0.998107  0.703336\n",
       "1   0.856095  0.753726\n",
       "2   0.856568  0.762243\n",
       "3   0.830533  0.767211\n",
       "4   0.831716  0.777147\n",
       "5   0.817988  0.778566\n",
       "6   0.817515  0.780696\n",
       "7   0.812308  0.780696\n",
       "8   0.811598  0.784954\n",
       "9   0.807101  0.779986\n",
       "10  0.806154  0.779276\n",
       "11  0.801183  0.782115\n",
       "12  0.806627  0.782825\n",
       "13  0.803787  0.781405\n",
       "14  0.802367  0.779276"
      ]
     },
     "execution_count": 89,
     "metadata": {},
     "output_type": "execute_result"
    }
   ],
   "source": [
    "knn_train_scores = []\n",
    "knn_validate_scores = []\n",
    "for i in range(1,16):\n",
    "    knn_loop = KNeighborsClassifier(n_neighbors=i)\n",
    "    knn_loop.fit(X_train, y_train)\n",
    "    knn_train_scores.append(knn_loop.score(X_train, y_train))\n",
    "    knn_validate_scores.append(knn_loop.score(X_val, y_val))\n",
    "knn_scores = {'train':knn_train_scores,'validate':knn_validate_scores}\n",
    "knn_scores = pd.DataFrame(knn_scores)\n",
    "knn_scores"
   ]
  },
  {
   "cell_type": "code",
   "execution_count": 90,
   "id": "964487ab",
   "metadata": {},
   "outputs": [
    {
     "data": {
      "image/png": "[encoded data removed]",
      "text/plain": [
       "<Figure size 640x480 with 1 Axes>"
      ]
     },
     "metadata": {},
     "output_type": "display_data"
    }
   ],
   "source": [
    "sns.lineplot(data=knn_scores)\n",
    "plt.title(\"K-Nearest Neighbor\")\n",
    "plt.show()"
   ]
  },
  {
   "cell_type": "code",
   "execution_count": 93,
   "id": "b0effbce",
   "metadata": {},
   "outputs": [
    {
     "data": {
      "text/html": [
       "<div>\n",
       "<style scoped>\n",
       "    .dataframe tbody tr th:only-of-type {\n",
       "        vertical-align: middle;\n",
       "    }\n",
       "\n",
       "    .dataframe tbody tr th {\n",
       "        vertical-align: top;\n",
       "    }\n",
       "\n",
       "    .dataframe thead th {\n",
       "        text-align: right;\n",
       "    }\n",
       "</style>\n",
       "<table border=\"1\" class=\"dataframe\">\n",
       "  <thead>\n",
       "    <tr style=\"text-align: right;\">\n",
       "      <th></th>\n",
       "      <th>train</th>\n",
       "      <th>validate</th>\n",
       "    </tr>\n",
       "  </thead>\n",
       "  <tbody>\n",
       "    <tr>\n",
       "      <th>0</th>\n",
       "      <td>0.734675</td>\n",
       "      <td>0.734564</td>\n",
       "    </tr>\n",
       "    <tr>\n",
       "      <th>1</th>\n",
       "      <td>0.759763</td>\n",
       "      <td>0.767211</td>\n",
       "    </tr>\n",
       "    <tr>\n",
       "      <th>2</th>\n",
       "      <td>0.787929</td>\n",
       "      <td>0.792761</td>\n",
       "    </tr>\n",
       "    <tr>\n",
       "      <th>3</th>\n",
       "      <td>0.792899</td>\n",
       "      <td>0.799148</td>\n",
       "    </tr>\n",
       "    <tr>\n",
       "      <th>4</th>\n",
       "      <td>0.801183</td>\n",
       "      <td>0.797019</td>\n",
       "    </tr>\n",
       "    <tr>\n",
       "      <th>5</th>\n",
       "      <td>0.814201</td>\n",
       "      <td>0.798439</td>\n",
       "    </tr>\n",
       "    <tr>\n",
       "      <th>6</th>\n",
       "      <td>0.823905</td>\n",
       "      <td>0.794890</td>\n",
       "    </tr>\n",
       "    <tr>\n",
       "      <th>7</th>\n",
       "      <td>0.840947</td>\n",
       "      <td>0.798439</td>\n",
       "    </tr>\n",
       "    <tr>\n",
       "      <th>8</th>\n",
       "      <td>0.857988</td>\n",
       "      <td>0.770759</td>\n",
       "    </tr>\n",
       "    <tr>\n",
       "      <th>9</th>\n",
       "      <td>0.879290</td>\n",
       "      <td>0.755145</td>\n",
       "    </tr>\n",
       "    <tr>\n",
       "      <th>10</th>\n",
       "      <td>0.896805</td>\n",
       "      <td>0.762952</td>\n",
       "    </tr>\n",
       "    <tr>\n",
       "      <th>11</th>\n",
       "      <td>0.920947</td>\n",
       "      <td>0.755145</td>\n",
       "    </tr>\n",
       "    <tr>\n",
       "      <th>12</th>\n",
       "      <td>0.941302</td>\n",
       "      <td>0.753016</td>\n",
       "    </tr>\n",
       "  </tbody>\n",
       "</table>\n",
       "</div>"
      ],
      "text/plain": [
       "       train  validate\n",
       "0   0.734675  0.734564\n",
       "1   0.759763  0.767211\n",
       "2   0.787929  0.792761\n",
       "3   0.792899  0.799148\n",
       "4   0.801183  0.797019\n",
       "5   0.814201  0.798439\n",
       "6   0.823905  0.794890\n",
       "7   0.840947  0.798439\n",
       "8   0.857988  0.770759\n",
       "9   0.879290  0.755145\n",
       "10  0.896805  0.762952\n",
       "11  0.920947  0.755145\n",
       "12  0.941302  0.753016"
      ]
     },
     "execution_count": 93,
     "metadata": {},
     "output_type": "execute_result"
    }
   ],
   "source": [
    "clf_train_scores = []\n",
    "clf_validate_scores = []\n",
    "for i in range(1,14):\n",
    "    clf_loop = DecisionTreeClassifier(max_depth=i)\n",
    "    clf_loop.fit(X_train, y_train)\n",
    "    clf_train_scores.append(clf_loop.score(X_train, y_train))\n",
    "    clf_validate_scores.append(clf_loop.score(X_val, y_val))\n",
    "clf_scores = {'train':clf_train_scores,'validate':clf_validate_scores}\n",
    "clf_scores = pd.DataFrame(clf_scores)\n",
    "clf_scores"
   ]
  },
  {
   "cell_type": "code",
   "execution_count": 94,
   "id": "0188a2df",
   "metadata": {},
   "outputs": [
    {
     "data": {
      "image/png": "[encoded data removed]",
      "text/plain": [
       "<Figure size 640x480 with 1 Axes>"
      ]
     },
     "metadata": {},
     "output_type": "display_data"
    }
   ],
   "source": [
    "sns.lineplot(data=clf_scores)\n",
    "plt.title(\"Decision Tree\")\n",
    "plt.show()"
   ]
  },
  {
   "cell_type": "code",
   "execution_count": 99,
   "id": "65e72bb9",
   "metadata": {},
   "outputs": [],
   "source": [
    "def get_mvb(X_train, y_train, X_test, y_test, df):\n",
    "    '''This function plots the test data and plot the baseline together for a final visual'''\n",
    "    \n",
    "    # Recalculating Best Peforming Model with new name\n",
    "    best_model = RandomForestClassifier(max_depth=8, random_state=42,\n",
    "                            max_samples=0.5) \n",
    "    best_model.fit(X_train, y_train)\n",
    "    best_model.score(X_test,y_test)\n",
    "    \n",
    "    # Baseline\n",
    "    df['baseline'] = df['churn_Yes'].value_counts().idxmax()\n",
    "    plot_baseline = (df['churn_Yes'] == df['baseline']).mean()\n",
    "    \n",
    "    # Best Performing Model(Logistic Regression Combo{c=100,newton-cg}) Test Score: \n",
    "    best_test_score = best_model.score(X_test,y_test)  \n",
    "    \n",
    "    # Test Scores: Project Baseline vs Best Model\n",
    "    plot_baseline, best_test_score\n",
    "    \n",
    "    # Temporary Dictionary Holding Baseline & Model Test Score\n",
    "    best_model_plot={\"Baseline\":[plot_baseline], \"Test\":[best_test_score]}\n",
    "    \n",
    "    # Converting Temporary Dictionary to DataFrame\n",
    "    best_model_plot = pd.DataFrame(best_model_plot)\n",
    "    \n",
    "    # Visualizing Both Baseline & Model Test Scores\n",
    "    fig=sns.barplot(data= best_model_plot,palette=\"colorblind\")\n",
    "    plt.title(\"Baseline vs. Best Model\")\n",
    "    fig.set(ylabel='Scores')\n",
    "    plt.show()"
   ]
  },
  {
   "cell_type": "code",
   "execution_count": 100,
   "id": "4c9159e3",
   "metadata": {},
   "outputs": [
    {
     "data": {
      "image/png": "[encoded data removed]",
      "text/plain": [
       "<Figure size 640x480 with 1 Axes>"
      ]
     },
     "metadata": {},
     "output_type": "display_data"
    }
   ],
   "source": [
    "get_mvb(X_train, y_train, X_test, y_test, train)"
   ]
  },
  {
   "cell_type": "code",
   "execution_count": null,
   "id": "30da29c7",
   "metadata": {},
   "outputs": [],
   "source": []
  }
 ],
 "metadata": {
  "kernelspec": {
   "display_name": "Python 3 (ipykernel)",
   "language": "python",
   "name": "python3"
  },
  "language_info": {
   "codemirror_mode": {
    "name": "ipython",
    "version": 3
   },
   "file_extension": ".py",
   "mimetype": "text/x-python",
   "name": "python",
   "nbconvert_exporter": "python",
   "pygments_lexer": "ipython3",
   "version": "3.9.13"
  }
 },
 "nbformat": 4,
 "nbformat_minor": 5
}
