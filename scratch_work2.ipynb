{
 "cells": [
  {
   "cell_type": "code",
   "execution_count": 1,
   "id": "d0bb0d0d",
   "metadata": {},
   "outputs": [],
   "source": [
    "#imports\n",
    "import numpy as np\n",
    "import pandas as pd\n",
    "import matplotlib.pyplot as plt\n",
    "import seaborn as sns\n",
    "from scipy import stats\n",
    "from sklearn.model_selection import train_test_split\n",
    "from sklearn.tree import DecisionTreeClassifier, plot_tree\n",
    "from sklearn.metrics import classification_report, confusion_matrix, plot_confusion_matrix, accuracy_score, precision_score, recall_score\n",
    "from pydataset import data\n",
    "from sklearn.model_selection import train_test_split\n",
    "from sklearn.ensemble import RandomForestClassifier \n",
    "from sklearn.linear_model import LogisticRegression\n",
    "from sklearn.neighbors import KNeighborsClassifier\n",
    "import prepare\n",
    "import acquire\n",
    "\n",
    "\n",
    "import warnings\n",
    "warnings.filterwarnings('ignore')"
   ]
  },
  {
   "cell_type": "code",
   "execution_count": 2,
   "id": "5d3c9ebc",
   "metadata": {},
   "outputs": [],
   "source": [
    "telco = acquire.get_telco_data()"
   ]
  },
  {
   "cell_type": "code",
   "execution_count": 3,
   "id": "4cbfe7e7",
   "metadata": {},
   "outputs": [],
   "source": [
    "telco = prepare.prep_telco(telco)"
   ]
  },
  {
   "cell_type": "code",
   "execution_count": 8,
   "id": "c4015cdc",
   "metadata": {},
   "outputs": [
    {
     "data": {
      "text/plain": [
       "Index(['customer_id', 'senior_citizen', 'tenure', 'monthly_charges',\n",
       "       'total_charges', 'contract_type', 'internet_service_type', 'churn_Yes',\n",
       "       'gender_Male', 'partner_Yes', 'dependents_Yes', 'phone_service_Yes',\n",
       "       'multiple_lines_Yes', 'online_security_Yes', 'online_backup_Yes',\n",
       "       'device_protection_Yes', 'tech_support_Yes', 'streaming_tv_Yes',\n",
       "       'streaming_movies_Yes', 'paperless_billing_Yes',\n",
       "       'contract_type_Month-to-month', 'contract_type_One year',\n",
       "       'contract_type_Two year', 'internet_service_type_DSL',\n",
       "       'internet_service_type_Fiber optic', 'internet_service_type_None',\n",
       "       'payment_type_Bank transfer (automatic)',\n",
       "       'payment_type_Credit card (automatic)', 'payment_type_Electronic check',\n",
       "       'payment_type_Mailed check'],\n",
       "      dtype='object')"
      ]
     },
     "execution_count": 8,
     "metadata": {},
     "output_type": "execute_result"
    }
   ],
   "source": [
    "telco.columns"
   ]
  },
  {
   "cell_type": "code",
   "execution_count": 5,
   "id": "ab06fa70",
   "metadata": {},
   "outputs": [],
   "source": [
    "train, val, test = prepare.my_train_test_split(telco, 'churn_Yes')"
   ]
  },
  {
   "cell_type": "code",
   "execution_count": 6,
   "id": "009f9ea7",
   "metadata": {},
   "outputs": [
    {
     "data": {
      "text/plain": [
       "((4225, 30), (1409, 30), (1409, 30))"
      ]
     },
     "execution_count": 6,
     "metadata": {},
     "output_type": "execute_result"
    }
   ],
   "source": [
    "train.shape, val.shape, test.shape"
   ]
  },
  {
   "cell_type": "code",
   "execution_count": 10,
   "id": "c5e76a95",
   "metadata": {},
   "outputs": [
    {
     "data": {
      "text/html": [
       "<div>\n",
       "<style scoped>\n",
       "    .dataframe tbody tr th:only-of-type {\n",
       "        vertical-align: middle;\n",
       "    }\n",
       "\n",
       "    .dataframe tbody tr th {\n",
       "        vertical-align: top;\n",
       "    }\n",
       "\n",
       "    .dataframe thead th {\n",
       "        text-align: right;\n",
       "    }\n",
       "</style>\n",
       "<table border=\"1\" class=\"dataframe\">\n",
       "  <thead>\n",
       "    <tr style=\"text-align: right;\">\n",
       "      <th></th>\n",
       "      <th>customer_id</th>\n",
       "      <th>senior_citizen</th>\n",
       "      <th>tenure</th>\n",
       "      <th>monthly_charges</th>\n",
       "      <th>total_charges</th>\n",
       "      <th>contract_type</th>\n",
       "      <th>internet_service_type</th>\n",
       "      <th>churn_Yes</th>\n",
       "      <th>gender_Male</th>\n",
       "      <th>partner_Yes</th>\n",
       "      <th>...</th>\n",
       "      <th>contract_type_Month-to-month</th>\n",
       "      <th>contract_type_One year</th>\n",
       "      <th>contract_type_Two year</th>\n",
       "      <th>internet_service_type_DSL</th>\n",
       "      <th>internet_service_type_Fiber optic</th>\n",
       "      <th>internet_service_type_None</th>\n",
       "      <th>payment_type_Bank transfer (automatic)</th>\n",
       "      <th>payment_type_Credit card (automatic)</th>\n",
       "      <th>payment_type_Electronic check</th>\n",
       "      <th>payment_type_Mailed check</th>\n",
       "    </tr>\n",
       "  </thead>\n",
       "  <tbody>\n",
       "    <tr>\n",
       "      <th>5911</th>\n",
       "      <td>8319-QBEHW</td>\n",
       "      <td>0</td>\n",
       "      <td>26</td>\n",
       "      <td>39.95</td>\n",
       "      <td>1023.75</td>\n",
       "      <td>One year</td>\n",
       "      <td>DSL</td>\n",
       "      <td>0</td>\n",
       "      <td>1</td>\n",
       "      <td>0</td>\n",
       "      <td>...</td>\n",
       "      <td>0</td>\n",
       "      <td>1</td>\n",
       "      <td>0</td>\n",
       "      <td>1</td>\n",
       "      <td>0</td>\n",
       "      <td>0</td>\n",
       "      <td>1</td>\n",
       "      <td>0</td>\n",
       "      <td>0</td>\n",
       "      <td>0</td>\n",
       "    </tr>\n",
       "    <tr>\n",
       "      <th>2479</th>\n",
       "      <td>3547-LQRIK</td>\n",
       "      <td>0</td>\n",
       "      <td>47</td>\n",
       "      <td>26.90</td>\n",
       "      <td>1250.85</td>\n",
       "      <td>One year</td>\n",
       "      <td>None</td>\n",
       "      <td>0</td>\n",
       "      <td>0</td>\n",
       "      <td>1</td>\n",
       "      <td>...</td>\n",
       "      <td>0</td>\n",
       "      <td>1</td>\n",
       "      <td>0</td>\n",
       "      <td>0</td>\n",
       "      <td>0</td>\n",
       "      <td>1</td>\n",
       "      <td>0</td>\n",
       "      <td>0</td>\n",
       "      <td>1</td>\n",
       "      <td>0</td>\n",
       "    </tr>\n",
       "    <tr>\n",
       "      <th>5889</th>\n",
       "      <td>8280-MQRQN</td>\n",
       "      <td>0</td>\n",
       "      <td>1</td>\n",
       "      <td>50.45</td>\n",
       "      <td>50.45</td>\n",
       "      <td>Month-to-month</td>\n",
       "      <td>DSL</td>\n",
       "      <td>1</td>\n",
       "      <td>0</td>\n",
       "      <td>0</td>\n",
       "      <td>...</td>\n",
       "      <td>1</td>\n",
       "      <td>0</td>\n",
       "      <td>0</td>\n",
       "      <td>1</td>\n",
       "      <td>0</td>\n",
       "      <td>0</td>\n",
       "      <td>0</td>\n",
       "      <td>0</td>\n",
       "      <td>0</td>\n",
       "      <td>1</td>\n",
       "    </tr>\n",
       "    <tr>\n",
       "      <th>6087</th>\n",
       "      <td>8626-PTQGE</td>\n",
       "      <td>0</td>\n",
       "      <td>69</td>\n",
       "      <td>60.05</td>\n",
       "      <td>4176.70</td>\n",
       "      <td>Two year</td>\n",
       "      <td>DSL</td>\n",
       "      <td>0</td>\n",
       "      <td>1</td>\n",
       "      <td>0</td>\n",
       "      <td>...</td>\n",
       "      <td>0</td>\n",
       "      <td>0</td>\n",
       "      <td>1</td>\n",
       "      <td>1</td>\n",
       "      <td>0</td>\n",
       "      <td>0</td>\n",
       "      <td>1</td>\n",
       "      <td>0</td>\n",
       "      <td>0</td>\n",
       "      <td>0</td>\n",
       "    </tr>\n",
       "    <tr>\n",
       "      <th>785</th>\n",
       "      <td>1142-IHLOO</td>\n",
       "      <td>0</td>\n",
       "      <td>51</td>\n",
       "      <td>87.55</td>\n",
       "      <td>4475.90</td>\n",
       "      <td>One year</td>\n",
       "      <td>Fiber optic</td>\n",
       "      <td>0</td>\n",
       "      <td>0</td>\n",
       "      <td>0</td>\n",
       "      <td>...</td>\n",
       "      <td>0</td>\n",
       "      <td>1</td>\n",
       "      <td>0</td>\n",
       "      <td>0</td>\n",
       "      <td>1</td>\n",
       "      <td>0</td>\n",
       "      <td>0</td>\n",
       "      <td>1</td>\n",
       "      <td>0</td>\n",
       "      <td>0</td>\n",
       "    </tr>\n",
       "  </tbody>\n",
       "</table>\n",
       "<p>5 rows × 30 columns</p>\n",
       "</div>"
      ],
      "text/plain": [
       "     customer_id  senior_citizen  tenure  monthly_charges  total_charges  \\\n",
       "5911  8319-QBEHW               0      26            39.95        1023.75   \n",
       "2479  3547-LQRIK               0      47            26.90        1250.85   \n",
       "5889  8280-MQRQN               0       1            50.45          50.45   \n",
       "6087  8626-PTQGE               0      69            60.05        4176.70   \n",
       "785   1142-IHLOO               0      51            87.55        4475.90   \n",
       "\n",
       "       contract_type internet_service_type  churn_Yes  gender_Male  \\\n",
       "5911        One year                   DSL          0            1   \n",
       "2479        One year                  None          0            0   \n",
       "5889  Month-to-month                   DSL          1            0   \n",
       "6087        Two year                   DSL          0            1   \n",
       "785         One year           Fiber optic          0            0   \n",
       "\n",
       "      partner_Yes  ...  contract_type_Month-to-month  contract_type_One year  \\\n",
       "5911            0  ...                             0                       1   \n",
       "2479            1  ...                             0                       1   \n",
       "5889            0  ...                             1                       0   \n",
       "6087            0  ...                             0                       0   \n",
       "785             0  ...                             0                       1   \n",
       "\n",
       "      contract_type_Two year  internet_service_type_DSL  \\\n",
       "5911                       0                          1   \n",
       "2479                       0                          0   \n",
       "5889                       0                          1   \n",
       "6087                       1                          1   \n",
       "785                        0                          0   \n",
       "\n",
       "      internet_service_type_Fiber optic  internet_service_type_None  \\\n",
       "5911                                  0                           0   \n",
       "2479                                  0                           1   \n",
       "5889                                  0                           0   \n",
       "6087                                  0                           0   \n",
       "785                                   1                           0   \n",
       "\n",
       "      payment_type_Bank transfer (automatic)  \\\n",
       "5911                                       1   \n",
       "2479                                       0   \n",
       "5889                                       0   \n",
       "6087                                       1   \n",
       "785                                        0   \n",
       "\n",
       "      payment_type_Credit card (automatic)  payment_type_Electronic check  \\\n",
       "5911                                     0                              0   \n",
       "2479                                     0                              1   \n",
       "5889                                     0                              0   \n",
       "6087                                     0                              0   \n",
       "785                                      1                              0   \n",
       "\n",
       "      payment_type_Mailed check  \n",
       "5911                          0  \n",
       "2479                          0  \n",
       "5889                          1  \n",
       "6087                          0  \n",
       "785                           0  \n",
       "\n",
       "[5 rows x 30 columns]"
      ]
     },
     "execution_count": 10,
     "metadata": {},
     "output_type": "execute_result"
    }
   ],
   "source": [
    "train.head()"
   ]
  },
  {
   "cell_type": "code",
   "execution_count": 12,
   "id": "50f1289b",
   "metadata": {},
   "outputs": [],
   "source": [
    "X_train = train.drop(columns=['churn_Yes', 'contract_type', 'customer_id', 'internet_service_type'])\n",
    "y_train = train.churn_Yes\n",
    "\n",
    "X_val = val.drop(columns=['churn_Yes', 'contract_type', 'customer_id', 'internet_service_type'])\n",
    "y_val = val.churn_Yes\n",
    "\n",
    "X_test = test.drop(columns=['churn_Yes', 'contract_type', 'customer_id', 'internet_service_type'])\n",
    "y_test = test.churn_Yes"
   ]
  },
  {
   "cell_type": "code",
   "execution_count": 29,
   "id": "4a7272e2",
   "metadata": {},
   "outputs": [],
   "source": [
    "telco['baseline'] = telco['churn_Yes'].value_counts().idxmax()"
   ]
  },
  {
   "cell_type": "code",
   "execution_count": 30,
   "id": "d7f63acb",
   "metadata": {},
   "outputs": [
    {
     "data": {
      "text/plain": [
       "0.7346301292063041"
      ]
     },
     "execution_count": 30,
     "metadata": {},
     "output_type": "execute_result"
    }
   ],
   "source": [
    "(telco['churn_Yes'] == telco['baseline']).mean()"
   ]
  },
  {
   "cell_type": "code",
   "execution_count": 169,
   "id": "e8702253",
   "metadata": {},
   "outputs": [
    {
     "data": {
      "text/plain": [
       "0.7346301292063041"
      ]
     },
     "execution_count": 169,
     "metadata": {},
     "output_type": "execute_result"
    }
   ],
   "source": [
    "(telco['churn_Yes'] == telco['baseline']).mean()"
   ]
  },
  {
   "cell_type": "code",
   "execution_count": 62,
   "id": "c6a4b235",
   "metadata": {},
   "outputs": [],
   "source": [
    "seed = 42\n",
    "clf1 = DecisionTreeClassifier(max_depth=3, random_state=42)"
   ]
  },
  {
   "cell_type": "code",
   "execution_count": 63,
   "id": "5b2721fd",
   "metadata": {},
   "outputs": [
    {
     "data": {
      "text/plain": [
       "DecisionTreeClassifier(max_depth=3, random_state=42)"
      ]
     },
     "execution_count": 63,
     "metadata": {},
     "output_type": "execute_result"
    }
   ],
   "source": [
    "clf1.fit(X_train, y_train)"
   ]
  },
  {
   "cell_type": "code",
   "execution_count": 172,
   "id": "7309b734",
   "metadata": {},
   "outputs": [
    {
     "data": {
      "text/plain": [
       "DecisionTreeClassifier(max_depth=3, random_state=42)"
      ]
     },
     "execution_count": 172,
     "metadata": {},
     "output_type": "execute_result"
    }
   ],
   "source": [
    "clf1.fit(X_val, y_val)"
   ]
  },
  {
   "cell_type": "code",
   "execution_count": 64,
   "id": "e2e07de4",
   "metadata": {},
   "outputs": [
    {
     "data": {
      "text/plain": [
       "0.7879289940828402"
      ]
     },
     "execution_count": 64,
     "metadata": {},
     "output_type": "execute_result"
    }
   ],
   "source": [
    "clf1.score(X_train, y_train)"
   ]
  },
  {
   "cell_type": "code",
   "execution_count": 173,
   "id": "3afde65d",
   "metadata": {},
   "outputs": [
    {
     "data": {
      "text/plain": [
       "0.7977288857345636"
      ]
     },
     "execution_count": 173,
     "metadata": {},
     "output_type": "execute_result"
    }
   ],
   "source": [
    "clf1.score(X_val, y_val)"
   ]
  },
  {
   "cell_type": "code",
   "execution_count": 65,
   "id": "dec5170c",
   "metadata": {},
   "outputs": [],
   "source": [
    "val_preds1 = clf1.predict(X_val)"
   ]
  },
  {
   "cell_type": "code",
   "execution_count": 66,
   "id": "f7fe30a9",
   "metadata": {},
   "outputs": [
    {
     "name": "stdout",
     "output_type": "stream",
     "text": [
      "              precision    recall  f1-score   support\n",
      "\n",
      "           0       0.81      0.94      0.87      1035\n",
      "           1       0.70      0.39      0.50       374\n",
      "\n",
      "    accuracy                           0.79      1409\n",
      "   macro avg       0.75      0.66      0.68      1409\n",
      "weighted avg       0.78      0.79      0.77      1409\n",
      "\n"
     ]
    }
   ],
   "source": [
    "print(classification_report(y_val, val_preds1))"
   ]
  },
  {
   "cell_type": "code",
   "execution_count": 67,
   "id": "ae39e8da",
   "metadata": {},
   "outputs": [],
   "source": [
    "seed = 42\n",
    "clf2 = DecisionTreeClassifier(max_depth=6, random_state=42)"
   ]
  },
  {
   "cell_type": "code",
   "execution_count": 68,
   "id": "809416fe",
   "metadata": {},
   "outputs": [
    {
     "data": {
      "text/plain": [
       "DecisionTreeClassifier(max_depth=6, random_state=42)"
      ]
     },
     "execution_count": 68,
     "metadata": {},
     "output_type": "execute_result"
    }
   ],
   "source": [
    "clf2.fit(X_train, y_train)"
   ]
  },
  {
   "cell_type": "code",
   "execution_count": 174,
   "id": "f4b8e698",
   "metadata": {},
   "outputs": [
    {
     "data": {
      "text/plain": [
       "DecisionTreeClassifier(max_depth=6, random_state=42)"
      ]
     },
     "execution_count": 174,
     "metadata": {},
     "output_type": "execute_result"
    }
   ],
   "source": [
    "clf2.fit(X_val, y_val)"
   ]
  },
  {
   "cell_type": "code",
   "execution_count": 69,
   "id": "18e2d608",
   "metadata": {},
   "outputs": [
    {
     "data": {
      "text/plain": [
       "0.8139644970414202"
      ]
     },
     "execution_count": 69,
     "metadata": {},
     "output_type": "execute_result"
    }
   ],
   "source": [
    "clf2.score(X_train, y_train)"
   ]
  },
  {
   "cell_type": "code",
   "execution_count": 175,
   "id": "ac6f697e",
   "metadata": {},
   "outputs": [
    {
     "data": {
      "text/plain": [
       "0.8388928317955997"
      ]
     },
     "execution_count": 175,
     "metadata": {},
     "output_type": "execute_result"
    }
   ],
   "source": [
    "clf2.score(X_val, y_val)"
   ]
  },
  {
   "cell_type": "code",
   "execution_count": 70,
   "id": "179034ac",
   "metadata": {},
   "outputs": [],
   "source": [
    "val_preds2 = clf2.predict(X_val)"
   ]
  },
  {
   "cell_type": "code",
   "execution_count": 71,
   "id": "585513d8",
   "metadata": {},
   "outputs": [
    {
     "name": "stdout",
     "output_type": "stream",
     "text": [
      "              precision    recall  f1-score   support\n",
      "\n",
      "           0       0.85      0.88      0.86      1035\n",
      "           1       0.63      0.57      0.60       374\n",
      "\n",
      "    accuracy                           0.80      1409\n",
      "   macro avg       0.74      0.73      0.73      1409\n",
      "weighted avg       0.79      0.80      0.79      1409\n",
      "\n"
     ]
    }
   ],
   "source": [
    "print(classification_report(y_val, val_preds2))"
   ]
  },
  {
   "cell_type": "code",
   "execution_count": 72,
   "id": "f3b1260a",
   "metadata": {},
   "outputs": [],
   "source": [
    "seed = 42\n",
    "clf3 = DecisionTreeClassifier(max_depth=9, random_state=42)"
   ]
  },
  {
   "cell_type": "code",
   "execution_count": 73,
   "id": "396fb6f0",
   "metadata": {},
   "outputs": [
    {
     "data": {
      "text/plain": [
       "DecisionTreeClassifier(max_depth=9, random_state=42)"
      ]
     },
     "execution_count": 73,
     "metadata": {},
     "output_type": "execute_result"
    }
   ],
   "source": [
    "clf3.fit(X_train, y_train)"
   ]
  },
  {
   "cell_type": "code",
   "execution_count": 176,
   "id": "b6dd875f",
   "metadata": {},
   "outputs": [
    {
     "data": {
      "text/plain": [
       "DecisionTreeClassifier(max_depth=9, random_state=42)"
      ]
     },
     "execution_count": 176,
     "metadata": {},
     "output_type": "execute_result"
    }
   ],
   "source": [
    "clf3.fit(X_val, y_val)"
   ]
  },
  {
   "cell_type": "code",
   "execution_count": 74,
   "id": "19335fdf",
   "metadata": {},
   "outputs": [
    {
     "data": {
      "text/plain": [
       "0.8575147928994082"
      ]
     },
     "execution_count": 74,
     "metadata": {},
     "output_type": "execute_result"
    }
   ],
   "source": [
    "clf3.score(X_train, y_train)"
   ]
  },
  {
   "cell_type": "code",
   "execution_count": 177,
   "id": "7a0607a6",
   "metadata": {},
   "outputs": [
    {
     "data": {
      "text/plain": [
       "0.9070262597586941"
      ]
     },
     "execution_count": 177,
     "metadata": {},
     "output_type": "execute_result"
    }
   ],
   "source": [
    "clf3.score(X_val, y_val)"
   ]
  },
  {
   "cell_type": "code",
   "execution_count": 75,
   "id": "e0049027",
   "metadata": {},
   "outputs": [],
   "source": [
    "val_preds3 = clf3.predict(X_val)"
   ]
  },
  {
   "cell_type": "code",
   "execution_count": 76,
   "id": "ad5c7ba4",
   "metadata": {},
   "outputs": [
    {
     "name": "stdout",
     "output_type": "stream",
     "text": [
      "              precision    recall  f1-score   support\n",
      "\n",
      "           0       0.84      0.86      0.85      1035\n",
      "           1       0.58      0.54      0.56       374\n",
      "\n",
      "    accuracy                           0.77      1409\n",
      "   macro avg       0.71      0.70      0.70      1409\n",
      "weighted avg       0.77      0.77      0.77      1409\n",
      "\n"
     ]
    }
   ],
   "source": [
    "print(classification_report(y_val, val_preds3))"
   ]
  },
  {
   "cell_type": "code",
   "execution_count": null,
   "id": "ae5b4c36",
   "metadata": {},
   "outputs": [],
   "source": []
  },
  {
   "cell_type": "code",
   "execution_count": 18,
   "id": "2e2f1911",
   "metadata": {},
   "outputs": [],
   "source": [
    "seed=42\n",
    "\n",
    "rf = RandomForestClassifier(max_depth=3, random_state=42,\n",
    "                            max_samples=0.5)"
   ]
  },
  {
   "cell_type": "code",
   "execution_count": 19,
   "id": "b28ae6e0",
   "metadata": {},
   "outputs": [
    {
     "data": {
      "text/plain": [
       "RandomForestClassifier(max_depth=3, max_samples=0.5, random_state=42)"
      ]
     },
     "execution_count": 19,
     "metadata": {},
     "output_type": "execute_result"
    }
   ],
   "source": [
    "rf.fit(X_train, y_train)"
   ]
  },
  {
   "cell_type": "code",
   "execution_count": 20,
   "id": "3bb05bd6",
   "metadata": {},
   "outputs": [
    {
     "data": {
      "text/plain": [
       "0.7853254437869822"
      ]
     },
     "execution_count": 20,
     "metadata": {},
     "output_type": "execute_result"
    }
   ],
   "source": [
    "rf.score(X_train, y_train)"
   ]
  },
  {
   "cell_type": "code",
   "execution_count": 21,
   "id": "226da73f",
   "metadata": {},
   "outputs": [
    {
     "data": {
      "text/plain": [
       "0.7835344215755855"
      ]
     },
     "execution_count": 21,
     "metadata": {},
     "output_type": "execute_result"
    }
   ],
   "source": [
    "rf.score(X_val, y_val)"
   ]
  },
  {
   "cell_type": "code",
   "execution_count": 22,
   "id": "fec26ec8",
   "metadata": {},
   "outputs": [
    {
     "data": {
      "text/plain": [
       "array([0.0044534 , 0.19477786, 0.06572132, 0.0777949 , 0.00035268,\n",
       "       0.00547427, 0.00481942, 0.00118334, 0.0015439 , 0.01991752,\n",
       "       0.00499943, 0.00087789, 0.01311585, 0.00265045, 0.00309563,\n",
       "       0.02657618, 0.2360173 , 0.01917209, 0.06150494, 0.01157904,\n",
       "       0.12394701, 0.02924966, 0.00305576, 0.00304351, 0.08189897,\n",
       "       0.00317768])"
      ]
     },
     "execution_count": 22,
     "metadata": {},
     "output_type": "execute_result"
    }
   ],
   "source": [
    "rf.feature_importances_"
   ]
  },
  {
   "cell_type": "code",
   "execution_count": 23,
   "id": "38fb2fcc",
   "metadata": {},
   "outputs": [],
   "source": [
    "importance_df = pd.DataFrame({'feature': X_train.columns.tolist(),\n",
    "              'importance': rf.feature_importances_})"
   ]
  },
  {
   "cell_type": "code",
   "execution_count": 24,
   "id": "0955723b",
   "metadata": {},
   "outputs": [
    {
     "data": {
      "text/html": [
       "<div>\n",
       "<style scoped>\n",
       "    .dataframe tbody tr th:only-of-type {\n",
       "        vertical-align: middle;\n",
       "    }\n",
       "\n",
       "    .dataframe tbody tr th {\n",
       "        vertical-align: top;\n",
       "    }\n",
       "\n",
       "    .dataframe thead th {\n",
       "        text-align: right;\n",
       "    }\n",
       "</style>\n",
       "<table border=\"1\" class=\"dataframe\">\n",
       "  <thead>\n",
       "    <tr style=\"text-align: right;\">\n",
       "      <th></th>\n",
       "      <th>feature</th>\n",
       "      <th>importance</th>\n",
       "    </tr>\n",
       "  </thead>\n",
       "  <tbody>\n",
       "    <tr>\n",
       "      <th>16</th>\n",
       "      <td>contract_type_Month-to-month</td>\n",
       "      <td>0.236017</td>\n",
       "    </tr>\n",
       "    <tr>\n",
       "      <th>1</th>\n",
       "      <td>tenure</td>\n",
       "      <td>0.194778</td>\n",
       "    </tr>\n",
       "    <tr>\n",
       "      <th>20</th>\n",
       "      <td>internet_service_type_Fiber optic</td>\n",
       "      <td>0.123947</td>\n",
       "    </tr>\n",
       "    <tr>\n",
       "      <th>24</th>\n",
       "      <td>payment_type_Electronic check</td>\n",
       "      <td>0.081899</td>\n",
       "    </tr>\n",
       "    <tr>\n",
       "      <th>3</th>\n",
       "      <td>total_charges</td>\n",
       "      <td>0.077795</td>\n",
       "    </tr>\n",
       "    <tr>\n",
       "      <th>2</th>\n",
       "      <td>monthly_charges</td>\n",
       "      <td>0.065721</td>\n",
       "    </tr>\n",
       "    <tr>\n",
       "      <th>18</th>\n",
       "      <td>contract_type_Two year</td>\n",
       "      <td>0.061505</td>\n",
       "    </tr>\n",
       "    <tr>\n",
       "      <th>21</th>\n",
       "      <td>internet_service_type_None</td>\n",
       "      <td>0.029250</td>\n",
       "    </tr>\n",
       "    <tr>\n",
       "      <th>15</th>\n",
       "      <td>paperless_billing_Yes</td>\n",
       "      <td>0.026576</td>\n",
       "    </tr>\n",
       "    <tr>\n",
       "      <th>9</th>\n",
       "      <td>online_security_Yes</td>\n",
       "      <td>0.019918</td>\n",
       "    </tr>\n",
       "    <tr>\n",
       "      <th>17</th>\n",
       "      <td>contract_type_One year</td>\n",
       "      <td>0.019172</td>\n",
       "    </tr>\n",
       "    <tr>\n",
       "      <th>12</th>\n",
       "      <td>tech_support_Yes</td>\n",
       "      <td>0.013116</td>\n",
       "    </tr>\n",
       "    <tr>\n",
       "      <th>19</th>\n",
       "      <td>internet_service_type_DSL</td>\n",
       "      <td>0.011579</td>\n",
       "    </tr>\n",
       "    <tr>\n",
       "      <th>5</th>\n",
       "      <td>partner_Yes</td>\n",
       "      <td>0.005474</td>\n",
       "    </tr>\n",
       "    <tr>\n",
       "      <th>10</th>\n",
       "      <td>online_backup_Yes</td>\n",
       "      <td>0.004999</td>\n",
       "    </tr>\n",
       "    <tr>\n",
       "      <th>6</th>\n",
       "      <td>dependents_Yes</td>\n",
       "      <td>0.004819</td>\n",
       "    </tr>\n",
       "    <tr>\n",
       "      <th>0</th>\n",
       "      <td>senior_citizen</td>\n",
       "      <td>0.004453</td>\n",
       "    </tr>\n",
       "    <tr>\n",
       "      <th>25</th>\n",
       "      <td>payment_type_Mailed check</td>\n",
       "      <td>0.003178</td>\n",
       "    </tr>\n",
       "    <tr>\n",
       "      <th>14</th>\n",
       "      <td>streaming_movies_Yes</td>\n",
       "      <td>0.003096</td>\n",
       "    </tr>\n",
       "    <tr>\n",
       "      <th>22</th>\n",
       "      <td>payment_type_Bank transfer (automatic)</td>\n",
       "      <td>0.003056</td>\n",
       "    </tr>\n",
       "    <tr>\n",
       "      <th>23</th>\n",
       "      <td>payment_type_Credit card (automatic)</td>\n",
       "      <td>0.003044</td>\n",
       "    </tr>\n",
       "    <tr>\n",
       "      <th>13</th>\n",
       "      <td>streaming_tv_Yes</td>\n",
       "      <td>0.002650</td>\n",
       "    </tr>\n",
       "    <tr>\n",
       "      <th>8</th>\n",
       "      <td>multiple_lines_Yes</td>\n",
       "      <td>0.001544</td>\n",
       "    </tr>\n",
       "    <tr>\n",
       "      <th>7</th>\n",
       "      <td>phone_service_Yes</td>\n",
       "      <td>0.001183</td>\n",
       "    </tr>\n",
       "    <tr>\n",
       "      <th>11</th>\n",
       "      <td>device_protection_Yes</td>\n",
       "      <td>0.000878</td>\n",
       "    </tr>\n",
       "    <tr>\n",
       "      <th>4</th>\n",
       "      <td>gender_Male</td>\n",
       "      <td>0.000353</td>\n",
       "    </tr>\n",
       "  </tbody>\n",
       "</table>\n",
       "</div>"
      ],
      "text/plain": [
       "                                   feature  importance\n",
       "16            contract_type_Month-to-month    0.236017\n",
       "1                                   tenure    0.194778\n",
       "20       internet_service_type_Fiber optic    0.123947\n",
       "24           payment_type_Electronic check    0.081899\n",
       "3                            total_charges    0.077795\n",
       "2                          monthly_charges    0.065721\n",
       "18                  contract_type_Two year    0.061505\n",
       "21              internet_service_type_None    0.029250\n",
       "15                   paperless_billing_Yes    0.026576\n",
       "9                      online_security_Yes    0.019918\n",
       "17                  contract_type_One year    0.019172\n",
       "12                        tech_support_Yes    0.013116\n",
       "19               internet_service_type_DSL    0.011579\n",
       "5                              partner_Yes    0.005474\n",
       "10                       online_backup_Yes    0.004999\n",
       "6                           dependents_Yes    0.004819\n",
       "0                           senior_citizen    0.004453\n",
       "25               payment_type_Mailed check    0.003178\n",
       "14                    streaming_movies_Yes    0.003096\n",
       "22  payment_type_Bank transfer (automatic)    0.003056\n",
       "23    payment_type_Credit card (automatic)    0.003044\n",
       "13                        streaming_tv_Yes    0.002650\n",
       "8                       multiple_lines_Yes    0.001544\n",
       "7                        phone_service_Yes    0.001183\n",
       "11                   device_protection_Yes    0.000878\n",
       "4                              gender_Male    0.000353"
      ]
     },
     "execution_count": 24,
     "metadata": {},
     "output_type": "execute_result"
    }
   ],
   "source": [
    "importance_df.sort_values('importance', ascending=False)"
   ]
  },
  {
   "cell_type": "code",
   "execution_count": 77,
   "id": "edac8ffa",
   "metadata": {},
   "outputs": [],
   "source": [
    "seed=42\n",
    "\n",
    "rf2 = RandomForestClassifier(max_depth=5, random_state=42,\n",
    "                            max_samples=0.5)"
   ]
  },
  {
   "cell_type": "code",
   "execution_count": 78,
   "id": "75086c71",
   "metadata": {},
   "outputs": [
    {
     "data": {
      "text/plain": [
       "RandomForestClassifier(max_depth=5, max_samples=0.5, random_state=42)"
      ]
     },
     "execution_count": 78,
     "metadata": {},
     "output_type": "execute_result"
    }
   ],
   "source": [
    "rf2.fit(X_train, y_train)"
   ]
  },
  {
   "cell_type": "code",
   "execution_count": 79,
   "id": "827a5e5c",
   "metadata": {},
   "outputs": [
    {
     "data": {
      "text/plain": [
       "0.808284023668639"
      ]
     },
     "execution_count": 79,
     "metadata": {},
     "output_type": "execute_result"
    }
   ],
   "source": [
    "rf2.score(X_train, y_train)"
   ]
  },
  {
   "cell_type": "code",
   "execution_count": 80,
   "id": "91c1e021",
   "metadata": {},
   "outputs": [
    {
     "data": {
      "text/plain": [
       "0.8026969481902059"
      ]
     },
     "execution_count": 80,
     "metadata": {},
     "output_type": "execute_result"
    }
   ],
   "source": [
    "rf2.score(X_val, y_val)"
   ]
  },
  {
   "cell_type": "code",
   "execution_count": 81,
   "id": "96313f77",
   "metadata": {},
   "outputs": [
    {
     "data": {
      "text/plain": [
       "array([0.00695798, 0.1920451 , 0.0819686 , 0.0950614 , 0.00208595,\n",
       "       0.00770562, 0.00790093, 0.00592475, 0.00471223, 0.01591007,\n",
       "       0.0062639 , 0.00306831, 0.0096559 , 0.00519321, 0.00511255,\n",
       "       0.02215915, 0.19819149, 0.02327167, 0.05545927, 0.01665904,\n",
       "       0.11652753, 0.03004392, 0.00438303, 0.0057664 , 0.07229806,\n",
       "       0.00567393])"
      ]
     },
     "execution_count": 81,
     "metadata": {},
     "output_type": "execute_result"
    }
   ],
   "source": [
    "rf2.feature_importances_"
   ]
  },
  {
   "cell_type": "code",
   "execution_count": 82,
   "id": "51e4f99b",
   "metadata": {},
   "outputs": [],
   "source": [
    "importance_df2 = pd.DataFrame({'feature': X_train.columns.tolist(),\n",
    "              'importance': rf2.feature_importances_})"
   ]
  },
  {
   "cell_type": "code",
   "execution_count": 83,
   "id": "d230ce85",
   "metadata": {},
   "outputs": [
    {
     "data": {
      "text/html": [
       "<div>\n",
       "<style scoped>\n",
       "    .dataframe tbody tr th:only-of-type {\n",
       "        vertical-align: middle;\n",
       "    }\n",
       "\n",
       "    .dataframe tbody tr th {\n",
       "        vertical-align: top;\n",
       "    }\n",
       "\n",
       "    .dataframe thead th {\n",
       "        text-align: right;\n",
       "    }\n",
       "</style>\n",
       "<table border=\"1\" class=\"dataframe\">\n",
       "  <thead>\n",
       "    <tr style=\"text-align: right;\">\n",
       "      <th></th>\n",
       "      <th>feature</th>\n",
       "      <th>importance</th>\n",
       "    </tr>\n",
       "  </thead>\n",
       "  <tbody>\n",
       "    <tr>\n",
       "      <th>16</th>\n",
       "      <td>contract_type_Month-to-month</td>\n",
       "      <td>0.198191</td>\n",
       "    </tr>\n",
       "    <tr>\n",
       "      <th>1</th>\n",
       "      <td>tenure</td>\n",
       "      <td>0.192045</td>\n",
       "    </tr>\n",
       "    <tr>\n",
       "      <th>20</th>\n",
       "      <td>internet_service_type_Fiber optic</td>\n",
       "      <td>0.116528</td>\n",
       "    </tr>\n",
       "    <tr>\n",
       "      <th>3</th>\n",
       "      <td>total_charges</td>\n",
       "      <td>0.095061</td>\n",
       "    </tr>\n",
       "    <tr>\n",
       "      <th>2</th>\n",
       "      <td>monthly_charges</td>\n",
       "      <td>0.081969</td>\n",
       "    </tr>\n",
       "    <tr>\n",
       "      <th>24</th>\n",
       "      <td>payment_type_Electronic check</td>\n",
       "      <td>0.072298</td>\n",
       "    </tr>\n",
       "    <tr>\n",
       "      <th>18</th>\n",
       "      <td>contract_type_Two year</td>\n",
       "      <td>0.055459</td>\n",
       "    </tr>\n",
       "    <tr>\n",
       "      <th>21</th>\n",
       "      <td>internet_service_type_None</td>\n",
       "      <td>0.030044</td>\n",
       "    </tr>\n",
       "    <tr>\n",
       "      <th>17</th>\n",
       "      <td>contract_type_One year</td>\n",
       "      <td>0.023272</td>\n",
       "    </tr>\n",
       "    <tr>\n",
       "      <th>15</th>\n",
       "      <td>paperless_billing_Yes</td>\n",
       "      <td>0.022159</td>\n",
       "    </tr>\n",
       "    <tr>\n",
       "      <th>19</th>\n",
       "      <td>internet_service_type_DSL</td>\n",
       "      <td>0.016659</td>\n",
       "    </tr>\n",
       "    <tr>\n",
       "      <th>9</th>\n",
       "      <td>online_security_Yes</td>\n",
       "      <td>0.015910</td>\n",
       "    </tr>\n",
       "    <tr>\n",
       "      <th>12</th>\n",
       "      <td>tech_support_Yes</td>\n",
       "      <td>0.009656</td>\n",
       "    </tr>\n",
       "    <tr>\n",
       "      <th>6</th>\n",
       "      <td>dependents_Yes</td>\n",
       "      <td>0.007901</td>\n",
       "    </tr>\n",
       "    <tr>\n",
       "      <th>5</th>\n",
       "      <td>partner_Yes</td>\n",
       "      <td>0.007706</td>\n",
       "    </tr>\n",
       "    <tr>\n",
       "      <th>0</th>\n",
       "      <td>senior_citizen</td>\n",
       "      <td>0.006958</td>\n",
       "    </tr>\n",
       "    <tr>\n",
       "      <th>10</th>\n",
       "      <td>online_backup_Yes</td>\n",
       "      <td>0.006264</td>\n",
       "    </tr>\n",
       "    <tr>\n",
       "      <th>7</th>\n",
       "      <td>phone_service_Yes</td>\n",
       "      <td>0.005925</td>\n",
       "    </tr>\n",
       "    <tr>\n",
       "      <th>23</th>\n",
       "      <td>payment_type_Credit card (automatic)</td>\n",
       "      <td>0.005766</td>\n",
       "    </tr>\n",
       "    <tr>\n",
       "      <th>25</th>\n",
       "      <td>payment_type_Mailed check</td>\n",
       "      <td>0.005674</td>\n",
       "    </tr>\n",
       "    <tr>\n",
       "      <th>13</th>\n",
       "      <td>streaming_tv_Yes</td>\n",
       "      <td>0.005193</td>\n",
       "    </tr>\n",
       "    <tr>\n",
       "      <th>14</th>\n",
       "      <td>streaming_movies_Yes</td>\n",
       "      <td>0.005113</td>\n",
       "    </tr>\n",
       "    <tr>\n",
       "      <th>8</th>\n",
       "      <td>multiple_lines_Yes</td>\n",
       "      <td>0.004712</td>\n",
       "    </tr>\n",
       "    <tr>\n",
       "      <th>22</th>\n",
       "      <td>payment_type_Bank transfer (automatic)</td>\n",
       "      <td>0.004383</td>\n",
       "    </tr>\n",
       "    <tr>\n",
       "      <th>11</th>\n",
       "      <td>device_protection_Yes</td>\n",
       "      <td>0.003068</td>\n",
       "    </tr>\n",
       "    <tr>\n",
       "      <th>4</th>\n",
       "      <td>gender_Male</td>\n",
       "      <td>0.002086</td>\n",
       "    </tr>\n",
       "  </tbody>\n",
       "</table>\n",
       "</div>"
      ],
      "text/plain": [
       "                                   feature  importance\n",
       "16            contract_type_Month-to-month    0.198191\n",
       "1                                   tenure    0.192045\n",
       "20       internet_service_type_Fiber optic    0.116528\n",
       "3                            total_charges    0.095061\n",
       "2                          monthly_charges    0.081969\n",
       "24           payment_type_Electronic check    0.072298\n",
       "18                  contract_type_Two year    0.055459\n",
       "21              internet_service_type_None    0.030044\n",
       "17                  contract_type_One year    0.023272\n",
       "15                   paperless_billing_Yes    0.022159\n",
       "19               internet_service_type_DSL    0.016659\n",
       "9                      online_security_Yes    0.015910\n",
       "12                        tech_support_Yes    0.009656\n",
       "6                           dependents_Yes    0.007901\n",
       "5                              partner_Yes    0.007706\n",
       "0                           senior_citizen    0.006958\n",
       "10                       online_backup_Yes    0.006264\n",
       "7                        phone_service_Yes    0.005925\n",
       "23    payment_type_Credit card (automatic)    0.005766\n",
       "25               payment_type_Mailed check    0.005674\n",
       "13                        streaming_tv_Yes    0.005193\n",
       "14                    streaming_movies_Yes    0.005113\n",
       "8                       multiple_lines_Yes    0.004712\n",
       "22  payment_type_Bank transfer (automatic)    0.004383\n",
       "11                   device_protection_Yes    0.003068\n",
       "4                              gender_Male    0.002086"
      ]
     },
     "execution_count": 83,
     "metadata": {},
     "output_type": "execute_result"
    }
   ],
   "source": [
    "importance_df2.sort_values('importance', ascending=False)"
   ]
  },
  {
   "cell_type": "code",
   "execution_count": 84,
   "id": "283f6ac0",
   "metadata": {},
   "outputs": [],
   "source": [
    "seed=42\n",
    "\n",
    "rf3 = RandomForestClassifier(max_depth=8, random_state=42,\n",
    "                            max_samples=0.5)"
   ]
  },
  {
   "cell_type": "code",
   "execution_count": 85,
   "id": "309a7464",
   "metadata": {},
   "outputs": [
    {
     "data": {
      "text/plain": [
       "RandomForestClassifier(max_depth=8, max_samples=0.5, random_state=42)"
      ]
     },
     "execution_count": 85,
     "metadata": {},
     "output_type": "execute_result"
    }
   ],
   "source": [
    "rf3.fit(X_train, y_train)"
   ]
  },
  {
   "cell_type": "code",
   "execution_count": 86,
   "id": "14109ab8",
   "metadata": {},
   "outputs": [
    {
     "data": {
      "text/plain": [
       "0.8333727810650887"
      ]
     },
     "execution_count": 86,
     "metadata": {},
     "output_type": "execute_result"
    }
   ],
   "source": [
    "rf3.score(X_train, y_train)"
   ]
  },
  {
   "cell_type": "code",
   "execution_count": 87,
   "id": "14cf3a86",
   "metadata": {},
   "outputs": [
    {
     "data": {
      "text/plain": [
       "0.8048261178140526"
      ]
     },
     "execution_count": 87,
     "metadata": {},
     "output_type": "execute_result"
    }
   ],
   "source": [
    "rf3.score(X_val, y_val)"
   ]
  },
  {
   "cell_type": "code",
   "execution_count": 88,
   "id": "48e9c84d",
   "metadata": {},
   "outputs": [
    {
     "data": {
      "text/plain": [
       "array([0.01426633, 0.18410868, 0.11865523, 0.13505508, 0.01306681,\n",
       "       0.0145405 , 0.01410231, 0.00761206, 0.01391741, 0.01846823,\n",
       "       0.01398329, 0.00980758, 0.0160142 , 0.01171698, 0.01265989,\n",
       "       0.02711602, 0.12648933, 0.0191727 , 0.03626982, 0.01792013,\n",
       "       0.07630921, 0.01817316, 0.00769618, 0.00791016, 0.05440456,\n",
       "       0.01056415])"
      ]
     },
     "execution_count": 88,
     "metadata": {},
     "output_type": "execute_result"
    }
   ],
   "source": [
    "rf3.feature_importances_"
   ]
  },
  {
   "cell_type": "code",
   "execution_count": 89,
   "id": "2ffa2025",
   "metadata": {},
   "outputs": [],
   "source": [
    "importance_df3 = pd.DataFrame({'feature': X_train.columns.tolist(),\n",
    "              'importance': rf3.feature_importances_})"
   ]
  },
  {
   "cell_type": "code",
   "execution_count": 90,
   "id": "5f320937",
   "metadata": {},
   "outputs": [
    {
     "data": {
      "text/html": [
       "<div>\n",
       "<style scoped>\n",
       "    .dataframe tbody tr th:only-of-type {\n",
       "        vertical-align: middle;\n",
       "    }\n",
       "\n",
       "    .dataframe tbody tr th {\n",
       "        vertical-align: top;\n",
       "    }\n",
       "\n",
       "    .dataframe thead th {\n",
       "        text-align: right;\n",
       "    }\n",
       "</style>\n",
       "<table border=\"1\" class=\"dataframe\">\n",
       "  <thead>\n",
       "    <tr style=\"text-align: right;\">\n",
       "      <th></th>\n",
       "      <th>feature</th>\n",
       "      <th>importance</th>\n",
       "    </tr>\n",
       "  </thead>\n",
       "  <tbody>\n",
       "    <tr>\n",
       "      <th>1</th>\n",
       "      <td>tenure</td>\n",
       "      <td>0.184109</td>\n",
       "    </tr>\n",
       "    <tr>\n",
       "      <th>3</th>\n",
       "      <td>total_charges</td>\n",
       "      <td>0.135055</td>\n",
       "    </tr>\n",
       "    <tr>\n",
       "      <th>16</th>\n",
       "      <td>contract_type_Month-to-month</td>\n",
       "      <td>0.126489</td>\n",
       "    </tr>\n",
       "    <tr>\n",
       "      <th>2</th>\n",
       "      <td>monthly_charges</td>\n",
       "      <td>0.118655</td>\n",
       "    </tr>\n",
       "    <tr>\n",
       "      <th>20</th>\n",
       "      <td>internet_service_type_Fiber optic</td>\n",
       "      <td>0.076309</td>\n",
       "    </tr>\n",
       "    <tr>\n",
       "      <th>24</th>\n",
       "      <td>payment_type_Electronic check</td>\n",
       "      <td>0.054405</td>\n",
       "    </tr>\n",
       "    <tr>\n",
       "      <th>18</th>\n",
       "      <td>contract_type_Two year</td>\n",
       "      <td>0.036270</td>\n",
       "    </tr>\n",
       "    <tr>\n",
       "      <th>15</th>\n",
       "      <td>paperless_billing_Yes</td>\n",
       "      <td>0.027116</td>\n",
       "    </tr>\n",
       "    <tr>\n",
       "      <th>17</th>\n",
       "      <td>contract_type_One year</td>\n",
       "      <td>0.019173</td>\n",
       "    </tr>\n",
       "    <tr>\n",
       "      <th>9</th>\n",
       "      <td>online_security_Yes</td>\n",
       "      <td>0.018468</td>\n",
       "    </tr>\n",
       "    <tr>\n",
       "      <th>21</th>\n",
       "      <td>internet_service_type_None</td>\n",
       "      <td>0.018173</td>\n",
       "    </tr>\n",
       "    <tr>\n",
       "      <th>19</th>\n",
       "      <td>internet_service_type_DSL</td>\n",
       "      <td>0.017920</td>\n",
       "    </tr>\n",
       "    <tr>\n",
       "      <th>12</th>\n",
       "      <td>tech_support_Yes</td>\n",
       "      <td>0.016014</td>\n",
       "    </tr>\n",
       "    <tr>\n",
       "      <th>5</th>\n",
       "      <td>partner_Yes</td>\n",
       "      <td>0.014541</td>\n",
       "    </tr>\n",
       "    <tr>\n",
       "      <th>0</th>\n",
       "      <td>senior_citizen</td>\n",
       "      <td>0.014266</td>\n",
       "    </tr>\n",
       "    <tr>\n",
       "      <th>6</th>\n",
       "      <td>dependents_Yes</td>\n",
       "      <td>0.014102</td>\n",
       "    </tr>\n",
       "    <tr>\n",
       "      <th>10</th>\n",
       "      <td>online_backup_Yes</td>\n",
       "      <td>0.013983</td>\n",
       "    </tr>\n",
       "    <tr>\n",
       "      <th>8</th>\n",
       "      <td>multiple_lines_Yes</td>\n",
       "      <td>0.013917</td>\n",
       "    </tr>\n",
       "    <tr>\n",
       "      <th>4</th>\n",
       "      <td>gender_Male</td>\n",
       "      <td>0.013067</td>\n",
       "    </tr>\n",
       "    <tr>\n",
       "      <th>14</th>\n",
       "      <td>streaming_movies_Yes</td>\n",
       "      <td>0.012660</td>\n",
       "    </tr>\n",
       "    <tr>\n",
       "      <th>13</th>\n",
       "      <td>streaming_tv_Yes</td>\n",
       "      <td>0.011717</td>\n",
       "    </tr>\n",
       "    <tr>\n",
       "      <th>25</th>\n",
       "      <td>payment_type_Mailed check</td>\n",
       "      <td>0.010564</td>\n",
       "    </tr>\n",
       "    <tr>\n",
       "      <th>11</th>\n",
       "      <td>device_protection_Yes</td>\n",
       "      <td>0.009808</td>\n",
       "    </tr>\n",
       "    <tr>\n",
       "      <th>23</th>\n",
       "      <td>payment_type_Credit card (automatic)</td>\n",
       "      <td>0.007910</td>\n",
       "    </tr>\n",
       "    <tr>\n",
       "      <th>22</th>\n",
       "      <td>payment_type_Bank transfer (automatic)</td>\n",
       "      <td>0.007696</td>\n",
       "    </tr>\n",
       "    <tr>\n",
       "      <th>7</th>\n",
       "      <td>phone_service_Yes</td>\n",
       "      <td>0.007612</td>\n",
       "    </tr>\n",
       "  </tbody>\n",
       "</table>\n",
       "</div>"
      ],
      "text/plain": [
       "                                   feature  importance\n",
       "1                                   tenure    0.184109\n",
       "3                            total_charges    0.135055\n",
       "16            contract_type_Month-to-month    0.126489\n",
       "2                          monthly_charges    0.118655\n",
       "20       internet_service_type_Fiber optic    0.076309\n",
       "24           payment_type_Electronic check    0.054405\n",
       "18                  contract_type_Two year    0.036270\n",
       "15                   paperless_billing_Yes    0.027116\n",
       "17                  contract_type_One year    0.019173\n",
       "9                      online_security_Yes    0.018468\n",
       "21              internet_service_type_None    0.018173\n",
       "19               internet_service_type_DSL    0.017920\n",
       "12                        tech_support_Yes    0.016014\n",
       "5                              partner_Yes    0.014541\n",
       "0                           senior_citizen    0.014266\n",
       "6                           dependents_Yes    0.014102\n",
       "10                       online_backup_Yes    0.013983\n",
       "8                       multiple_lines_Yes    0.013917\n",
       "4                              gender_Male    0.013067\n",
       "14                    streaming_movies_Yes    0.012660\n",
       "13                        streaming_tv_Yes    0.011717\n",
       "25               payment_type_Mailed check    0.010564\n",
       "11                   device_protection_Yes    0.009808\n",
       "23    payment_type_Credit card (automatic)    0.007910\n",
       "22  payment_type_Bank transfer (automatic)    0.007696\n",
       "7                        phone_service_Yes    0.007612"
      ]
     },
     "execution_count": 90,
     "metadata": {},
     "output_type": "execute_result"
    }
   ],
   "source": [
    "importance_df3.sort_values('importance', ascending=False)"
   ]
  },
  {
   "cell_type": "code",
   "execution_count": 92,
   "id": "fde2aa5c",
   "metadata": {},
   "outputs": [],
   "source": [
    "knn1 = KNeighborsClassifier(n_neighbors=5)"
   ]
  },
  {
   "cell_type": "code",
   "execution_count": 93,
   "id": "8b30777e",
   "metadata": {},
   "outputs": [
    {
     "data": {
      "text/plain": [
       "KNeighborsClassifier()"
      ]
     },
     "execution_count": 93,
     "metadata": {},
     "output_type": "execute_result"
    }
   ],
   "source": [
    "knn1.fit(X_train, y_train)"
   ]
  },
  {
   "cell_type": "code",
   "execution_count": 94,
   "id": "bffb31f1",
   "metadata": {},
   "outputs": [
    {
     "data": {
      "text/plain": [
       "0.831715976331361"
      ]
     },
     "execution_count": 94,
     "metadata": {},
     "output_type": "execute_result"
    }
   ],
   "source": [
    "knn1.score(X_train, y_train)"
   ]
  },
  {
   "cell_type": "code",
   "execution_count": 95,
   "id": "b3be81b1",
   "metadata": {},
   "outputs": [
    {
     "data": {
      "text/plain": [
       "0.7771469127040455"
      ]
     },
     "execution_count": 95,
     "metadata": {},
     "output_type": "execute_result"
    }
   ],
   "source": [
    "knn1.score(X_val, y_val)"
   ]
  },
  {
   "cell_type": "code",
   "execution_count": 96,
   "id": "58360471",
   "metadata": {},
   "outputs": [],
   "source": [
    "knn2 = KNeighborsClassifier(n_neighbors=8)"
   ]
  },
  {
   "cell_type": "code",
   "execution_count": 97,
   "id": "5fdd9253",
   "metadata": {},
   "outputs": [
    {
     "data": {
      "text/plain": [
       "KNeighborsClassifier(n_neighbors=8)"
      ]
     },
     "execution_count": 97,
     "metadata": {},
     "output_type": "execute_result"
    }
   ],
   "source": [
    "knn2.fit(X_train, y_train)"
   ]
  },
  {
   "cell_type": "code",
   "execution_count": 98,
   "id": "b58f6f91",
   "metadata": {},
   "outputs": [
    {
     "data": {
      "text/plain": [
       "0.8123076923076923"
      ]
     },
     "execution_count": 98,
     "metadata": {},
     "output_type": "execute_result"
    }
   ],
   "source": [
    "knn2.score(X_train, y_train)"
   ]
  },
  {
   "cell_type": "code",
   "execution_count": 99,
   "id": "ed24b7fd",
   "metadata": {},
   "outputs": [
    {
     "data": {
      "text/plain": [
       "0.7806955287437899"
      ]
     },
     "execution_count": 99,
     "metadata": {},
     "output_type": "execute_result"
    }
   ],
   "source": [
    "knn2.score(X_val, y_val)"
   ]
  },
  {
   "cell_type": "code",
   "execution_count": 108,
   "id": "db5128c7",
   "metadata": {},
   "outputs": [],
   "source": [
    "knn3 = KNeighborsClassifier(n_neighbors=3)"
   ]
  },
  {
   "cell_type": "code",
   "execution_count": 109,
   "id": "d01f1c61",
   "metadata": {},
   "outputs": [
    {
     "data": {
      "text/plain": [
       "KNeighborsClassifier(n_neighbors=3)"
      ]
     },
     "execution_count": 109,
     "metadata": {},
     "output_type": "execute_result"
    }
   ],
   "source": [
    "knn3.fit(X_train, y_train)"
   ]
  },
  {
   "cell_type": "code",
   "execution_count": 110,
   "id": "4e9a4cb0",
   "metadata": {},
   "outputs": [
    {
     "data": {
      "text/plain": [
       "0.8565680473372781"
      ]
     },
     "execution_count": 110,
     "metadata": {},
     "output_type": "execute_result"
    }
   ],
   "source": [
    "knn3.score(X_train, y_train)"
   ]
  },
  {
   "cell_type": "code",
   "execution_count": 111,
   "id": "7d4dab55",
   "metadata": {},
   "outputs": [
    {
     "data": {
      "text/plain": [
       "0.7622427253371186"
      ]
     },
     "execution_count": 111,
     "metadata": {},
     "output_type": "execute_result"
    }
   ],
   "source": [
    "knn3.score(X_val, y_val)"
   ]
  },
  {
   "cell_type": "code",
   "execution_count": 178,
   "id": "def6e32a",
   "metadata": {},
   "outputs": [],
   "source": [
    "seed = 42\n",
    "\n",
    "logit = LogisticRegression(C=.1, class_weight={0:1, 1:99}, \n",
    "                           random_state=seed, intercept_scaling=1,\n",
    "                          solver='lbfgs')\n",
    "\n",
    "#fit the model\n",
    "logit.fit(X_train, y_train)\n",
    "\n",
    "#make predictions\n",
    "logit_pred = logit.predict(X_train)"
   ]
  },
  {
   "cell_type": "code",
   "execution_count": 113,
   "id": "f581e03e",
   "metadata": {},
   "outputs": [
    {
     "name": "stdout",
     "output_type": "stream",
     "text": [
      "Coefficient: \n",
      " [[ 2.55225134e-01 -2.90118291e-02  3.38363315e-02  5.82293257e-05\n",
      "   3.12864663e-01 -1.51360337e-01 -1.76451472e-01 -1.69836381e-01\n",
      "  -1.60515048e-01 -4.07383577e-01 -3.83112101e-02 -9.87264711e-02\n",
      "  -3.92179143e-01  1.06988083e-02  9.59168548e-02  4.89506996e-01\n",
      "   1.22381098e+00  1.48929604e-02 -5.38231126e-01  4.46835617e-01\n",
      "  -4.97504470e-02  3.03387649e-01 -1.48606943e-02  2.74533987e-02\n",
      "   6.69887016e-01  1.79930982e-02]]\n",
      "Intercept: \n",
      " [0.7080834]\n"
     ]
    }
   ],
   "source": [
    "#evaluate the importance (weight) of each feature\n",
    "print('Coefficient: \\n', logit.coef_)\n",
    "print('Intercept: \\n', logit.intercept_)"
   ]
  },
  {
   "cell_type": "code",
   "execution_count": 114,
   "id": "d0e6eee1",
   "metadata": {},
   "outputs": [],
   "source": [
    "#estimate probability\n",
    "logit_pred_proba = logit.predict_proba(X_train)"
   ]
  },
  {
   "cell_type": "code",
   "execution_count": 116,
   "id": "834e5aaf",
   "metadata": {},
   "outputs": [
    {
     "data": {
      "text/plain": [
       "array([1, 1, 1, ..., 1, 1, 1], dtype=uint8)"
      ]
     },
     "execution_count": 116,
     "metadata": {},
     "output_type": "execute_result"
    }
   ],
   "source": [
    "logit_pred"
   ]
  },
  {
   "cell_type": "code",
   "execution_count": 117,
   "id": "922ffb25",
   "metadata": {},
   "outputs": [
    {
     "data": {
      "text/plain": [
       "array([[0.08238873, 0.91761127],\n",
       "       [0.30279642, 0.69720358],\n",
       "       [0.01340495, 0.98659505],\n",
       "       ...,\n",
       "       [0.00424531, 0.99575469],\n",
       "       [0.23579145, 0.76420855],\n",
       "       [0.06728427, 0.93271573]])"
      ]
     },
     "execution_count": 117,
     "metadata": {},
     "output_type": "execute_result"
    }
   ],
   "source": [
    "logit_pred_proba"
   ]
  },
  {
   "cell_type": "code",
   "execution_count": 118,
   "id": "ce1792ee",
   "metadata": {},
   "outputs": [
    {
     "data": {
      "text/plain": [
       "0.33656804733727813"
      ]
     },
     "execution_count": 118,
     "metadata": {},
     "output_type": "execute_result"
    }
   ],
   "source": [
    "logit.score(X_train, y_train)"
   ]
  },
  {
   "cell_type": "code",
   "execution_count": 119,
   "id": "d47b16d3",
   "metadata": {},
   "outputs": [
    {
     "name": "stdout",
     "output_type": "stream",
     "text": [
      "              precision    recall  f1-score   support\n",
      "\n",
      "           0       1.00      0.10      0.18      3104\n",
      "           1       0.29      1.00      0.44      1121\n",
      "\n",
      "    accuracy                           0.34      4225\n",
      "   macro avg       0.64      0.55      0.31      4225\n",
      "weighted avg       0.81      0.34      0.25      4225\n",
      "\n"
     ]
    }
   ],
   "source": [
    "print(classification_report(y_train, logit_pred))"
   ]
  },
  {
   "cell_type": "code",
   "execution_count": 120,
   "id": "3c417565",
   "metadata": {},
   "outputs": [],
   "source": [
    "#creating the object\n",
    "logit2 = LogisticRegression(C=.1, random_state=42, \n",
    "                           intercept_scaling=1, solver='lbfgs')\n",
    "\n",
    "#fit the model\n",
    "logit2.fit(X_train, y_train)\n",
    "\n",
    "#make predictions\n",
    "logit_pred2 = logit2.predict(X_train)"
   ]
  },
  {
   "cell_type": "code",
   "execution_count": 121,
   "id": "35da3d0c",
   "metadata": {},
   "outputs": [
    {
     "data": {
      "text/plain": [
       "0.8009467455621302"
      ]
     },
     "execution_count": 121,
     "metadata": {},
     "output_type": "execute_result"
    }
   ],
   "source": [
    "logit2.score(X_train, y_train)"
   ]
  },
  {
   "cell_type": "code",
   "execution_count": 122,
   "id": "5a591540",
   "metadata": {},
   "outputs": [],
   "source": [
    "#estimate probability\n",
    "logit_pred_proba2 = logit2.predict_proba(X_train)"
   ]
  },
  {
   "cell_type": "code",
   "execution_count": 123,
   "id": "0985f71c",
   "metadata": {},
   "outputs": [
    {
     "name": "stdout",
     "output_type": "stream",
     "text": [
      "              precision    recall  f1-score   support\n",
      "\n",
      "           0       0.84      0.90      0.87      3104\n",
      "           1       0.65      0.53      0.59      1121\n",
      "\n",
      "    accuracy                           0.80      4225\n",
      "   macro avg       0.75      0.71      0.73      4225\n",
      "weighted avg       0.79      0.80      0.79      4225\n",
      "\n"
     ]
    }
   ],
   "source": [
    "print(classification_report(y_train, logit_pred2))"
   ]
  },
  {
   "cell_type": "code",
   "execution_count": 124,
   "id": "9d4c6689",
   "metadata": {},
   "outputs": [],
   "source": [
    "#creating the object\n",
    "logit3 = LogisticRegression(random_state=42, intercept_scaling=1, \n",
    "                            solver='lbfgs')\n",
    "\n",
    "#fit the model\n",
    "logit3.fit(X_train, y_train)\n",
    "\n",
    "#make predictions\n",
    "logit_pred3 = logit3.predict(X_train)"
   ]
  },
  {
   "cell_type": "code",
   "execution_count": 125,
   "id": "7642bb59",
   "metadata": {},
   "outputs": [
    {
     "data": {
      "text/plain": [
       "0.7955029585798816"
      ]
     },
     "execution_count": 125,
     "metadata": {},
     "output_type": "execute_result"
    }
   ],
   "source": [
    "logit3.score(X_train, y_train)"
   ]
  },
  {
   "cell_type": "code",
   "execution_count": 126,
   "id": "c022f664",
   "metadata": {},
   "outputs": [
    {
     "name": "stdout",
     "output_type": "stream",
     "text": [
      "              precision    recall  f1-score   support\n",
      "\n",
      "           0       0.83      0.90      0.87      3104\n",
      "           1       0.65      0.50      0.56      1121\n",
      "\n",
      "    accuracy                           0.80      4225\n",
      "   macro avg       0.74      0.70      0.71      4225\n",
      "weighted avg       0.78      0.80      0.79      4225\n",
      "\n"
     ]
    }
   ],
   "source": [
    "print(classification_report(y_train, logit_pred3))"
   ]
  },
  {
   "cell_type": "code",
   "execution_count": 131,
   "id": "9bc46b95",
   "metadata": {},
   "outputs": [
    {
     "data": {
      "text/plain": [
       "0.7927608232789212"
      ]
     },
     "execution_count": 131,
     "metadata": {},
     "output_type": "execute_result"
    }
   ],
   "source": [
    "clf1.score(X_val, y_val)"
   ]
  },
  {
   "cell_type": "code",
   "execution_count": 129,
   "id": "093cad90",
   "metadata": {},
   "outputs": [
    {
     "data": {
      "text/plain": [
       "0.7977288857345636"
      ]
     },
     "execution_count": 129,
     "metadata": {},
     "output_type": "execute_result"
    }
   ],
   "source": [
    "clf2.score(X_val, y_val)"
   ]
  },
  {
   "cell_type": "code",
   "execution_count": 130,
   "id": "ac0a54ae",
   "metadata": {},
   "outputs": [
    {
     "data": {
      "text/plain": [
       "0.772888573456352"
      ]
     },
     "execution_count": 130,
     "metadata": {},
     "output_type": "execute_result"
    }
   ],
   "source": [
    "clf3.score(X_val, y_val)"
   ]
  },
  {
   "cell_type": "code",
   "execution_count": 133,
   "id": "afe28bed",
   "metadata": {},
   "outputs": [
    {
     "data": {
      "text/plain": [
       "0.7835344215755855"
      ]
     },
     "execution_count": 133,
     "metadata": {},
     "output_type": "execute_result"
    }
   ],
   "source": [
    "rf.score(X_val, y_val)"
   ]
  },
  {
   "cell_type": "code",
   "execution_count": 134,
   "id": "136fa146",
   "metadata": {},
   "outputs": [
    {
     "data": {
      "text/plain": [
       "0.8026969481902059"
      ]
     },
     "execution_count": 134,
     "metadata": {},
     "output_type": "execute_result"
    }
   ],
   "source": [
    "rf2.score(X_val, y_val)"
   ]
  },
  {
   "cell_type": "code",
   "execution_count": 135,
   "id": "c103045e",
   "metadata": {},
   "outputs": [
    {
     "data": {
      "text/plain": [
       "0.8048261178140526"
      ]
     },
     "execution_count": 135,
     "metadata": {},
     "output_type": "execute_result"
    }
   ],
   "source": [
    "rf3.score(X_val, y_val)"
   ]
  },
  {
   "cell_type": "code",
   "execution_count": 137,
   "id": "1eca0334",
   "metadata": {},
   "outputs": [
    {
     "data": {
      "text/plain": [
       "0.7771469127040455"
      ]
     },
     "execution_count": 137,
     "metadata": {},
     "output_type": "execute_result"
    }
   ],
   "source": [
    "knn1.score(X_val, y_val)"
   ]
  },
  {
   "cell_type": "code",
   "execution_count": 138,
   "id": "24aad465",
   "metadata": {},
   "outputs": [
    {
     "data": {
      "text/plain": [
       "0.7806955287437899"
      ]
     },
     "execution_count": 138,
     "metadata": {},
     "output_type": "execute_result"
    }
   ],
   "source": [
    "knn2.score(X_val, y_val)"
   ]
  },
  {
   "cell_type": "code",
   "execution_count": 139,
   "id": "b05b9bce",
   "metadata": {},
   "outputs": [
    {
     "data": {
      "text/plain": [
       "0.7622427253371186"
      ]
     },
     "execution_count": 139,
     "metadata": {},
     "output_type": "execute_result"
    }
   ],
   "source": [
    "knn3.score(X_val, y_val)"
   ]
  },
  {
   "cell_type": "code",
   "execution_count": 141,
   "id": "01191468",
   "metadata": {},
   "outputs": [
    {
     "data": {
      "text/plain": [
       "0.3420865862313698"
      ]
     },
     "execution_count": 141,
     "metadata": {},
     "output_type": "execute_result"
    }
   ],
   "source": [
    "logit.score(X_val, y_val)"
   ]
  },
  {
   "cell_type": "code",
   "execution_count": 142,
   "id": "6f5365b0",
   "metadata": {},
   "outputs": [
    {
     "data": {
      "text/plain": [
       "0.8168914123491838"
      ]
     },
     "execution_count": 142,
     "metadata": {},
     "output_type": "execute_result"
    }
   ],
   "source": [
    "logit2.score(X_val, y_val)"
   ]
  },
  {
   "cell_type": "code",
   "execution_count": 143,
   "id": "a4c64108",
   "metadata": {},
   "outputs": [
    {
     "data": {
      "text/plain": [
       "0.8034066713981547"
      ]
     },
     "execution_count": 143,
     "metadata": {},
     "output_type": "execute_result"
    }
   ],
   "source": [
    "logit3.score(X_val, y_val)"
   ]
  },
  {
   "cell_type": "code",
   "execution_count": 144,
   "id": "0b55a694",
   "metadata": {},
   "outputs": [
    {
     "data": {
      "text/plain": [
       "0.8204400283889283"
      ]
     },
     "execution_count": 144,
     "metadata": {},
     "output_type": "execute_result"
    }
   ],
   "source": [
    "logit2.score(X_test, y_test)"
   ]
  },
  {
   "cell_type": "code",
   "execution_count": 180,
   "id": "3ec849d1",
   "metadata": {},
   "outputs": [
    {
     "data": {
      "text/plain": [
       "0.8183108587650816"
      ]
     },
     "execution_count": 180,
     "metadata": {},
     "output_type": "execute_result"
    }
   ],
   "source": [
    "rf3.score(X_test, y_test)"
   ]
  },
  {
   "cell_type": "code",
   "execution_count": 145,
   "id": "c61d3cff",
   "metadata": {},
   "outputs": [],
   "source": [
    "logit_test_proba = logit2.predict_proba(X_test)"
   ]
  },
  {
   "cell_type": "code",
   "execution_count": 146,
   "id": "1cbd769f",
   "metadata": {},
   "outputs": [],
   "source": [
    "logit_test_proba = pd.DataFrame(logit_test_proba)"
   ]
  },
  {
   "cell_type": "code",
   "execution_count": 147,
   "id": "afd4b12a",
   "metadata": {},
   "outputs": [],
   "source": [
    "logit_test_pred = logit2.predict(X_test)"
   ]
  },
  {
   "cell_type": "code",
   "execution_count": 148,
   "id": "bf187759",
   "metadata": {},
   "outputs": [],
   "source": [
    "logit_test_pred = pd.DataFrame(logit_test_pred)"
   ]
  },
  {
   "cell_type": "code",
   "execution_count": 149,
   "id": "ce728450",
   "metadata": {},
   "outputs": [],
   "source": [
    "test_cust_id = test['customer_id']"
   ]
  },
  {
   "cell_type": "code",
   "execution_count": 150,
   "id": "90485dce",
   "metadata": {},
   "outputs": [
    {
     "data": {
      "text/plain": [
       "3160    4531-AUZNK\n",
       "1577    2296-DKZFP\n",
       "6823    9692-TUSXH\n",
       "3615    5129-JLPIS\n",
       "882     1273-MTETI\n",
       "           ...    \n",
       "1097    1597-FZREH\n",
       "6441    9117-SHLZX\n",
       "5985    8441-SHIPE\n",
       "2452    3511-BFTJW\n",
       "983     1428-GTBJJ\n",
       "Name: customer_id, Length: 1409, dtype: object"
      ]
     },
     "execution_count": 150,
     "metadata": {},
     "output_type": "execute_result"
    }
   ],
   "source": [
    "#customer ids from test data\n",
    "test_cust_id"
   ]
  },
  {
   "cell_type": "code",
   "execution_count": 151,
   "id": "5d651bdd",
   "metadata": {},
   "outputs": [],
   "source": [
    "logit_test_proba = logit_test_proba.drop(columns=0)"
   ]
  },
  {
   "cell_type": "code",
   "execution_count": 152,
   "id": "464b0eec",
   "metadata": {},
   "outputs": [
    {
     "data": {
      "text/html": [
       "<div>\n",
       "<style scoped>\n",
       "    .dataframe tbody tr th:only-of-type {\n",
       "        vertical-align: middle;\n",
       "    }\n",
       "\n",
       "    .dataframe tbody tr th {\n",
       "        vertical-align: top;\n",
       "    }\n",
       "\n",
       "    .dataframe thead th {\n",
       "        text-align: right;\n",
       "    }\n",
       "</style>\n",
       "<table border=\"1\" class=\"dataframe\">\n",
       "  <thead>\n",
       "    <tr style=\"text-align: right;\">\n",
       "      <th></th>\n",
       "      <th>1</th>\n",
       "    </tr>\n",
       "  </thead>\n",
       "  <tbody>\n",
       "    <tr>\n",
       "      <th>0</th>\n",
       "      <td>0.106819</td>\n",
       "    </tr>\n",
       "    <tr>\n",
       "      <th>1</th>\n",
       "      <td>0.011283</td>\n",
       "    </tr>\n",
       "    <tr>\n",
       "      <th>2</th>\n",
       "      <td>0.600696</td>\n",
       "    </tr>\n",
       "    <tr>\n",
       "      <th>3</th>\n",
       "      <td>0.498114</td>\n",
       "    </tr>\n",
       "    <tr>\n",
       "      <th>4</th>\n",
       "      <td>0.783777</td>\n",
       "    </tr>\n",
       "    <tr>\n",
       "      <th>...</th>\n",
       "      <td>...</td>\n",
       "    </tr>\n",
       "    <tr>\n",
       "      <th>1404</th>\n",
       "      <td>0.465854</td>\n",
       "    </tr>\n",
       "    <tr>\n",
       "      <th>1405</th>\n",
       "      <td>0.459699</td>\n",
       "    </tr>\n",
       "    <tr>\n",
       "      <th>1406</th>\n",
       "      <td>0.005416</td>\n",
       "    </tr>\n",
       "    <tr>\n",
       "      <th>1407</th>\n",
       "      <td>0.004820</td>\n",
       "    </tr>\n",
       "    <tr>\n",
       "      <th>1408</th>\n",
       "      <td>0.570468</td>\n",
       "    </tr>\n",
       "  </tbody>\n",
       "</table>\n",
       "<p>1409 rows × 1 columns</p>\n",
       "</div>"
      ],
      "text/plain": [
       "             1\n",
       "0     0.106819\n",
       "1     0.011283\n",
       "2     0.600696\n",
       "3     0.498114\n",
       "4     0.783777\n",
       "...        ...\n",
       "1404  0.465854\n",
       "1405  0.459699\n",
       "1406  0.005416\n",
       "1407  0.004820\n",
       "1408  0.570468\n",
       "\n",
       "[1409 rows x 1 columns]"
      ]
     },
     "execution_count": 152,
     "metadata": {},
     "output_type": "execute_result"
    }
   ],
   "source": [
    "logit_test_proba"
   ]
  },
  {
   "cell_type": "code",
   "execution_count": 153,
   "id": "b11f6a3d",
   "metadata": {},
   "outputs": [
    {
     "data": {
      "text/html": [
       "<div>\n",
       "<style scoped>\n",
       "    .dataframe tbody tr th:only-of-type {\n",
       "        vertical-align: middle;\n",
       "    }\n",
       "\n",
       "    .dataframe tbody tr th {\n",
       "        vertical-align: top;\n",
       "    }\n",
       "\n",
       "    .dataframe thead th {\n",
       "        text-align: right;\n",
       "    }\n",
       "</style>\n",
       "<table border=\"1\" class=\"dataframe\">\n",
       "  <thead>\n",
       "    <tr style=\"text-align: right;\">\n",
       "      <th></th>\n",
       "      <th>0</th>\n",
       "    </tr>\n",
       "  </thead>\n",
       "  <tbody>\n",
       "    <tr>\n",
       "      <th>0</th>\n",
       "      <td>0</td>\n",
       "    </tr>\n",
       "    <tr>\n",
       "      <th>1</th>\n",
       "      <td>0</td>\n",
       "    </tr>\n",
       "    <tr>\n",
       "      <th>2</th>\n",
       "      <td>1</td>\n",
       "    </tr>\n",
       "    <tr>\n",
       "      <th>3</th>\n",
       "      <td>0</td>\n",
       "    </tr>\n",
       "    <tr>\n",
       "      <th>4</th>\n",
       "      <td>1</td>\n",
       "    </tr>\n",
       "    <tr>\n",
       "      <th>...</th>\n",
       "      <td>...</td>\n",
       "    </tr>\n",
       "    <tr>\n",
       "      <th>1404</th>\n",
       "      <td>0</td>\n",
       "    </tr>\n",
       "    <tr>\n",
       "      <th>1405</th>\n",
       "      <td>0</td>\n",
       "    </tr>\n",
       "    <tr>\n",
       "      <th>1406</th>\n",
       "      <td>0</td>\n",
       "    </tr>\n",
       "    <tr>\n",
       "      <th>1407</th>\n",
       "      <td>0</td>\n",
       "    </tr>\n",
       "    <tr>\n",
       "      <th>1408</th>\n",
       "      <td>1</td>\n",
       "    </tr>\n",
       "  </tbody>\n",
       "</table>\n",
       "<p>1409 rows × 1 columns</p>\n",
       "</div>"
      ],
      "text/plain": [
       "      0\n",
       "0     0\n",
       "1     0\n",
       "2     1\n",
       "3     0\n",
       "4     1\n",
       "...  ..\n",
       "1404  0\n",
       "1405  0\n",
       "1406  0\n",
       "1407  0\n",
       "1408  1\n",
       "\n",
       "[1409 rows x 1 columns]"
      ]
     },
     "execution_count": 153,
     "metadata": {},
     "output_type": "execute_result"
    }
   ],
   "source": [
    "logit_test_pred"
   ]
  },
  {
   "cell_type": "code",
   "execution_count": 154,
   "id": "122f99b4",
   "metadata": {},
   "outputs": [],
   "source": [
    "predictions = pd.DataFrame(test_cust_id)"
   ]
  },
  {
   "cell_type": "code",
   "execution_count": 155,
   "id": "3e733779",
   "metadata": {},
   "outputs": [],
   "source": [
    "predictions.reset_index(inplace=True)"
   ]
  },
  {
   "cell_type": "code",
   "execution_count": 156,
   "id": "878d8b53",
   "metadata": {},
   "outputs": [],
   "source": [
    "predictions = pd.concat([predictions, \n",
    "                         logit_test_proba, \n",
    "                         logit_test_pred], axis=1)"
   ]
  },
  {
   "cell_type": "code",
   "execution_count": 157,
   "id": "5d4e1044",
   "metadata": {},
   "outputs": [],
   "source": [
    "predictions = predictions.drop(columns='index')"
   ]
  },
  {
   "cell_type": "code",
   "execution_count": 158,
   "id": "ec0afd7b",
   "metadata": {},
   "outputs": [
    {
     "data": {
      "text/html": [
       "<div>\n",
       "<style scoped>\n",
       "    .dataframe tbody tr th:only-of-type {\n",
       "        vertical-align: middle;\n",
       "    }\n",
       "\n",
       "    .dataframe tbody tr th {\n",
       "        vertical-align: top;\n",
       "    }\n",
       "\n",
       "    .dataframe thead th {\n",
       "        text-align: right;\n",
       "    }\n",
       "</style>\n",
       "<table border=\"1\" class=\"dataframe\">\n",
       "  <thead>\n",
       "    <tr style=\"text-align: right;\">\n",
       "      <th></th>\n",
       "      <th>customer_id</th>\n",
       "      <th>1</th>\n",
       "      <th>0</th>\n",
       "    </tr>\n",
       "  </thead>\n",
       "  <tbody>\n",
       "    <tr>\n",
       "      <th>0</th>\n",
       "      <td>4531-AUZNK</td>\n",
       "      <td>0.106819</td>\n",
       "      <td>0</td>\n",
       "    </tr>\n",
       "    <tr>\n",
       "      <th>1</th>\n",
       "      <td>2296-DKZFP</td>\n",
       "      <td>0.011283</td>\n",
       "      <td>0</td>\n",
       "    </tr>\n",
       "    <tr>\n",
       "      <th>2</th>\n",
       "      <td>9692-TUSXH</td>\n",
       "      <td>0.600696</td>\n",
       "      <td>1</td>\n",
       "    </tr>\n",
       "    <tr>\n",
       "      <th>3</th>\n",
       "      <td>5129-JLPIS</td>\n",
       "      <td>0.498114</td>\n",
       "      <td>0</td>\n",
       "    </tr>\n",
       "    <tr>\n",
       "      <th>4</th>\n",
       "      <td>1273-MTETI</td>\n",
       "      <td>0.783777</td>\n",
       "      <td>1</td>\n",
       "    </tr>\n",
       "    <tr>\n",
       "      <th>...</th>\n",
       "      <td>...</td>\n",
       "      <td>...</td>\n",
       "      <td>...</td>\n",
       "    </tr>\n",
       "    <tr>\n",
       "      <th>1404</th>\n",
       "      <td>1597-FZREH</td>\n",
       "      <td>0.465854</td>\n",
       "      <td>0</td>\n",
       "    </tr>\n",
       "    <tr>\n",
       "      <th>1405</th>\n",
       "      <td>9117-SHLZX</td>\n",
       "      <td>0.459699</td>\n",
       "      <td>0</td>\n",
       "    </tr>\n",
       "    <tr>\n",
       "      <th>1406</th>\n",
       "      <td>8441-SHIPE</td>\n",
       "      <td>0.005416</td>\n",
       "      <td>0</td>\n",
       "    </tr>\n",
       "    <tr>\n",
       "      <th>1407</th>\n",
       "      <td>3511-BFTJW</td>\n",
       "      <td>0.004820</td>\n",
       "      <td>0</td>\n",
       "    </tr>\n",
       "    <tr>\n",
       "      <th>1408</th>\n",
       "      <td>1428-GTBJJ</td>\n",
       "      <td>0.570468</td>\n",
       "      <td>1</td>\n",
       "    </tr>\n",
       "  </tbody>\n",
       "</table>\n",
       "<p>1409 rows × 3 columns</p>\n",
       "</div>"
      ],
      "text/plain": [
       "     customer_id         1  0\n",
       "0     4531-AUZNK  0.106819  0\n",
       "1     2296-DKZFP  0.011283  0\n",
       "2     9692-TUSXH  0.600696  1\n",
       "3     5129-JLPIS  0.498114  0\n",
       "4     1273-MTETI  0.783777  1\n",
       "...          ...       ... ..\n",
       "1404  1597-FZREH  0.465854  0\n",
       "1405  9117-SHLZX  0.459699  0\n",
       "1406  8441-SHIPE  0.005416  0\n",
       "1407  3511-BFTJW  0.004820  0\n",
       "1408  1428-GTBJJ  0.570468  1\n",
       "\n",
       "[1409 rows x 3 columns]"
      ]
     },
     "execution_count": 158,
     "metadata": {},
     "output_type": "execute_result"
    }
   ],
   "source": [
    "predictions"
   ]
  },
  {
   "cell_type": "code",
   "execution_count": 159,
   "id": "f71ebffb",
   "metadata": {},
   "outputs": [],
   "source": [
    "\n",
    "predictions = predictions.rename(columns= {1: 'probability_of_churn', \n",
    "                                           0: 'prediction_of_churn'})"
   ]
  },
  {
   "cell_type": "code",
   "execution_count": 160,
   "id": "d7384400",
   "metadata": {},
   "outputs": [
    {
     "data": {
      "text/html": [
       "<div>\n",
       "<style scoped>\n",
       "    .dataframe tbody tr th:only-of-type {\n",
       "        vertical-align: middle;\n",
       "    }\n",
       "\n",
       "    .dataframe tbody tr th {\n",
       "        vertical-align: top;\n",
       "    }\n",
       "\n",
       "    .dataframe thead th {\n",
       "        text-align: right;\n",
       "    }\n",
       "</style>\n",
       "<table border=\"1\" class=\"dataframe\">\n",
       "  <thead>\n",
       "    <tr style=\"text-align: right;\">\n",
       "      <th></th>\n",
       "      <th>customer_id</th>\n",
       "      <th>probability_of_churn</th>\n",
       "      <th>prediction_of_churn</th>\n",
       "    </tr>\n",
       "  </thead>\n",
       "  <tbody>\n",
       "    <tr>\n",
       "      <th>0</th>\n",
       "      <td>4531-AUZNK</td>\n",
       "      <td>0.106819</td>\n",
       "      <td>0</td>\n",
       "    </tr>\n",
       "    <tr>\n",
       "      <th>1</th>\n",
       "      <td>2296-DKZFP</td>\n",
       "      <td>0.011283</td>\n",
       "      <td>0</td>\n",
       "    </tr>\n",
       "    <tr>\n",
       "      <th>2</th>\n",
       "      <td>9692-TUSXH</td>\n",
       "      <td>0.600696</td>\n",
       "      <td>1</td>\n",
       "    </tr>\n",
       "    <tr>\n",
       "      <th>3</th>\n",
       "      <td>5129-JLPIS</td>\n",
       "      <td>0.498114</td>\n",
       "      <td>0</td>\n",
       "    </tr>\n",
       "    <tr>\n",
       "      <th>4</th>\n",
       "      <td>1273-MTETI</td>\n",
       "      <td>0.783777</td>\n",
       "      <td>1</td>\n",
       "    </tr>\n",
       "    <tr>\n",
       "      <th>...</th>\n",
       "      <td>...</td>\n",
       "      <td>...</td>\n",
       "      <td>...</td>\n",
       "    </tr>\n",
       "    <tr>\n",
       "      <th>1404</th>\n",
       "      <td>1597-FZREH</td>\n",
       "      <td>0.465854</td>\n",
       "      <td>0</td>\n",
       "    </tr>\n",
       "    <tr>\n",
       "      <th>1405</th>\n",
       "      <td>9117-SHLZX</td>\n",
       "      <td>0.459699</td>\n",
       "      <td>0</td>\n",
       "    </tr>\n",
       "    <tr>\n",
       "      <th>1406</th>\n",
       "      <td>8441-SHIPE</td>\n",
       "      <td>0.005416</td>\n",
       "      <td>0</td>\n",
       "    </tr>\n",
       "    <tr>\n",
       "      <th>1407</th>\n",
       "      <td>3511-BFTJW</td>\n",
       "      <td>0.004820</td>\n",
       "      <td>0</td>\n",
       "    </tr>\n",
       "    <tr>\n",
       "      <th>1408</th>\n",
       "      <td>1428-GTBJJ</td>\n",
       "      <td>0.570468</td>\n",
       "      <td>1</td>\n",
       "    </tr>\n",
       "  </tbody>\n",
       "</table>\n",
       "<p>1409 rows × 3 columns</p>\n",
       "</div>"
      ],
      "text/plain": [
       "     customer_id  probability_of_churn  prediction_of_churn\n",
       "0     4531-AUZNK              0.106819                    0\n",
       "1     2296-DKZFP              0.011283                    0\n",
       "2     9692-TUSXH              0.600696                    1\n",
       "3     5129-JLPIS              0.498114                    0\n",
       "4     1273-MTETI              0.783777                    1\n",
       "...          ...                   ...                  ...\n",
       "1404  1597-FZREH              0.465854                    0\n",
       "1405  9117-SHLZX              0.459699                    0\n",
       "1406  8441-SHIPE              0.005416                    0\n",
       "1407  3511-BFTJW              0.004820                    0\n",
       "1408  1428-GTBJJ              0.570468                    1\n",
       "\n",
       "[1409 rows x 3 columns]"
      ]
     },
     "execution_count": 160,
     "metadata": {},
     "output_type": "execute_result"
    }
   ],
   "source": [
    "predictions"
   ]
  },
  {
   "cell_type": "code",
   "execution_count": 161,
   "id": "fef5bf69",
   "metadata": {},
   "outputs": [
    {
     "data": {
      "text/plain": [
       "0.22356281050390348"
      ]
     },
     "execution_count": 161,
     "metadata": {},
     "output_type": "execute_result"
    }
   ],
   "source": [
    "(predictions['prediction_of_churn'] == 1).mean()"
   ]
  },
  {
   "cell_type": "code",
   "execution_count": 162,
   "id": "5f781a53",
   "metadata": {},
   "outputs": [],
   "source": [
    "predictions.to_csv('predictions.csv')"
   ]
  },
  {
   "cell_type": "code",
   "execution_count": 181,
   "id": "0d79cf19",
   "metadata": {},
   "outputs": [
    {
     "data": {
      "image/png": "[encoded data removed]",
      "text/plain": [
       "<Figure size 640x480 with 1 Axes>"
      ]
     },
     "metadata": {},
     "output_type": "display_data"
    },
    {
     "data": {
      "image/png": "[encoded data removed]",
      "text/plain": [
       "<Figure size 640x480 with 1 Axes>"
      ]
     },
     "metadata": {},
     "output_type": "display_data"
    }
   ],
   "source": [
    "telco = [73, 27]\n",
    "labels = ['Baseline Correct', 'Baseline Incorrect']\n",
    "\n",
    "colors = sns.color_palette('pastel')[0:2]\n",
    "\n",
    "plt.pie(telco, labels=labels, colors=colors, autopct='%.0f%%')\n",
    "plt.title(\"Baseline Accuracy\")\n",
    "plt.show()\n",
    "\n",
    "telco1 = [79, 21]\n",
    "labels1 = ['Model Correct', 'Model Incorrect']\n",
    "\n",
    "colors = sns.color_palette('pastel')[2:4]\n",
    "\n",
    "plt.pie(telco1, labels=labels1, colors=colors, autopct='%.0f%%')\n",
    "plt.title(\"Best Performing Model\")\n",
    "plt.show()"
   ]
  },
  {
   "cell_type": "code",
   "execution_count": null,
   "id": "b7f352a5",
   "metadata": {},
   "outputs": [],
   "source": []
  }
 ],
 "metadata": {
  "kernelspec": {
   "display_name": "Python 3 (ipykernel)",
   "language": "python",
   "name": "python3"
  },
  "language_info": {
   "codemirror_mode": {
    "name": "ipython",
    "version": 3
   },
   "file_extension": ".py",
   "mimetype": "text/x-python",
   "name": "python",
   "nbconvert_exporter": "python",
   "pygments_lexer": "ipython3",
   "version": "3.9.13"
  }
 },
 "nbformat": 4,
 "nbformat_minor": 5
}
