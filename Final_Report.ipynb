{
 "cells": [
  {
   "cell_type": "markdown",
   "id": "premier-milan",
   "metadata": {},
   "source": [
    "# Churn At Telco\n"
   ]
  },
  {
   "cell_type": "markdown",
   "id": "08bd95dd",
   "metadata": {},
   "source": [
    "# Project Goals\n",
    "\n",
    "- Discover drivers of churn at Telco\n",
    "- Use drivers to develop a machine learning model that accurately predicts customer churn\n",
    "- Churning is defined as a customer cutting ties with the service(s) Telco provides\n",
    "- This information could be used to further our understanding of how customers at Telco (and simliar companies) think and help other companies better understand consumer behavior\n"
   ]
  },
  {
   "cell_type": "markdown",
   "id": "going-assembly",
   "metadata": {},
   "source": [
    "## Imports"
   ]
  },
  {
   "cell_type": "code",
   "execution_count": 1,
   "id": "divided-poster",
   "metadata": {},
   "outputs": [],
   "source": [
    "# imports\n",
    "import numpy as np\n",
    "import pandas as pd\n",
    "import matplotlib.pyplot as plt\n",
    "import seaborn as sns\n",
    "from scipy import stats\n",
    "# machine learning imports \n",
    "from sklearn.model_selection import train_test_split\n",
    "from sklearn.tree import DecisionTreeClassifier, plot_tree\n",
    "from sklearn.metrics import classification_report, confusion_matrix, plot_confusion_matrix, accuracy_score, precision_score, recall_score\n",
    "from pydataset import data\n",
    "from sklearn.ensemble import RandomForestClassifier \n",
    "from sklearn.linear_model import LogisticRegression\n",
    "from sklearn.neighbors import KNeighborsClassifier\n",
    "# import premade functions\n",
    "import prepare\n",
    "import acquire\n",
    "\n",
    "#Removes big scary warnings\n",
    "import warnings\n",
    "warnings.filterwarnings('ignore')"
   ]
  },
  {
   "cell_type": "markdown",
   "id": "criminal-glory",
   "metadata": {},
   "source": [
    "## Acquire\n",
    "\n",
    "* Data aquired from SQL telco_churn database\n",
    "* It contained 7043 rows and 24 columns before cleaning\n",
    "* Each row represents a customer\n",
    "* Each column represents a feature associated of the customer\n"
   ]
  },
  {
   "cell_type": "code",
   "execution_count": 2,
   "id": "paperback-gather",
   "metadata": {},
   "outputs": [],
   "source": [
    "# Import acquired messy data\n",
    "\n",
    "telco = acquire.get_telco_data()"
   ]
  },
  {
   "cell_type": "markdown",
   "id": "impossible-bible",
   "metadata": {},
   "source": [
    "## Prepare\n",
    "\n",
    "Prepare Actions:\n",
    "\n",
    "- Removed columns that did not contain useful information (payment_type_id, internet_service_type_id, etc.)\n",
    "- Checked columns to promote readability (all were good)\n",
    "- Checked for nulls in the data and dropped null values stored as white space (used .strip)\n",
    "- Checked that column data types were appropriate and had to change total_charges to from object to a float\n",
    "- Added additional features to investigate:\n",
    "- Converted binary categorical variables to numeric (yes/no & male/female)\n",
    "- Added dummy variables for the non-binary categorical variables and then concatenated them to the original dataframe\n",
    "- Split data into train, validate and test (approx. 60/25/15), stratifying on 'churn'\n",
    "- Outliers have not been removed for this iteration of the project"
   ]
  },
  {
   "cell_type": "code",
   "execution_count": 4,
   "id": "flexible-irrigation",
   "metadata": {},
   "outputs": [],
   "source": [
    "# Import prepare function to clean data \n",
    "\n",
    "telco = prepare.prep_telco(telco)"
   ]
  },
  {
   "cell_type": "markdown",
   "id": "01e50828",
   "metadata": {},
   "source": [
    "| Feature | Definition |\n",
    "|:--------|:-----------|\n",
    "|gender|Specifies if male or female|\n",
    "|senior_citizen|True or False, specifies if senior citizen or not|\n",
    "|partner|True or False, specifies if customer has partner or not|\n",
    "|dependents|True or False, specifies if customer has partner or not|\n",
    "|tenure|Integer, how many months the customer has been with Telco|\n",
    "|phone_service|Yes or No, specifies if customer has phone service|\n",
    "|multiple_lines|Yes or No, specifies if customer has multiple lines|\n",
    "|online_security|Yes or No, specifies if customer has online security|\n",
    "|online_backup|Yes or No, specifies if customer has online backup|\n",
    "|device_protection|Yes or No, specifies if customer has device protection|\n",
    "|tech_support|Yes or No, specifies if customer has tech support|\n",
    "|streaming_tv|Yes or No, specifies if customer has streams tv|\n",
    "|streaming_movies|Yes or No, specifies if customer streams movies|\n",
    "|paperless_billing|Yes or No, specifies if customer has paperless billing|\n",
    "|monthly_charges|Charges in a month, measured in dollars|\n",
    "|total_charges|Total charges overal, measured in dollars|\n",
    "|churn|The word used to define if a customer has left Telco|\n",
    "|contract_type|Specifies contract type, month-to-month, two-year, one-year|\n",
    "|payment_type|Specifies payment type, electronic check, mailed check, bank transfer, credit card|\n",
    "|internet_service_type|Specifies internet service type, fiber optic, dsl, or none|"
   ]
  },
  {
   "cell_type": "code",
   "execution_count": 6,
   "id": "e5016c64",
   "metadata": {},
   "outputs": [],
   "source": [
    "# splitting data into train, validate, and test\n",
    "train, val, test = prepare.my_train_test_split(telco, 'churn_Yes')"
   ]
  },
  {
   "cell_type": "markdown",
   "id": "63262890",
   "metadata": {},
   "source": [
    "# Explore"
   ]
  },
  {
   "cell_type": "markdown",
   "id": "3bfc7295",
   "metadata": {},
   "source": [
    "## Are customers with Tech Support more or less likely to churn?"
   ]
  },
  {
   "cell_type": "code",
   "execution_count": 8,
   "id": "b961da43",
   "metadata": {},
   "outputs": [
    {
     "data": {
      "text/plain": [
       "<matplotlib.legend.Legend at 0x7fa71aee9a60>"
      ]
     },
     "execution_count": 8,
     "metadata": {},
     "output_type": "execute_result"
    },
    {
     "data": {
      "image/png": "[encoded data removed]",
      "text/plain": [
       "<Figure size 640x480 with 1 Axes>"
      ]
     },
     "metadata": {},
     "output_type": "display_data"
    }
   ],
   "source": [
    "# using a countplot to give a visual \n",
    "sns.set_theme(style=\"whitegrid\")\n",
    "sns.countplot(data=train, x=\"churn_Yes\", hue=\"tech_support_Yes\")\n",
    "#labels and legend\n",
    "plt.title('Tech. Support')\n",
    "plt.xlabel('Churn')\n",
    "plt.ylabel('# of Customers')\n",
    "plt.legend()"
   ]
  },
  {
   "cell_type": "markdown",
   "id": "b2cfc8cf",
   "metadata": {},
   "source": [
    "#### My takeaway from this is that there appears to be a relationship between having tech support and churn.  \n",
    "  \n",
    "  \n",
    "##### For this question, there are two categorical variables at hand so a a chi-square test seems appropiate to determine if there is a relationship.\n",
    "\n",
    "#### My H_o here is that there is no significant relationship between churn and tech support\n",
    "\n",
    "#### My H_a is that there is a relationship of significance."
   ]
  },
  {
   "cell_type": "code",
   "execution_count": 20,
   "id": "8dc9f957",
   "metadata": {},
   "outputs": [
    {
     "name": "stdout",
     "output_type": "stream",
     "text": [
      "chi^2: 98.23088931064383\n",
      "p value: 3.7233642021021574e-23\n"
     ]
    }
   ],
   "source": [
    "# observed data for chi-square test\n",
    "observed1 = pd.crosstab(train.tech_support_Yes, train.churn_Yes)\n",
    "observed1\n",
    "# do not forget alpha\n",
    "alpha = .05\n",
    "\n",
    "chi2, p, degf, expected = stats.chi2_contingency(observed1)\n",
    "# clean f strings\n",
    "print(f\"chi^2: {chi2}\")\n",
    "print(f\"p value: {p}\")"
   ]
  },
  {
   "cell_type": "markdown",
   "id": "e98dd594",
   "metadata": {},
   "source": [
    "#### My p-value is very small, so we reject our null hypothesis. We can say with confidence that there is sigificance in the relationship between churn and Tech Support. This makes an adequate driver to model."
   ]
  },
  {
   "cell_type": "markdown",
   "id": "451cad82",
   "metadata": {},
   "source": [
    "## What contract type churns the most?"
   ]
  },
  {
   "cell_type": "code",
   "execution_count": 11,
   "id": "060278f5",
   "metadata": {},
   "outputs": [
    {
     "data": {
      "text/plain": [
       "<matplotlib.legend.Legend at 0x7fa71ac7bd00>"
      ]
     },
     "execution_count": 11,
     "metadata": {},
     "output_type": "execute_result"
    },
    {
     "data": {
      "image/png": "[encoded data removed]",
      "text/plain": [
       "<Figure size 640x480 with 1 Axes>"
      ]
     },
     "metadata": {},
     "output_type": "display_data"
    }
   ],
   "source": [
    "# trusty count plot for visual\n",
    "sns.set_theme(style=\"whitegrid\")\n",
    "sns.countplot(data=train, x=\"churn_Yes\", hue=\"contract_type\")\n",
    "#labels and legend\n",
    "plt.title('Types of Contracts')\n",
    "plt.xlabel('Churn')\n",
    "plt.ylabel('# of Customers')\n",
    "plt.legend()"
   ]
  },
  {
   "cell_type": "markdown",
   "id": "23010484",
   "metadata": {},
   "source": [
    "#### We will investigate the question of whether contract type is independent of churn.\n",
    "\n",
    "#### Ho (Null Hypothesis): contract type is independent of churn.\n",
    "\n",
    "#### Ha (Alternative Hypothesis): contract is dependent on churn."
   ]
  },
  {
   "cell_type": "code",
   "execution_count": 21,
   "id": "35783f75",
   "metadata": {},
   "outputs": [
    {
     "name": "stdout",
     "output_type": "stream",
     "text": [
      "chi^2: 703.7870674341639\n",
      "p value: 1.4947896745220748e-153\n"
     ]
    }
   ],
   "source": [
    "# observed data for chi-square test\n",
    "observed2 = pd.crosstab(train.contract_type, train.churn_Yes)\n",
    "observed2\n",
    "# do not forget alpha\n",
    "alpha = .05\n",
    "\n",
    "chi2, p, degf, expected = stats.chi2_contingency(observed2)\n",
    "# clean f strings\n",
    "print(f\"chi^2: {chi2}\")\n",
    "print(f\"p value: {p}\")"
   ]
  },
  {
   "cell_type": "markdown",
   "id": "5603ebea",
   "metadata": {},
   "source": [
    "#### My p-value is very small, so we reject our null hypothesis. We can say with confidence that there is sigificance in the relationship between churn and contract type month-to-month. This makes another adequate driver to model."
   ]
  },
  {
   "cell_type": "markdown",
   "id": "c829b744",
   "metadata": {},
   "source": [
    "## Does being a senior citizen have an affect on churn?"
   ]
  },
  {
   "cell_type": "code",
   "execution_count": 13,
   "id": "4c5fa9a2",
   "metadata": {},
   "outputs": [
    {
     "data": {
      "text/plain": [
       "<matplotlib.legend.Legend at 0x7fa71b998370>"
      ]
     },
     "execution_count": 13,
     "metadata": {},
     "output_type": "execute_result"
    },
    {
     "data": {
      "image/png": "[encoded data removed]",
      "text/plain": [
       "<Figure size 640x480 with 1 Axes>"
      ]
     },
     "metadata": {},
     "output_type": "display_data"
    }
   ],
   "source": [
    "sns.set_theme(style=\"whitegrid\")\n",
    "sns.countplot(data=train, x=\"churn_Yes\", hue=\"senior_citizen\")\n",
    "#labels and legend\n",
    "plt.title('The Dinosaurs')\n",
    "plt.xlabel('Churn')\n",
    "plt.ylabel('# of Customers')\n",
    "plt.legend()"
   ]
  },
  {
   "cell_type": "markdown",
   "id": "3a074825",
   "metadata": {},
   "source": [
    "#### We will investigate the question of whether being a senior citizen is independent of churn.\n",
    "\n",
    "#### Ho (Null Hypothesis): senior citizen is independent of churn.\n",
    "\n",
    "#### Ha (Alternative Hypothesis): senior citizen is dependent on churn."
   ]
  },
  {
   "cell_type": "code",
   "execution_count": 22,
   "id": "43e9d87a",
   "metadata": {},
   "outputs": [
    {
     "name": "stdout",
     "output_type": "stream",
     "text": [
      "chi^2: 80.79361466512287\n",
      "p value: 2.505662983276272e-19\n"
     ]
    }
   ],
   "source": [
    "# trusted chi-square test\n",
    "observed3 = pd.crosstab(train.senior_citizen, train.churn_Yes)\n",
    "observed3\n",
    "# do not forget alpha\n",
    "alpha = .05\n",
    "\n",
    "chi2, p, degf, expected = stats.chi2_contingency(observed3)\n",
    "# clean f strings\n",
    "print(f\"chi^2: {chi2}\")\n",
    "print(f\"p value: {p}\")"
   ]
  },
  {
   "cell_type": "markdown",
   "id": "bbab1549",
   "metadata": {},
   "source": [
    "#### My p-value is very small, so we reject our null hypothesis. We can say with confidence that there is sigificance in the relationship between churn and being a senior citizen. This makes another driver to model."
   ]
  },
  {
   "cell_type": "markdown",
   "id": "26fde515",
   "metadata": {},
   "source": [
    "## Do customers who churn have paperless billing?"
   ]
  },
  {
   "cell_type": "code",
   "execution_count": 16,
   "id": "dc9f055e",
   "metadata": {},
   "outputs": [
    {
     "data": {
      "text/plain": [
       "<matplotlib.legend.Legend at 0x7fa71b9d8790>"
      ]
     },
     "execution_count": 16,
     "metadata": {},
     "output_type": "execute_result"
    },
    {
     "data": {
      "image/png": "[encoded data removed]",
      "text/plain": [
       "<Figure size 640x480 with 1 Axes>"
      ]
     },
     "metadata": {},
     "output_type": "display_data"
    }
   ],
   "source": [
    "# count plot\n",
    "sns.set_theme(style=\"whitegrid\")\n",
    "sns.countplot(data=train, x=\"churn_Yes\", hue=\"paperless_billing_Yes\")\n",
    "# title and legend\n",
    "plt.title('Paperless')\n",
    "plt.xlabel('Churn')\n",
    "plt.ylabel('# of Customers')\n",
    "plt.legend()"
   ]
  },
  {
   "cell_type": "markdown",
   "id": "0e6d5cf4",
   "metadata": {},
   "source": [
    "#### We will investigate the question of whether contract type is independent of churn.\n",
    "\n",
    "#### Ho (Null Hypothesis): paperless billing is independent of churn.\n",
    "\n",
    "#### Ha (Alternative Hypothesis): paperless is dependent on churn."
   ]
  },
  {
   "cell_type": "code",
   "execution_count": 23,
   "id": "a18f8c0d",
   "metadata": {},
   "outputs": [
    {
     "name": "stdout",
     "output_type": "stream",
     "text": [
      "chi^2: 148.58446697144495\n",
      "p value: 3.5348504574964642e-34\n"
     ]
    }
   ],
   "source": [
    "observed4 = pd.crosstab(train.paperless_billing_Yes, train.churn_Yes)\n",
    "observed4\n",
    "# do not forget alpha\n",
    "alpha = .05\n",
    "\n",
    "chi2, p, degf, expected = stats.chi2_contingency(observed4)\n",
    "# clean f strings\n",
    "print(f\"chi^2: {chi2}\")\n",
    "print(f\"p value: {p}\")"
   ]
  },
  {
   "cell_type": "code",
   "execution_count": null,
   "id": "6ef76c54",
   "metadata": {},
   "outputs": [],
   "source": []
  },
  {
   "cell_type": "markdown",
   "id": "immediate-mirror",
   "metadata": {},
   "source": [
    "## Explore\n",
    "\n",
    "* Here you will explore your data then highlight 4 questions that you asked of the data and how those questions influenced your analysis\n",
    "* Remember to split your data before exploring how different variables relate to one another\n",
    "* Each question should be stated directly \n",
    "* Each question should be supported by a visualization\n",
    "* Each question should be answered in natural language\n",
    "* Two questions must be supported by a statistical test, but you may choose to support more than two\n",
    "* See the following example, and read the comments in the next cell"
   ]
  },
  {
   "cell_type": "markdown",
   "id": "functional-sierra",
   "metadata": {},
   "source": [
    "**The following empty code block** is here to represent the countless questions, visualizations, and statistical tests \n",
    "that did not make your final report. Data scientist often create a myriad of questions, visualizations \n",
    "and statistical tests that do not make it into the final notebook. This is okay and expected. Remember \n",
    "that shotgun approaches to your data such as using pair plots to look at the relationships of each feature \n",
    "are a great way to explore your data, but they have no place in your final report. \n",
    "**Your final report is about showing and supporting your findings, not showing the work you did to get there!**"
   ]
  },
  {
   "cell_type": "code",
   "execution_count": null,
   "id": "approximate-thong",
   "metadata": {},
   "outputs": [],
   "source": [
    "\n",
    "\n",
    "\n"
   ]
  },
  {
   "cell_type": "markdown",
   "id": "incorrect-mailman",
   "metadata": {},
   "source": [
    "## You may use this as a template for how to ask and answer each question:"
   ]
  },
  {
   "cell_type": "markdown",
   "id": "overhead-sleep",
   "metadata": {},
   "source": [
    "### 1) Question about the data\n",
    "* Ask a question about the data for which you got a meaningful result\n",
    "* There is no connection can be a meaningful result\n",
    "\n",
    "### 2) Visualization of the data answering the question\n",
    "\n",
    "* Visualizations should be accompanied by take-aways telling the reader exactly what you want them to get from the chart\n",
    "* You can include theses as bullet points under the chart\n",
    "* Use your chart title to provide the main take-away from each visualization\n",
    "* Each visualization should answer one, and only one, of the explore questions\n",
    "\n",
    "### 3) Statistical test\n",
    "* Be sure you are using the correct statistical test for the type of variables you are testing\n",
    "* Be sure that you are not violating any of the assumptions for the statistical test you are choosing\n",
    "* Your notebook should run and produce the results of the test you are using (This may be done through imports)\n",
    "* Include an introduction to the kind of test you are doing\n",
    "* Include the Ho and Ha for the test\n",
    "* Include the alpha you are using\n",
    "* Include the readout of the p-value for the test\n",
    "* Interpret the results of the test in natural language (I reject the null hypothesis is not sufficient)\n",
    "\n",
    "### 4) Answer to the question\n",
    "* Answer the question you posed of the data by referring to the chart and statistical test (if you used one)\n",
    "* If the question relates to drivers, explain why the feature in question would/wouldn't make a good driver"
   ]
  },
  {
   "cell_type": "markdown",
   "id": "iraqi-sellers",
   "metadata": {},
   "source": [
    "# Exploration Summary\n",
    "\n",
    "\n",
    "* After your explore section, before you start modeling, provide a summary of your findings in Explore\n",
    "* Include a summary of your take-aways\n",
    "* Include a summary of the features you examined and weather or not you will be going to Modeling with each feature and why\n",
    "* It is important to note which features will be going into your model so the reader knows what features you are using to model on"
   ]
  },
  {
   "cell_type": "markdown",
   "id": "minus-tulsa",
   "metadata": {},
   "source": [
    "## Modeling"
   ]
  },
  {
   "cell_type": "markdown",
   "id": "hydraulic-spectrum",
   "metadata": {},
   "source": [
    "### Introduction\n",
    "* Explain how you will be evaluating your models\n",
    "* Include the evaluation metric you will be using and why you have chosen it\n",
    "* Create a baseline and briefly explain how it was calculated "
   ]
  },
  {
   "cell_type": "code",
   "execution_count": 3,
   "id": "ranging-rebecca",
   "metadata": {},
   "outputs": [],
   "source": [
    "# If you use code to generate your baseline run the code and generate the output here\n",
    "\n"
   ]
  },
  {
   "cell_type": "markdown",
   "id": "thick-dream",
   "metadata": {},
   "source": [
    "Printout should read: <br>\n",
    "Baseline: \"number\" \"evaluation metric\""
   ]
  },
  {
   "cell_type": "markdown",
   "id": "emotional-purchase",
   "metadata": {},
   "source": [
    "### Best 3 Models\n",
    "* Show the three best model results obtained using your selected features to predict the target variable\n",
    "* Typically students will show the top models they are able to generate for three different model types"
   ]
  },
  {
   "cell_type": "markdown",
   "id": "gentle-capability",
   "metadata": {},
   "source": [
    "## You may use this as a template for how to introduce your models:"
   ]
  },
  {
   "cell_type": "markdown",
   "id": "intensive-vietnamese",
   "metadata": {},
   "source": [
    "### Model Type"
   ]
  },
  {
   "cell_type": "code",
   "execution_count": 4,
   "id": "colonial-newport",
   "metadata": {},
   "outputs": [],
   "source": [
    "# Code that runs the best model in that model type goes here \n",
    "# (This may be imported from a module)\n",
    "\n"
   ]
  },
  {
   "cell_type": "markdown",
   "id": "distinguished-abuse",
   "metadata": {},
   "source": [
    "Printout of model code should read: <br>\n",
    "\"Model Type\" <br>\n",
    "\"evaluation metric\" on train: \"evaluation result\" <br>\n",
    "\"evaluation metric\" on validate: \"evaluation result\""
   ]
  },
  {
   "cell_type": "markdown",
   "id": "regulated-fellowship",
   "metadata": {},
   "source": [
    "### Test Model\n",
    "* Choose the best model out of the three as you best model and explain why you have chosen it\n",
    "* Explain that you will now run your final model on test data to gauge how it will perform on unseen data"
   ]
  },
  {
   "cell_type": "code",
   "execution_count": 5,
   "id": "optical-quilt",
   "metadata": {},
   "outputs": [],
   "source": [
    "# Code that runs the best overall model on test data (this may be imported from a module)\n",
    "\n"
   ]
  },
  {
   "cell_type": "markdown",
   "id": "motivated-recycling",
   "metadata": {},
   "source": [
    "Printout of model code should read: <br>\n",
    "\"Model Type\" <br>\n",
    "\"evaluation metric\" on Test: \"evaluation result\" <br>"
   ]
  },
  {
   "cell_type": "markdown",
   "id": "bright-evans",
   "metadata": {},
   "source": [
    "### Modeling Wrap \n",
    "* Give a final interpretation of how the models test score compares to the baseline and weather you would recommend this model for production"
   ]
  },
  {
   "cell_type": "markdown",
   "id": "tutorial-twelve",
   "metadata": {},
   "source": [
    "## Conclusion\n",
    "\n",
    "### Summary\n",
    "* Summarize your findings and answer the questions you brought up in explore \n",
    "* Summarize how drivers discovered lead or did not lead to a successful model \n",
    "\n",
    "### Recommendations\n",
    "* Recommendations are actions the stakeholder should take based on your insights\n",
    "\n",
    "### Next Steps\n",
    "* Next Steps are what you, as a Data Scientist, would do if provided more time to work on the project"
   ]
  },
  {
   "cell_type": "markdown",
   "id": "tender-source",
   "metadata": {},
   "source": [
    "**Where there is code in your report there should also be code comments telling the reader what each code block is doing. This is true for any and all code blocks even if you are using a function to import code from a module.**\n",
    "<br>\n",
    "<br>\n",
    "**Your Notebook should contain adequate markdown that documents your thought process, decision making, and navigation through the pipeline. As a Data Scientist, your job does not end with making data discoveries. It includes effectively communicating those discoveries as well. This means documentation is a critical part of your job.**"
   ]
  },
  {
   "cell_type": "markdown",
   "id": "frank-castle",
   "metadata": {},
   "source": []
  },
  {
   "cell_type": "code",
   "execution_count": null,
   "id": "11f6f096",
   "metadata": {},
   "outputs": [],
   "source": []
  }
 ],
 "metadata": {
  "kernelspec": {
   "display_name": "Python 3 (ipykernel)",
   "language": "python",
   "name": "python3"
  },
  "language_info": {
   "codemirror_mode": {
    "name": "ipython",
    "version": 3
   },
   "file_extension": ".py",
   "mimetype": "text/x-python",
   "name": "python",
   "nbconvert_exporter": "python",
   "pygments_lexer": "ipython3",
   "version": "3.9.13"
  }
 },
 "nbformat": 4,
 "nbformat_minor": 5
}
