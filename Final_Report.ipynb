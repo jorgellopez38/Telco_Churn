{
 "cells": [
  {
   "cell_type": "markdown",
   "id": "premier-milan",
   "metadata": {},
   "source": [
    "# Churn At Telco\n"
   ]
  },
  {
   "cell_type": "markdown",
   "id": "727dfa6a",
   "metadata": {},
   "source": [
    "# Project Goals\n",
    "\n",
    "- Discover drivers of churn at Telco\n",
    "- Use drivers to develop a machine learning model that accurately predicts customer churn\n",
    "- Churning is defined as a customer cutting ties with the service(s) Telco provides\n",
    "- This information could be used to further our understanding of how customers at Telco (and simliar companies) think and help other companies better understand consumer behavior\n"
   ]
  },
  {
   "cell_type": "markdown",
   "id": "going-assembly",
   "metadata": {},
   "source": [
    "## Imports"
   ]
  },
  {
   "cell_type": "code",
   "execution_count": 1,
   "id": "divided-poster",
   "metadata": {},
   "outputs": [],
   "source": [
    "# imports\n",
    "import numpy as np\n",
    "import pandas as pd\n",
    "import matplotlib.pyplot as plt\n",
    "import seaborn as sns\n",
    "from scipy import stats\n",
    "# machine learning imports \n",
    "from sklearn.model_selection import train_test_split\n",
    "from sklearn.tree import DecisionTreeClassifier, plot_tree\n",
    "from sklearn.metrics import classification_report, confusion_matrix, plot_confusion_matrix, accuracy_score, precision_score, recall_score\n",
    "from pydataset import data\n",
    "from sklearn.ensemble import RandomForestClassifier \n",
    "from sklearn.linear_model import LogisticRegression\n",
    "from sklearn.neighbors import KNeighborsClassifier\n",
    "# import premade functions\n",
    "import prepare\n",
    "import acquire\n",
    "import modeling\n",
    "\n",
    "#Removes big scary warnings\n",
    "import warnings\n",
    "warnings.filterwarnings('ignore')"
   ]
  },
  {
   "cell_type": "markdown",
   "id": "criminal-glory",
   "metadata": {},
   "source": [
    "## Acquire\n",
    "\n",
    "* Data aquired from SQL telco_churn database\n",
    "* It contained 7043 rows and 24 columns before cleaning\n",
    "* Each row represents a customer\n",
    "* Each column represents a feature associated of the customer\n"
   ]
  },
  {
   "cell_type": "code",
   "execution_count": 5,
   "id": "paperback-gather",
   "metadata": {},
   "outputs": [
    {
     "data": {
      "text/html": [
       "<div>\n",
       "<style scoped>\n",
       "    .dataframe tbody tr th:only-of-type {\n",
       "        vertical-align: middle;\n",
       "    }\n",
       "\n",
       "    .dataframe tbody tr th {\n",
       "        vertical-align: top;\n",
       "    }\n",
       "\n",
       "    .dataframe thead th {\n",
       "        text-align: right;\n",
       "    }\n",
       "</style>\n",
       "<table border=\"1\" class=\"dataframe\">\n",
       "  <thead>\n",
       "    <tr style=\"text-align: right;\">\n",
       "      <th></th>\n",
       "      <th>payment_type_id</th>\n",
       "      <th>internet_service_type_id</th>\n",
       "      <th>contract_type_id</th>\n",
       "      <th>customer_id</th>\n",
       "      <th>gender</th>\n",
       "      <th>senior_citizen</th>\n",
       "      <th>partner</th>\n",
       "      <th>dependents</th>\n",
       "      <th>tenure</th>\n",
       "      <th>phone_service</th>\n",
       "      <th>...</th>\n",
       "      <th>tech_support</th>\n",
       "      <th>streaming_tv</th>\n",
       "      <th>streaming_movies</th>\n",
       "      <th>paperless_billing</th>\n",
       "      <th>monthly_charges</th>\n",
       "      <th>total_charges</th>\n",
       "      <th>churn</th>\n",
       "      <th>contract_type</th>\n",
       "      <th>internet_service_type</th>\n",
       "      <th>payment_type</th>\n",
       "    </tr>\n",
       "  </thead>\n",
       "  <tbody>\n",
       "    <tr>\n",
       "      <th>0</th>\n",
       "      <td>2</td>\n",
       "      <td>1</td>\n",
       "      <td>2</td>\n",
       "      <td>0002-ORFBO</td>\n",
       "      <td>Female</td>\n",
       "      <td>0</td>\n",
       "      <td>Yes</td>\n",
       "      <td>Yes</td>\n",
       "      <td>9</td>\n",
       "      <td>Yes</td>\n",
       "      <td>...</td>\n",
       "      <td>Yes</td>\n",
       "      <td>Yes</td>\n",
       "      <td>No</td>\n",
       "      <td>Yes</td>\n",
       "      <td>65.6</td>\n",
       "      <td>593.3</td>\n",
       "      <td>No</td>\n",
       "      <td>One year</td>\n",
       "      <td>DSL</td>\n",
       "      <td>Mailed check</td>\n",
       "    </tr>\n",
       "  </tbody>\n",
       "</table>\n",
       "<p>1 rows × 24 columns</p>\n",
       "</div>"
      ],
      "text/plain": [
       "   payment_type_id  internet_service_type_id  contract_type_id customer_id  \\\n",
       "0                2                         1                 2  0002-ORFBO   \n",
       "\n",
       "   gender  senior_citizen partner dependents  tenure phone_service  ...  \\\n",
       "0  Female               0     Yes        Yes       9           Yes  ...   \n",
       "\n",
       "  tech_support streaming_tv streaming_movies paperless_billing  \\\n",
       "0          Yes          Yes               No               Yes   \n",
       "\n",
       "  monthly_charges total_charges churn contract_type  internet_service_type  \\\n",
       "0            65.6         593.3    No      One year                    DSL   \n",
       "\n",
       "   payment_type  \n",
       "0  Mailed check  \n",
       "\n",
       "[1 rows x 24 columns]"
      ]
     },
     "execution_count": 5,
     "metadata": {},
     "output_type": "execute_result"
    }
   ],
   "source": [
    "# Import acquired messy data\n",
    "telco = acquire.get_telco_data()\n",
    "# Lets take a quick peak\n",
    "telco.head(1)"
   ]
  },
  {
   "cell_type": "markdown",
   "id": "impossible-bible",
   "metadata": {},
   "source": [
    "## Prepare\n",
    "\n",
    "Prepare Actions:\n",
    "\n",
    "- Removed columns that did not contain useful information (payment_type_id, internet_service_type_id, contract type_id etc.)\n",
    "- Checked for nulls in the data and dropped null values stored as white space\n",
    "- Checked that column data types were appropriate and had to change total_charges to from object to a float\n",
    "- Converted binary categorical variables to numeric (yes/no & male/female)\n",
    "- Added dummy variables for the non-binary categorical variables and then concatenated them to the original dataframe\n",
    "- Split data into train, validate and test, stratifying on 'churn'"
   ]
  },
  {
   "cell_type": "code",
   "execution_count": 6,
   "id": "flexible-irrigation",
   "metadata": {},
   "outputs": [
    {
     "data": {
      "text/html": [
       "<div>\n",
       "<style scoped>\n",
       "    .dataframe tbody tr th:only-of-type {\n",
       "        vertical-align: middle;\n",
       "    }\n",
       "\n",
       "    .dataframe tbody tr th {\n",
       "        vertical-align: top;\n",
       "    }\n",
       "\n",
       "    .dataframe thead th {\n",
       "        text-align: right;\n",
       "    }\n",
       "</style>\n",
       "<table border=\"1\" class=\"dataframe\">\n",
       "  <thead>\n",
       "    <tr style=\"text-align: right;\">\n",
       "      <th></th>\n",
       "      <th>customer_id</th>\n",
       "      <th>senior_citizen</th>\n",
       "      <th>tenure</th>\n",
       "      <th>monthly_charges</th>\n",
       "      <th>total_charges</th>\n",
       "      <th>contract_type</th>\n",
       "      <th>internet_service_type</th>\n",
       "      <th>churn_Yes</th>\n",
       "      <th>gender_Male</th>\n",
       "      <th>partner_Yes</th>\n",
       "      <th>...</th>\n",
       "      <th>contract_type_Month-to-month</th>\n",
       "      <th>contract_type_One year</th>\n",
       "      <th>contract_type_Two year</th>\n",
       "      <th>internet_service_type_DSL</th>\n",
       "      <th>internet_service_type_Fiber optic</th>\n",
       "      <th>internet_service_type_None</th>\n",
       "      <th>payment_type_Bank transfer (automatic)</th>\n",
       "      <th>payment_type_Credit card (automatic)</th>\n",
       "      <th>payment_type_Electronic check</th>\n",
       "      <th>payment_type_Mailed check</th>\n",
       "    </tr>\n",
       "  </thead>\n",
       "  <tbody>\n",
       "    <tr>\n",
       "      <th>0</th>\n",
       "      <td>0002-ORFBO</td>\n",
       "      <td>0</td>\n",
       "      <td>9</td>\n",
       "      <td>65.6</td>\n",
       "      <td>593.3</td>\n",
       "      <td>One year</td>\n",
       "      <td>DSL</td>\n",
       "      <td>0</td>\n",
       "      <td>0</td>\n",
       "      <td>1</td>\n",
       "      <td>...</td>\n",
       "      <td>0</td>\n",
       "      <td>1</td>\n",
       "      <td>0</td>\n",
       "      <td>1</td>\n",
       "      <td>0</td>\n",
       "      <td>0</td>\n",
       "      <td>0</td>\n",
       "      <td>0</td>\n",
       "      <td>0</td>\n",
       "      <td>1</td>\n",
       "    </tr>\n",
       "  </tbody>\n",
       "</table>\n",
       "<p>1 rows × 30 columns</p>\n",
       "</div>"
      ],
      "text/plain": [
       "  customer_id  senior_citizen  tenure  monthly_charges  total_charges  \\\n",
       "0  0002-ORFBO               0       9             65.6          593.3   \n",
       "\n",
       "  contract_type internet_service_type  churn_Yes  gender_Male  partner_Yes  \\\n",
       "0      One year                   DSL          0            0            1   \n",
       "\n",
       "   ...  contract_type_Month-to-month  contract_type_One year  \\\n",
       "0  ...                             0                       1   \n",
       "\n",
       "   contract_type_Two year  internet_service_type_DSL  \\\n",
       "0                       0                          1   \n",
       "\n",
       "   internet_service_type_Fiber optic  internet_service_type_None  \\\n",
       "0                                  0                           0   \n",
       "\n",
       "   payment_type_Bank transfer (automatic)  \\\n",
       "0                                       0   \n",
       "\n",
       "   payment_type_Credit card (automatic)  payment_type_Electronic check  \\\n",
       "0                                     0                              0   \n",
       "\n",
       "   payment_type_Mailed check  \n",
       "0                          1  \n",
       "\n",
       "[1 rows x 30 columns]"
      ]
     },
     "execution_count": 6,
     "metadata": {},
     "output_type": "execute_result"
    }
   ],
   "source": [
    "# Import prepare function to clean data \n",
    "telco = prepare.prep_telco(telco)\n",
    "# Quick peak into the cleaned data\n",
    "telco.head(1)"
   ]
  },
  {
   "cell_type": "markdown",
   "id": "a07d7a97",
   "metadata": {},
   "source": [
    "| Feature | Definition |\n",
    "|:--------|:-----------|\n",
    "|gender|Specifies if male or female|\n",
    "|senior_citizen|True or False, specifies if senior citizen or not|\n",
    "|partner|True or False, specifies if customer has partner or not|\n",
    "|dependents|True or False, specifies if customer has partner or not|\n",
    "|tenure|Integer, how many months the customer has been with Telco|\n",
    "|phone_service|Yes or No, specifies if customer has phone service|\n",
    "|multiple_lines|Yes or No, specifies if customer has multiple lines|\n",
    "|online_security|Yes or No, specifies if customer has online security|\n",
    "|online_backup|Yes or No, specifies if customer has online backup|\n",
    "|device_protection|Yes or No, specifies if customer has device protection|\n",
    "|tech_support|Yes or No, specifies if customer has tech support|\n",
    "|streaming_tv|Yes or No, specifies if customer has streams tv|\n",
    "|streaming_movies|Yes or No, specifies if customer streams movies|\n",
    "|paperless_billing|Yes or No, specifies if customer has paperless billing|\n",
    "|monthly_charges|Charges in a month, measured in dollars|\n",
    "|total_charges|Total charges overal, measured in dollars|\n",
    "|churn|The word used to define if a customer has left Telco|\n",
    "|contract_type|Specifies contract type, month-to-month, two-year, one-year|\n",
    "|payment_type|Specifies payment type, electronic check, mailed check, bank transfer, credit card|\n",
    "|internet_service_type|Specifies internet service type, fiber optic, dsl, or none|"
   ]
  },
  {
   "cell_type": "code",
   "execution_count": 7,
   "id": "6804db8a",
   "metadata": {},
   "outputs": [
    {
     "data": {
      "text/plain": [
       "((4225, 30), (1409, 30), (1409, 30))"
      ]
     },
     "execution_count": 7,
     "metadata": {},
     "output_type": "execute_result"
    }
   ],
   "source": [
    "# splitting data into train, validate, and test\n",
    "train, val, test = prepare.my_train_test_split(telco, 'churn_Yes')\n",
    "# lets see the shape of these\n",
    "train.shape, val.shape, test.shape"
   ]
  },
  {
   "cell_type": "markdown",
   "id": "0b767e53",
   "metadata": {},
   "source": [
    "# Explore"
   ]
  },
  {
   "cell_type": "markdown",
   "id": "e04c3c0e",
   "metadata": {},
   "source": [
    "## Are customers with Tech Support more or less likely to churn?"
   ]
  },
  {
   "cell_type": "code",
   "execution_count": 39,
   "id": "e49e4d2c",
   "metadata": {},
   "outputs": [
    {
     "data": {
      "text/plain": [
       "<matplotlib.legend.Legend at 0x7fa71c95a8e0>"
      ]
     },
     "execution_count": 39,
     "metadata": {},
     "output_type": "execute_result"
    },
    {
     "data": {
      "image/png": "[encoded data removed]",
      "text/plain": [
       "<Figure size 640x480 with 1 Axes>"
      ]
     },
     "metadata": {},
     "output_type": "display_data"
    }
   ],
   "source": [
    "# using a countplot to give a visual \n",
    "sns.set_theme(style=\"whitegrid\")\n",
    "sns.countplot(data=train, x=\"churn_Yes\", hue=\"tech_support_Yes\")\n",
    "#labels and legend\n",
    "plt.title('Tech Support')\n",
    "plt.xlabel('Did They Churn?')\n",
    "plt.ylabel('# of Customers')\n",
    "plt.legend('TN')"
   ]
  },
  {
   "cell_type": "markdown",
   "id": "f746c544",
   "metadata": {},
   "source": [
    "#### My takeaway from this is that there appears to be a relationship between having tech support and churn.  The more Tech support, less likely the churn rate. \n",
    "  \n",
    "  \n",
    "##### For this question, there are two categorical variables at hand so a a chi-square test seems appropiate to determine if there is a relationship.\n",
    "\n",
    "#### My H_o (Null Hypothesis): is that there is no significant relationship between churn and tech support\n",
    "\n",
    "#### My H_a (Alternative Hypothesis): is that there is a relationship of significance."
   ]
  },
  {
   "cell_type": "code",
   "execution_count": 20,
   "id": "81aea398",
   "metadata": {},
   "outputs": [
    {
     "name": "stdout",
     "output_type": "stream",
     "text": [
      "chi^2: 98.23088931064383\n",
      "p value: 3.7233642021021574e-23\n"
     ]
    }
   ],
   "source": [
    "# observed data for chi-square test\n",
    "observed1 = pd.crosstab(train.tech_support_Yes, train.churn_Yes)\n",
    "observed1\n",
    "# do not forget alpha\n",
    "alpha = .05\n",
    "\n",
    "chi2, p, degf, expected = stats.chi2_contingency(observed1)\n",
    "# clean f strings\n",
    "print(f\"chi^2: {chi2}\")\n",
    "print(f\"p value: {p}\")"
   ]
  },
  {
   "cell_type": "markdown",
   "id": "286f3149",
   "metadata": {},
   "source": [
    "#### My p-value is very small, so we reject our null hypothesis. We can say with confidence that there is sigificance in the relationship between churn and Tech Support. This makes an adequate driver to model."
   ]
  },
  {
   "cell_type": "markdown",
   "id": "9e37d3e0",
   "metadata": {},
   "source": [
    "## What contract type churns the most?"
   ]
  },
  {
   "cell_type": "code",
   "execution_count": 11,
   "id": "902fca1a",
   "metadata": {},
   "outputs": [
    {
     "data": {
      "text/plain": [
       "<matplotlib.legend.Legend at 0x7fa71ac7bd00>"
      ]
     },
     "execution_count": 11,
     "metadata": {},
     "output_type": "execute_result"
    },
    {
     "data": {
      "image/png": "[encoded data removed]",
      "text/plain": [
       "<Figure size 640x480 with 1 Axes>"
      ]
     },
     "metadata": {},
     "output_type": "display_data"
    }
   ],
   "source": [
    "# trusty count plot for visual\n",
    "sns.set_theme(style=\"whitegrid\")\n",
    "sns.countplot(data=train, x=\"churn_Yes\", hue=\"contract_type\")\n",
    "#labels and legend\n",
    "plt.title('Types of Contracts')\n",
    "plt.xlabel('Churn')\n",
    "plt.ylabel('# of Customers')\n",
    "plt.legend()"
   ]
  },
  {
   "cell_type": "markdown",
   "id": "33442dc7",
   "metadata": {},
   "source": [
    "#### My takeaway from this is (visually) there seems to be a big churn rate when a customer has a month-to-month contract versus other contracts. It is also the most popular contract type.\n",
    "\n",
    "#### H_o (Null Hypothesis): contract type is independent of churn.\n",
    "\n",
    "#### H_a (Alternative Hypothesis): contract is dependent on churn."
   ]
  },
  {
   "cell_type": "code",
   "execution_count": 21,
   "id": "cb3ceed6",
   "metadata": {},
   "outputs": [
    {
     "name": "stdout",
     "output_type": "stream",
     "text": [
      "chi^2: 703.7870674341639\n",
      "p value: 1.4947896745220748e-153\n"
     ]
    }
   ],
   "source": [
    "# observed data for chi-square test\n",
    "observed2 = pd.crosstab(train.contract_type, train.churn_Yes)\n",
    "observed2\n",
    "# do not forget alpha\n",
    "alpha = .05\n",
    "\n",
    "chi2, p, degf, expected = stats.chi2_contingency(observed2)\n",
    "# clean f strings\n",
    "print(f\"chi^2: {chi2}\")\n",
    "print(f\"p value: {p}\")"
   ]
  },
  {
   "cell_type": "markdown",
   "id": "a7c53fb0",
   "metadata": {},
   "source": [
    "#### My p-value is very small, so we reject our null hypothesis. We can say with confidence that there is sigificance in the relationship between churn and contract type month-to-month. This makes another adequate driver to model."
   ]
  },
  {
   "cell_type": "markdown",
   "id": "0525bc7f",
   "metadata": {},
   "source": [
    "## Does being a senior citizen have an affect on churn?"
   ]
  },
  {
   "cell_type": "code",
   "execution_count": 13,
   "id": "34352c9c",
   "metadata": {},
   "outputs": [
    {
     "data": {
      "text/plain": [
       "<matplotlib.legend.Legend at 0x7fa71b998370>"
      ]
     },
     "execution_count": 13,
     "metadata": {},
     "output_type": "execute_result"
    },
    {
     "data": {
      "image/png": "[encoded data removed]",
      "text/plain": [
       "<Figure size 640x480 with 1 Axes>"
      ]
     },
     "metadata": {},
     "output_type": "display_data"
    }
   ],
   "source": [
    "sns.set_theme(style=\"whitegrid\")\n",
    "sns.countplot(data=train, x=\"churn_Yes\", hue=\"senior_citizen\")\n",
    "#labels and legend\n",
    "plt.title('The Dinosaurs')\n",
    "plt.xlabel('Churn')\n",
    "plt.ylabel('# of Customers')\n",
    "plt.legend()"
   ]
  },
  {
   "cell_type": "markdown",
   "id": "230798e2",
   "metadata": {},
   "source": [
    "#### My takeaway here is that the senior citizens churn at a lower rate than their younger counter parts. I think we will investigate the question of whether being a senior citizen is independent of churn with a chi-square test.\n",
    "\n",
    "#### H_o (Null Hypothesis): senior citizen is independent of churn.\n",
    "\n",
    "#### H_a (Alternative Hypothesis): senior citizen is dependent on churn."
   ]
  },
  {
   "cell_type": "code",
   "execution_count": 22,
   "id": "3af9eb2d",
   "metadata": {},
   "outputs": [
    {
     "name": "stdout",
     "output_type": "stream",
     "text": [
      "chi^2: 80.79361466512287\n",
      "p value: 2.505662983276272e-19\n"
     ]
    }
   ],
   "source": [
    "# trusted chi-square test\n",
    "observed3 = pd.crosstab(train.senior_citizen, train.churn_Yes)\n",
    "observed3\n",
    "# do not forget alpha\n",
    "alpha = .05\n",
    "\n",
    "chi2, p, degf, expected = stats.chi2_contingency(observed3)\n",
    "# clean f strings\n",
    "print(f\"chi^2: {chi2}\")\n",
    "print(f\"p value: {p}\")"
   ]
  },
  {
   "cell_type": "markdown",
   "id": "290a1891",
   "metadata": {},
   "source": [
    "#### My p-value is very small, so we reject our null hypothesis. We can say with confidence that there is sigificance in the relationship between churn and being a senior citizen. This could make a driver, but people cannot choose their age."
   ]
  },
  {
   "cell_type": "markdown",
   "id": "9ce60dd9",
   "metadata": {},
   "source": [
    "## Do customers who churn have paperless billing?"
   ]
  },
  {
   "cell_type": "code",
   "execution_count": 16,
   "id": "8b9f105c",
   "metadata": {},
   "outputs": [
    {
     "data": {
      "text/plain": [
       "<matplotlib.legend.Legend at 0x7fa71b9d8790>"
      ]
     },
     "execution_count": 16,
     "metadata": {},
     "output_type": "execute_result"
    },
    {
     "data": {
      "image/png": "[encoded data removed]",
      "text/plain": [
       "<Figure size 640x480 with 1 Axes>"
      ]
     },
     "metadata": {},
     "output_type": "display_data"
    }
   ],
   "source": [
    "# count plot\n",
    "sns.set_theme(style=\"whitegrid\")\n",
    "sns.countplot(data=train, x=\"churn_Yes\", hue=\"paperless_billing_Yes\")\n",
    "# title and legend\n",
    "plt.title('Paperless')\n",
    "plt.xlabel('Churn')\n",
    "plt.ylabel('# of Customers')\n",
    "plt.legend()"
   ]
  },
  {
   "cell_type": "markdown",
   "id": "4adbd11c",
   "metadata": {},
   "source": [
    "#### Initially, I thought paperless billing would churn at a lower rate but it appears the actual takeaway is paperless billing customer tend to churn more than one who prefer practice their handwriting.\n",
    "\n",
    "#### H_o (Null Hypothesis): paperless billing is independent of churn.\n",
    "\n",
    "#### H_a (Alternative Hypothesis): paperless is dependent on churn."
   ]
  },
  {
   "cell_type": "code",
   "execution_count": 23,
   "id": "ffea8f55",
   "metadata": {},
   "outputs": [
    {
     "name": "stdout",
     "output_type": "stream",
     "text": [
      "chi^2: 148.58446697144495\n",
      "p value: 3.5348504574964642e-34\n"
     ]
    }
   ],
   "source": [
    "observed4 = pd.crosstab(train.paperless_billing_Yes, train.churn_Yes)\n",
    "observed4\n",
    "# do not forget alpha\n",
    "alpha = .05\n",
    "\n",
    "chi2, p, degf, expected = stats.chi2_contingency(observed4)\n",
    "# clean f strings\n",
    "print(f\"chi^2: {chi2}\")\n",
    "print(f\"p value: {p}\")"
   ]
  },
  {
   "cell_type": "markdown",
   "id": "79d3edd7",
   "metadata": {},
   "source": [
    "#### My p-value is very small, so we reject our null hypothesis. We can say with confidence that there is sigificance in the relationship between churn and having paperless billing. This makes another driver to model."
   ]
  },
  {
   "cell_type": "markdown",
   "id": "iraqi-sellers",
   "metadata": {},
   "source": [
    "# Exploration Summary\n",
    "\n",
    "- Tech Support was found to be a driver of churn\n",
    "- Contract type month-to-month was found to be a big driver of churn\n",
    "- Senior citizen status was found to have a relationship with churn, but I decided against using it as a driver as people cannot choose their age. \n",
    "- Paperless billing was found to be a driver of churn"
   ]
  },
  {
   "cell_type": "markdown",
   "id": "minus-tulsa",
   "metadata": {},
   "source": [
    "# Modeling"
   ]
  },
  {
   "cell_type": "markdown",
   "id": "hydraulic-spectrum",
   "metadata": {},
   "source": [
    "- I ran the Decision Tree, Random Forest, KNN, and Logistic Regression algorithms to see what fit the data best .\n",
    "- The evaluation metric used was accuracy, as I wanted to focus on accuracy over the other metrics.\n",
    "\n",
    "- The basline accuracy is calculated by finding the outcome that occurs most frequent and create a column. You then divide the mean of the baseline column.\n"
   ]
  },
  {
   "cell_type": "code",
   "execution_count": 43,
   "id": "ranging-rebecca",
   "metadata": {},
   "outputs": [
    {
     "name": "stdout",
     "output_type": "stream",
     "text": [
      "Baseline: 73.46%\n"
     ]
    }
   ],
   "source": [
    "# code to generate baseline \n",
    "telco['baseline'] = telco['churn_Yes'].value_counts().idxmax()\n",
    "(telco['churn_Yes'] == telco['baseline']).mean()\n",
    "# clean f string\n",
    "print(f\"Baseline: {(telco['churn_Yes'] == telco['baseline']).mean()*100:.2f}%\")"
   ]
  },
  {
   "cell_type": "code",
   "execution_count": 9,
   "id": "f269133f",
   "metadata": {},
   "outputs": [],
   "source": [
    "# lets prep for modeling\n",
    "X_train = train.drop(columns=['churn_Yes', 'contract_type', 'customer_id', 'internet_service_type'])\n",
    "y_train = train.churn_Yes\n",
    "\n",
    "X_val = val.drop(columns=['churn_Yes', 'contract_type', 'customer_id', 'internet_service_type'])\n",
    "y_val = val.churn_Yes\n",
    "\n",
    "X_test = test.drop(columns=['churn_Yes', 'contract_type', 'customer_id', 'internet_service_type'])\n",
    "y_test = test.churn_Yes\n",
    "#dont forget the seed\n",
    "seed=42"
   ]
  },
  {
   "cell_type": "markdown",
   "id": "e0f16105",
   "metadata": {},
   "source": [
    "# Random Forest - Model 1"
   ]
  },
  {
   "cell_type": "code",
   "execution_count": 13,
   "id": "8375f478",
   "metadata": {},
   "outputs": [
    {
     "name": "stdout",
     "output_type": "stream",
     "text": [
      "Random Forest Model\n",
      "Accuracy of Random Forest on train data: 0.8333727810650887\n",
      "Accuracy of Random Forest on validate: 0.8048261178140526\n"
     ]
    }
   ],
   "source": [
    "# random forest algorithm \n",
    "rf3 = RandomForestClassifier(max_depth=8, random_state=42,\n",
    "                            max_samples=0.5)\n",
    "#fit it \n",
    "rf3.fit(X_train, y_train)\n",
    "# clean f string\n",
    "print('Random Forest Model')\n",
    "print(f\"Accuracy of Random Forest on train data: {rf3.score(X_train, y_train)}\") \n",
    "print(f\"Accuracy of Random Forest on validate: {rf3.score(X_val, y_val)}\")"
   ]
  },
  {
   "cell_type": "markdown",
   "id": "e836a4e2",
   "metadata": {},
   "source": [
    "# Logistic Regression - Model 2"
   ]
  },
  {
   "cell_type": "code",
   "execution_count": 18,
   "id": "e6255c50",
   "metadata": {},
   "outputs": [
    {
     "name": "stdout",
     "output_type": "stream",
     "text": [
      "Logistic Regression Model\n",
      "Accuracy of Logistic Regression on train: 0.8009467455621302\n",
      "Accuracy of Logistic Regression on validate: 0.8168914123491838\n"
     ]
    }
   ],
   "source": [
    "# Logistic Regression algorithm\n",
    "logit2 = LogisticRegression(C=.1, random_state=42, \n",
    "                           intercept_scaling=1, solver='lbfgs')\n",
    "\n",
    "#fit the model\n",
    "logit2.fit(X_train, y_train)\n",
    "#clean f string\n",
    "print('Logistic Regression Model')\n",
    "print(f\"Accuracy of Logistic Regression on train: {logit2.score(X_train, y_train)}\") \n",
    "print(f\"Accuracy of Logistic Regression on validate: {logit2.score(X_val, y_val)}\")"
   ]
  },
  {
   "cell_type": "markdown",
   "id": "8c954780",
   "metadata": {},
   "source": [
    "# KNN - Model 3"
   ]
  },
  {
   "cell_type": "code",
   "execution_count": 19,
   "id": "763f52a6",
   "metadata": {},
   "outputs": [
    {
     "name": "stdout",
     "output_type": "stream",
     "text": [
      "KNN Model\n",
      "Accuracy of KNN on train: 0.8565680473372781\n",
      "Accuracy of KNN on validate: 0.7622427253371186\n"
     ]
    }
   ],
   "source": [
    "# K nearest neighbor algorithm\n",
    "\n",
    "knn3 = KNeighborsClassifier(n_neighbors=3)\n",
    "knn3.fit(X_train, y_train)\n",
    "knn3.score(X_train, y_train)\n",
    "knn3.score(X_val, y_val)\n",
    "# clean f string\n",
    "print('KNN Model')\n",
    "print(f\"Accuracy of KNN on train: {knn3.score(X_train, y_train)}\") \n",
    "print(f\"Accuracy of KNN on validate: {knn3.score(X_val, y_val)}\")"
   ]
  },
  {
   "cell_type": "markdown",
   "id": "regulated-fellowship",
   "metadata": {},
   "source": [
    "### Test Model\n",
    "* I am choosing the Random Forest Model as it has the highest accuracy.\n",
    "* I will now run my model on the test data to gauge how it will perform on unseen data."
   ]
  },
  {
   "cell_type": "code",
   "execution_count": 24,
   "id": "optical-quilt",
   "metadata": {},
   "outputs": [
    {
     "name": "stdout",
     "output_type": "stream",
     "text": [
      "Random Forest Model\n",
      "Accuracy on Test 0.82\n"
     ]
    }
   ],
   "source": [
    "# best Logistic Regression algorithm \n",
    "\n",
    "test_score = logit2.score(X_test, y_test)\n",
    "\n",
    "# clean f string\n",
    "print('Random Forest Model')\n",
    "print(f'Accuracy on Test {test_score:.2f}')"
   ]
  },
  {
   "cell_type": "markdown",
   "id": "bright-evans",
   "metadata": {},
   "source": [
    "### Modeling Wrap \n",
    "\n",
    "- Logistic Regression Test score outperforms the baseline and I would reccomend this model for production, as it beat the baseline by almost 8%\n"
   ]
  },
  {
   "cell_type": "markdown",
   "id": "tutorial-twelve",
   "metadata": {},
   "source": [
    "## Conclusion\n",
    "\n",
    "### Summary\n",
    "- Customers with tech support are less likely to churn\n",
    "\n",
    "- The biggest driver of churn appears to be contract type. Customers who have month-to-month contracts churn at a rate just over 40%\n",
    "\n",
    "- Paperless billing does not appear to have a big affect on churn rate.\n",
    "\n",
    "- Age does not appear to have a significant affect on churn.\n",
    "\n",
    "### Recommendations\n",
    "- Creating a savings bundle (like some insurance companies) for customers who have multiple products can help incentivize using more services.\n",
    "- Use Tech Support as a priority and differentiator for not only customer service, but for aquiring customer trust\n",
    "- Give incentives to month-to-month contracts as it is the most popular contract type that churns. Incentives could include (for example) a temporarily free service such as Tech Support or if they were to go paperless with an app we could apply a discount while also collecting customer data to help with furture data science solutions.\n",
    "\n",
    "### Next Steps  \n",
    "* If provided more time to work on this project I would take a longer look at hyperparameters in my models to help optimize the accuracy and I would also take a dive into age and paperless billing and if there is a relationship."
   ]
  },
  {
   "cell_type": "code",
   "execution_count": null,
   "id": "98ec824c",
   "metadata": {},
   "outputs": [],
   "source": []
  }
 ],
 "metadata": {
  "kernelspec": {
   "display_name": "Python 3 (ipykernel)",
   "language": "python",
   "name": "python3"
  },
  "language_info": {
   "codemirror_mode": {
    "name": "ipython",
    "version": 3
   },
   "file_extension": ".py",
   "mimetype": "text/x-python",
   "name": "python",
   "nbconvert_exporter": "python",
   "pygments_lexer": "ipython3",
   "version": "3.9.13"
  }
 },
 "nbformat": 4,
 "nbformat_minor": 5
}
